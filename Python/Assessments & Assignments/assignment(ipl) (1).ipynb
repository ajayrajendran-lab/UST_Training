{
 "cells": [
  {
   "cell_type": "code",
   "execution_count": 2,
   "id": "52d16ec1-9a3f-4dbc-9c0d-f18871accf34",
   "metadata": {},
   "outputs": [
    {
     "name": "stdout",
     "output_type": "stream",
     "text": [
      "           id  season        city        date   match_type  player_of_match  \\\n",
      "0      335982    2008   Bangalore  2008-04-18       League      BB McCullum   \n",
      "1      335983    2008  Chandigarh  2008-04-19       League       MEK Hussey   \n",
      "2      335984    2008       Delhi  2008-04-19       League      MF Maharoof   \n",
      "3      335985    2008      Mumbai  2008-04-20       League       MV Boucher   \n",
      "4      335986    2008     Kolkata  2008-04-20       League        DJ Hussey   \n",
      "...       ...     ...         ...         ...          ...              ...   \n",
      "1090  1426307    2024   Hyderabad  2024-05-19       League  Abhishek Sharma   \n",
      "1091  1426309    2024   Ahmedabad  2024-05-21  Qualifier 1         MA Starc   \n",
      "1092  1426310    2024   Ahmedabad  2024-05-22   Eliminator         R Ashwin   \n",
      "1093  1426311    2024     Chennai  2024-05-24  Qualifier 2    Shahbaz Ahmed   \n",
      "1094  1426312    2024     Chennai  2024-05-26        Final         MA Starc   \n",
      "\n",
      "                                                  venue  \\\n",
      "0                                 M Chinnaswamy Stadium   \n",
      "1            Punjab Cricket Association Stadium, Mohali   \n",
      "2                                      Feroz Shah Kotla   \n",
      "3                                      Wankhede Stadium   \n",
      "4                                          Eden Gardens   \n",
      "...                                                 ...   \n",
      "1090  Rajiv Gandhi International Stadium, Uppal, Hyd...   \n",
      "1091                   Narendra Modi Stadium, Ahmedabad   \n",
      "1092                   Narendra Modi Stadium, Ahmedabad   \n",
      "1093           MA Chidambaram Stadium, Chepauk, Chennai   \n",
      "1094           MA Chidambaram Stadium, Chepauk, Chennai   \n",
      "\n",
      "                            team1                        team2  \\\n",
      "0     Royal Challengers Bangalore        Kolkata Knight Riders   \n",
      "1                 Kings XI Punjab          Chennai Super Kings   \n",
      "2                Delhi Daredevils             Rajasthan Royals   \n",
      "3                  Mumbai Indians  Royal Challengers Bangalore   \n",
      "4           Kolkata Knight Riders              Deccan Chargers   \n",
      "...                           ...                          ...   \n",
      "1090                 Punjab Kings          Sunrisers Hyderabad   \n",
      "1091          Sunrisers Hyderabad        Kolkata Knight Riders   \n",
      "1092  Royal Challengers Bengaluru             Rajasthan Royals   \n",
      "1093          Sunrisers Hyderabad             Rajasthan Royals   \n",
      "1094          Sunrisers Hyderabad        Kolkata Knight Riders   \n",
      "\n",
      "                      toss_winner toss_decision                       winner  \\\n",
      "0     Royal Challengers Bangalore         field        Kolkata Knight Riders   \n",
      "1             Chennai Super Kings           bat          Chennai Super Kings   \n",
      "2                Rajasthan Royals           bat             Delhi Daredevils   \n",
      "3                  Mumbai Indians           bat  Royal Challengers Bangalore   \n",
      "4                 Deccan Chargers           bat        Kolkata Knight Riders   \n",
      "...                           ...           ...                          ...   \n",
      "1090                 Punjab Kings           bat          Sunrisers Hyderabad   \n",
      "1091          Sunrisers Hyderabad           bat        Kolkata Knight Riders   \n",
      "1092             Rajasthan Royals         field             Rajasthan Royals   \n",
      "1093             Rajasthan Royals         field          Sunrisers Hyderabad   \n",
      "1094          Sunrisers Hyderabad           bat        Kolkata Knight Riders   \n",
      "\n",
      "       result  result_margin  target_runs  target_overs super_over method  \\\n",
      "0        runs          140.0        223.0          20.0          N    NaN   \n",
      "1        runs           33.0        241.0          20.0          N    NaN   \n",
      "2     wickets            9.0        130.0          20.0          N    NaN   \n",
      "3     wickets            5.0        166.0          20.0          N    NaN   \n",
      "4     wickets            5.0        111.0          20.0          N    NaN   \n",
      "...       ...            ...          ...           ...        ...    ...   \n",
      "1090  wickets            4.0        215.0          20.0          N    NaN   \n",
      "1091  wickets            8.0        160.0          20.0          N    NaN   \n",
      "1092  wickets            4.0        173.0          20.0          N    NaN   \n",
      "1093     runs           36.0        176.0          20.0          N    NaN   \n",
      "1094  wickets            8.0        114.0          20.0          N    NaN   \n",
      "\n",
      "                    umpire1               umpire2  \n",
      "0                 Asad Rauf           RE Koertzen  \n",
      "1                 MR Benson            SL Shastri  \n",
      "2                 Aleem Dar        GA Pratapkumar  \n",
      "3                  SJ Davis             DJ Harper  \n",
      "4                 BF Bowden           K Hariharan  \n",
      "...                     ...                   ...  \n",
      "1090            Nitin Menon             VK Sharma  \n",
      "1091           AK Chaudhary              R Pandit  \n",
      "1092  KN Ananthapadmanabhan  MV Saidharshan Kumar  \n",
      "1093            Nitin Menon             VK Sharma  \n",
      "1094          J Madanagopal           Nitin Menon  \n",
      "\n",
      "[1095 rows x 20 columns]\n"
     ]
    }
   ],
   "source": [
    "import pandas as pd\n",
    "ipldf=pd.read_csv(r\"\\Users\\Administrator\\Desktop\\Training\\matches_2008-2024.csv\")\n",
    "print(ipldf)"
   ]
  },
  {
   "cell_type": "markdown",
   "id": "4bc3394a-0ebf-41f6-bd00-d878da769348",
   "metadata": {},
   "source": [
    "Which team wins most number of matches"
   ]
  },
  {
   "cell_type": "code",
   "execution_count": 3,
   "id": "a305e796-4003-4b75-8780-57a48400af10",
   "metadata": {},
   "outputs": [
    {
     "name": "stdout",
     "output_type": "stream",
     "text": [
      "winner\n",
      "Mumbai Indians                 144\n",
      "Chennai Super Kings            138\n",
      "Kolkata Knight Riders          131\n",
      "Royal Challengers Bangalore    116\n",
      "Rajasthan Royals               112\n",
      "Sunrisers Hyderabad             88\n",
      "Kings XI Punjab                 88\n",
      "Delhi Daredevils                67\n",
      "Delhi Capitals                  48\n",
      "Deccan Chargers                 29\n",
      "Gujarat Titans                  28\n",
      "Punjab Kings                    24\n",
      "Lucknow Super Giants            24\n",
      "Gujarat Lions                   13\n",
      "Pune Warriors                   12\n",
      "Rising Pune Supergiant          10\n",
      "Royal Challengers Bengaluru      7\n",
      "Kochi Tuskers Kerala             6\n",
      "Rising Pune Supergiants          5\n",
      "Name: count, dtype: int64\n"
     ]
    }
   ],
   "source": [
    "team_wins = ipldf['winner'].value_counts()\n",
    "print(team_wins)"
   ]
  },
  {
   "cell_type": "code",
   "execution_count": 4,
   "id": "72a25ae8-48aa-42c2-921c-7dfb0b582998",
   "metadata": {},
   "outputs": [
    {
     "name": "stdout",
     "output_type": "stream",
     "text": [
      "144\n"
     ]
    }
   ],
   "source": [
    "max_wins = team_wins.max()\n",
    "print(max_wins)"
   ]
  },
  {
   "cell_type": "code",
   "execution_count": 5,
   "id": "0c9148c7-be34-4252-9e24-342453eafe6a",
   "metadata": {},
   "outputs": [
    {
     "name": "stdout",
     "output_type": "stream",
     "text": [
      "Mumbai Indians\n"
     ]
    }
   ],
   "source": [
    "max_wins_team_name=team_wins.idxmax()\n",
    "print(max_wins_team_name)"
   ]
  },
  {
   "cell_type": "markdown",
   "id": "c807d44f-ca0f-4663-837e-0438f0462995",
   "metadata": {},
   "source": [
    "Which player has the most 'Player of the Match' awards?"
   ]
  },
  {
   "cell_type": "code",
   "execution_count": 6,
   "id": "03b0f8ad-12db-477d-a208-7edd2f2695b4",
   "metadata": {},
   "outputs": [
    {
     "name": "stdout",
     "output_type": "stream",
     "text": [
      "AB de Villiers\n"
     ]
    }
   ],
   "source": [
    "player_of_the_match = ipldf['player_of_match'].value_counts()\n",
    "# print(player_of_the_match)\n",
    "top_player_of_the_match = player_of_the_match.idxmax()\n",
    "print(top_player_of_the_match)"
   ]
  },
  {
   "cell_type": "markdown",
   "id": "a3ad5c31-ff12-4f42-9b48-c918848ef543",
   "metadata": {},
   "source": [
    "No of times Virat Kohli becomes the Player of match?"
   ]
  },
  {
   "cell_type": "code",
   "execution_count": 7,
   "id": "5f36126e-6172-4ee1-aa6d-1b42b93e371f",
   "metadata": {},
   "outputs": [
    {
     "name": "stdout",
     "output_type": "stream",
     "text": [
      "player_of_match\n",
      "V Kohli            18\n",
      "Name: count, dtype: int64\n"
     ]
    }
   ],
   "source": [
    "player_of_the_match=ipldf[['player_of_match']][ipldf['player_of_match']==\"V Kohli\"].value_counts()\n",
    "print(player_of_the_match)"
   ]
  },
  {
   "cell_type": "markdown",
   "id": "22c8c4db-c4a1-444e-b050-6466606647fd",
   "metadata": {},
   "source": [
    "Which team has the best win percentage in the IPL?"
   ]
  },
  {
   "cell_type": "code",
   "execution_count": 8,
   "id": "fe20047c-a579-42fe-9206-12f6762b7805",
   "metadata": {},
   "outputs": [
    {
     "name": "stdout",
     "output_type": "stream",
     "text": [
      "Chennai Super Kings            238\n",
      "Deccan Chargers                 75\n",
      "Delhi Capitals                  91\n",
      "Delhi Daredevils               161\n",
      "Gujarat Lions                   30\n",
      "Gujarat Titans                  45\n",
      "Kings XI Punjab                190\n",
      "Kochi Tuskers Kerala            14\n",
      "Kolkata Knight Riders          251\n",
      "Lucknow Super Giants            44\n",
      "Mumbai Indians                 261\n",
      "Pune Warriors                   46\n",
      "Punjab Kings                    56\n",
      "Rajasthan Royals               221\n",
      "Rising Pune Supergiant          16\n",
      "Rising Pune Supergiants         14\n",
      "Royal Challengers Bangalore    240\n",
      "Royal Challengers Bengaluru     15\n",
      "Sunrisers Hyderabad            182\n",
      "Name: count, dtype: int64\n"
     ]
    }
   ],
   "source": [
    "total_matches_played = ipldf['team1'].value_counts() + ipldf['team2'].value_counts()\n",
    "print(total_matches_played)"
   ]
  },
  {
   "cell_type": "code",
   "execution_count": 9,
   "id": "37282d4e-191e-432d-979f-2856673d1e65",
   "metadata": {},
   "outputs": [
    {
     "name": "stdout",
     "output_type": "stream",
     "text": [
      "Chennai Super Kings            57.983193\n",
      "Deccan Chargers                38.666667\n",
      "Delhi Capitals                 52.747253\n",
      "Delhi Daredevils               41.614907\n",
      "Gujarat Lions                  43.333333\n",
      "Gujarat Titans                 62.222222\n",
      "Kings XI Punjab                46.315789\n",
      "Kochi Tuskers Kerala           42.857143\n",
      "Kolkata Knight Riders          52.191235\n",
      "Lucknow Super Giants           54.545455\n",
      "Mumbai Indians                 55.172414\n",
      "Pune Warriors                  26.086957\n",
      "Punjab Kings                   42.857143\n",
      "Rajasthan Royals               50.678733\n",
      "Rising Pune Supergiant         62.500000\n",
      "Rising Pune Supergiants        35.714286\n",
      "Royal Challengers Bangalore    48.333333\n",
      "Royal Challengers Bengaluru    46.666667\n",
      "Sunrisers Hyderabad            48.351648\n",
      "Name: count, dtype: float64\n"
     ]
    }
   ],
   "source": [
    "team_win_percentage = ipldf['winner'].value_counts() / total_matches_played * 100\n",
    "print(team_win_percentage)"
   ]
  },
  {
   "cell_type": "code",
   "execution_count": 24,
   "id": "18a35cab-98af-448b-974a-33b8baead2b3",
   "metadata": {},
   "outputs": [
    {
     "name": "stdout",
     "output_type": "stream",
     "text": [
      "Rising Pune Supergiant\n"
     ]
    }
   ],
   "source": [
    "best_win_percentage_team = team_win_percentage.idxmax()\n",
    "print(best_win_percentage_team)"
   ]
  },
  {
   "cell_type": "code",
   "execution_count": null,
   "id": "162e9f76-05b3-425d-bb96-e84357da1bd3",
   "metadata": {},
   "outputs": [],
   "source": [
    "Find which city hosted the most matches"
   ]
  },
  {
   "cell_type": "code",
   "execution_count": 10,
   "id": "c842718d-0cb9-40e0-af96-11f134e43c29",
   "metadata": {},
   "outputs": [
    {
     "name": "stdout",
     "output_type": "stream",
     "text": [
      "Mumbai\n"
     ]
    }
   ],
   "source": [
    "city_counts=ipldf['city'].value_counts()\n",
    "print(city_counts.idxmax())"
   ]
  },
  {
   "cell_type": "markdown",
   "id": "2d76e7af-502b-4f0e-b474-61d63b1eae2b",
   "metadata": {},
   "source": [
    "Find the venue that hosted the most matches"
   ]
  },
  {
   "cell_type": "code",
   "execution_count": 11,
   "id": "1c2ccf7f-3fad-4a0e-94ea-dea4db9cad61",
   "metadata": {},
   "outputs": [
    {
     "name": "stdout",
     "output_type": "stream",
     "text": [
      "venue\n",
      "Eden Gardens                                 77\n",
      "Wankhede Stadium                             73\n",
      "M Chinnaswamy Stadium                        65\n",
      "Feroz Shah Kotla                             60\n",
      "Rajiv Gandhi International Stadium, Uppal    49\n",
      "Name: count, dtype: int64\n"
     ]
    }
   ],
   "source": [
    "count_venues=ipldf['venue'].value_counts()\n",
    "print(count_venues.head())"
   ]
  },
  {
   "cell_type": "markdown",
   "id": "ce530947-1772-422e-b78a-2910b9e0a118",
   "metadata": {},
   "source": [
    " Find the team with most wins while chasing a target"
   ]
  },
  {
   "cell_type": "code",
   "execution_count": 12,
   "id": "d06e3fbb-2378-4494-ad8d-75d70a2caa2f",
   "metadata": {},
   "outputs": [
    {
     "name": "stdout",
     "output_type": "stream",
     "text": [
      "Kolkata Knight Riders\n"
     ]
    }
   ],
   "source": [
    "chasing_matches = ipldf[ipldf['toss_decision'] == 'field']\n",
    "chasing_wins = chasing_matches[chasing_matches['toss_winner'] == chasing_matches['winner']]\n",
    "chasing_win_counts = chasing_wins['winner'].value_counts().idxmax()\n",
    "print(chasing_win_counts)"
   ]
  },
  {
   "cell_type": "code",
   "execution_count": null,
   "id": "01908f98-71ca-48bf-b743-7a7b63b1e28e",
   "metadata": {},
   "outputs": [],
   "source": []
  },
  {
   "cell_type": "code",
   "execution_count": 13,
   "id": "20595a82-dd31-4922-9562-20473b38fde3",
   "metadata": {},
   "outputs": [
    {
     "name": "stdout",
     "output_type": "stream",
     "text": [
      "           id  season       city        date  match_type player_of_match  \\\n",
      "8      335990    2008  Hyderabad  2008-04-24      League       YK Pathan   \n",
      "10     335992    2008  Bangalore  2008-04-26      League       SR Watson   \n",
      "12     335994    2008     Mumbai  2008-04-27      League    AC Gilchrist   \n",
      "17     335999    2008  Hyderabad  2008-05-01      League        SE Marsh   \n",
      "24     336006    2008  Bangalore  2008-05-05      League     S Sreesanth   \n",
      "...       ...     ...        ...         ...         ...             ...   \n",
      "1071  1426286    2024    Lucknow  2024-04-30      League      MP Stoinis   \n",
      "1072  1426287    2024    Chennai  2024-05-01      League   Harpreet Brar   \n",
      "1075  1426290    2024  Bengaluru  2024-05-04      League  Mohammed Siraj   \n",
      "1078  1426293    2024     Mumbai  2024-05-06      League        SA Yadav   \n",
      "1092  1426310    2024  Ahmedabad  2024-05-22  Eliminator        R Ashwin   \n",
      "\n",
      "                                                  venue  \\\n",
      "8             Rajiv Gandhi International Stadium, Uppal   \n",
      "10                                M Chinnaswamy Stadium   \n",
      "12                           Dr DY Patil Sports Academy   \n",
      "17            Rajiv Gandhi International Stadium, Uppal   \n",
      "24                                M Chinnaswamy Stadium   \n",
      "...                                                 ...   \n",
      "1071  Bharat Ratna Shri Atal Bihari Vajpayee Ekana C...   \n",
      "1072           MA Chidambaram Stadium, Chepauk, Chennai   \n",
      "1075                   M Chinnaswamy Stadium, Bengaluru   \n",
      "1078                           Wankhede Stadium, Mumbai   \n",
      "1092                   Narendra Modi Stadium, Ahmedabad   \n",
      "\n",
      "                            team1                        team2  \\\n",
      "8                 Deccan Chargers             Rajasthan Royals   \n",
      "10    Royal Challengers Bangalore             Rajasthan Royals   \n",
      "12                 Mumbai Indians              Deccan Chargers   \n",
      "17                Deccan Chargers              Kings XI Punjab   \n",
      "24    Royal Challengers Bangalore              Kings XI Punjab   \n",
      "...                           ...                          ...   \n",
      "1071               Mumbai Indians         Lucknow Super Giants   \n",
      "1072          Chennai Super Kings                 Punjab Kings   \n",
      "1075               Gujarat Titans  Royal Challengers Bengaluru   \n",
      "1078          Sunrisers Hyderabad               Mumbai Indians   \n",
      "1092  Royal Challengers Bengaluru             Rajasthan Royals   \n",
      "\n",
      "                      toss_winner toss_decision                       winner  \\\n",
      "8                Rajasthan Royals         field             Rajasthan Royals   \n",
      "10               Rajasthan Royals         field             Rajasthan Royals   \n",
      "12                Deccan Chargers         field              Deccan Chargers   \n",
      "17                Kings XI Punjab         field              Kings XI Punjab   \n",
      "24                Kings XI Punjab         field              Kings XI Punjab   \n",
      "...                           ...           ...                          ...   \n",
      "1071         Lucknow Super Giants         field         Lucknow Super Giants   \n",
      "1072                 Punjab Kings         field                 Punjab Kings   \n",
      "1075  Royal Challengers Bengaluru         field  Royal Challengers Bengaluru   \n",
      "1078               Mumbai Indians         field               Mumbai Indians   \n",
      "1092             Rajasthan Royals         field             Rajasthan Royals   \n",
      "\n",
      "       result  result_margin  target_runs  target_overs super_over method  \\\n",
      "8     wickets            3.0        215.0          20.0          N    NaN   \n",
      "10    wickets            7.0        136.0          20.0          N    NaN   \n",
      "12    wickets           10.0        155.0          20.0          N    NaN   \n",
      "17    wickets            7.0        165.0          20.0          N    NaN   \n",
      "24    wickets            6.0        127.0          20.0          N    NaN   \n",
      "...       ...            ...          ...           ...        ...    ...   \n",
      "1071  wickets            4.0        145.0          20.0          N    NaN   \n",
      "1072  wickets            7.0        163.0          20.0          N    NaN   \n",
      "1075  wickets            4.0        148.0          20.0          N    NaN   \n",
      "1078  wickets            7.0        174.0          20.0          N    NaN   \n",
      "1092  wickets            4.0        173.0          20.0          N    NaN   \n",
      "\n",
      "                    umpire1               umpire2  \n",
      "8                 Asad Rauf             MR Benson  \n",
      "10                MR Benson             IL Howell  \n",
      "12                Asad Rauf            SL Shastri  \n",
      "17              BR Doctrove             RB Tiffin  \n",
      "24                 SJ Davis           BR Doctrove  \n",
      "...                     ...                   ...  \n",
      "1071               MA Gough             UV Gandhe  \n",
      "1072             HAS Khalid             VK Sharma  \n",
      "1075                A Totre          Vinod Seshan  \n",
      "1078          Navdeep Singh          Tapan Sharma  \n",
      "1092  KN Ananthapadmanabhan  MV Saidharshan Kumar  \n",
      "\n",
      "[377 rows x 20 columns]\n"
     ]
    },
    {
     "name": "stderr",
     "output_type": "stream",
     "text": [
      "C:\\Users\\Administrator\\AppData\\Local\\Temp\\ipykernel_1316\\702069731.py:1: UserWarning: Boolean Series key will be reindexed to match DataFrame index.\n",
      "  chasing_matches = ipldf[ipldf['toss_decision'] == 'field'][ipldf['toss_winner']==ipldf['winner']]\n"
     ]
    }
   ],
   "source": [
    "chasing_matches = ipldf[ipldf['toss_decision'] == 'field'][ipldf['toss_winner']==ipldf['winner']]\n",
    "print(chasing_matches)\n"
   ]
  },
  {
   "cell_type": "code",
   "execution_count": 14,
   "id": "6e7fd01e-75b5-49c0-b702-4049dbfad833",
   "metadata": {},
   "outputs": [
    {
     "name": "stdout",
     "output_type": "stream",
     "text": [
      "           id  season       city        date  match_type player_of_match  \\\n",
      "8      335990    2008  Hyderabad  2008-04-24      League       YK Pathan   \n",
      "10     335992    2008  Bangalore  2008-04-26      League       SR Watson   \n",
      "12     335994    2008     Mumbai  2008-04-27      League    AC Gilchrist   \n",
      "17     335999    2008  Hyderabad  2008-05-01      League        SE Marsh   \n",
      "24     336006    2008  Bangalore  2008-05-05      League     S Sreesanth   \n",
      "...       ...     ...        ...         ...         ...             ...   \n",
      "1071  1426286    2024    Lucknow  2024-04-30      League      MP Stoinis   \n",
      "1072  1426287    2024    Chennai  2024-05-01      League   Harpreet Brar   \n",
      "1075  1426290    2024  Bengaluru  2024-05-04      League  Mohammed Siraj   \n",
      "1078  1426293    2024     Mumbai  2024-05-06      League        SA Yadav   \n",
      "1092  1426310    2024  Ahmedabad  2024-05-22  Eliminator        R Ashwin   \n",
      "\n",
      "                                                  venue  \\\n",
      "8             Rajiv Gandhi International Stadium, Uppal   \n",
      "10                                M Chinnaswamy Stadium   \n",
      "12                           Dr DY Patil Sports Academy   \n",
      "17            Rajiv Gandhi International Stadium, Uppal   \n",
      "24                                M Chinnaswamy Stadium   \n",
      "...                                                 ...   \n",
      "1071  Bharat Ratna Shri Atal Bihari Vajpayee Ekana C...   \n",
      "1072           MA Chidambaram Stadium, Chepauk, Chennai   \n",
      "1075                   M Chinnaswamy Stadium, Bengaluru   \n",
      "1078                           Wankhede Stadium, Mumbai   \n",
      "1092                   Narendra Modi Stadium, Ahmedabad   \n",
      "\n",
      "                            team1                        team2  \\\n",
      "8                 Deccan Chargers             Rajasthan Royals   \n",
      "10    Royal Challengers Bangalore             Rajasthan Royals   \n",
      "12                 Mumbai Indians              Deccan Chargers   \n",
      "17                Deccan Chargers              Kings XI Punjab   \n",
      "24    Royal Challengers Bangalore              Kings XI Punjab   \n",
      "...                           ...                          ...   \n",
      "1071               Mumbai Indians         Lucknow Super Giants   \n",
      "1072          Chennai Super Kings                 Punjab Kings   \n",
      "1075               Gujarat Titans  Royal Challengers Bengaluru   \n",
      "1078          Sunrisers Hyderabad               Mumbai Indians   \n",
      "1092  Royal Challengers Bengaluru             Rajasthan Royals   \n",
      "\n",
      "                      toss_winner toss_decision                       winner  \\\n",
      "8                Rajasthan Royals         field             Rajasthan Royals   \n",
      "10               Rajasthan Royals         field             Rajasthan Royals   \n",
      "12                Deccan Chargers         field              Deccan Chargers   \n",
      "17                Kings XI Punjab         field              Kings XI Punjab   \n",
      "24                Kings XI Punjab         field              Kings XI Punjab   \n",
      "...                           ...           ...                          ...   \n",
      "1071         Lucknow Super Giants         field         Lucknow Super Giants   \n",
      "1072                 Punjab Kings         field                 Punjab Kings   \n",
      "1075  Royal Challengers Bengaluru         field  Royal Challengers Bengaluru   \n",
      "1078               Mumbai Indians         field               Mumbai Indians   \n",
      "1092             Rajasthan Royals         field             Rajasthan Royals   \n",
      "\n",
      "       result  result_margin  target_runs  target_overs super_over method  \\\n",
      "8     wickets            3.0        215.0          20.0          N    NaN   \n",
      "10    wickets            7.0        136.0          20.0          N    NaN   \n",
      "12    wickets           10.0        155.0          20.0          N    NaN   \n",
      "17    wickets            7.0        165.0          20.0          N    NaN   \n",
      "24    wickets            6.0        127.0          20.0          N    NaN   \n",
      "...       ...            ...          ...           ...        ...    ...   \n",
      "1071  wickets            4.0        145.0          20.0          N    NaN   \n",
      "1072  wickets            7.0        163.0          20.0          N    NaN   \n",
      "1075  wickets            4.0        148.0          20.0          N    NaN   \n",
      "1078  wickets            7.0        174.0          20.0          N    NaN   \n",
      "1092  wickets            4.0        173.0          20.0          N    NaN   \n",
      "\n",
      "                    umpire1               umpire2  \n",
      "8                 Asad Rauf             MR Benson  \n",
      "10                MR Benson             IL Howell  \n",
      "12                Asad Rauf            SL Shastri  \n",
      "17              BR Doctrove             RB Tiffin  \n",
      "24                 SJ Davis           BR Doctrove  \n",
      "...                     ...                   ...  \n",
      "1071               MA Gough             UV Gandhe  \n",
      "1072             HAS Khalid             VK Sharma  \n",
      "1075                A Totre          Vinod Seshan  \n",
      "1078          Navdeep Singh          Tapan Sharma  \n",
      "1092  KN Ananthapadmanabhan  MV Saidharshan Kumar  \n",
      "\n",
      "[377 rows x 20 columns]\n"
     ]
    }
   ],
   "source": [
    "chasing_matches = ipldf[(ipldf['toss_decision'] == 'field') & (ipldf['toss_winner'] == ipldf['winner'])]\n",
    "print(chasing_matches)"
   ]
  },
  {
   "cell_type": "code",
   "execution_count": 19,
   "id": "76aab36e-7d76-49cc-ac5e-25a061662014",
   "metadata": {},
   "outputs": [
    {
     "name": "stdout",
     "output_type": "stream",
     "text": [
      "Kolkata Knight Riders\n"
     ]
    }
   ],
   "source": [
    "print(chasing_matches['winner'].value_counts().idxmax())"
   ]
  },
  {
   "cell_type": "code",
   "execution_count": null,
   "id": "f82240c9-87ab-4df0-a975-3163eefdbf48",
   "metadata": {},
   "outputs": [],
   "source": []
  }
 ],
 "metadata": {
  "kernelspec": {
   "display_name": "Python 3 (ipykernel)",
   "language": "python",
   "name": "python3"
  },
  "language_info": {
   "codemirror_mode": {
    "name": "ipython",
    "version": 3
   },
   "file_extension": ".py",
   "mimetype": "text/x-python",
   "name": "python",
   "nbconvert_exporter": "python",
   "pygments_lexer": "ipython3",
   "version": "3.11.0"
  }
 },
 "nbformat": 4,
 "nbformat_minor": 5
}
