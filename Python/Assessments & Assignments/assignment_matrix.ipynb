{
 "cells": [
  {
   "cell_type": "code",
   "execution_count": 4,
   "id": "1cdcd6aa-2398-463d-92e6-04cf3738e1f9",
   "metadata": {},
   "outputs": [
    {
     "name": "stdin",
     "output_type": "stream",
     "text": [
      "Enter the number of rows : 2\n",
      "Enter the number of cols : 3\n",
      "Enter the value for row 1 and column 1 : 1\n",
      "Enter the value for row 1 and column 2 : 2\n",
      "Enter the value for row 1 and column 3 : 3\n",
      "Enter the value for row 2 and column 1 : 4\n",
      "Enter the value for row 2 and column 2 : 5\n",
      "Enter the value for row 2 and column 3 : 6\n"
     ]
    },
    {
     "name": "stdout",
     "output_type": "stream",
     "text": [
      "[1, 2, 3]\n",
      "[4, 5, 6]\n",
      "[1, 4]\n",
      "[2, 5]\n",
      "[3, 6]\n"
     ]
    }
   ],
   "source": [
    "rows=int(input(\"Enter the number of rows :\"))\n",
    "cols=int(input(\"Enter the number of cols :\"))\n",
    "matrix=[[int(input(f\"Enter the value for row {r+1} and column {c+1} :\")) for c in range(cols)] for r in range(rows) ]\n",
    "for ls in matrix:\n",
    "    print(ls)\n",
    "transpose=[[matrix[r][c] for r in range(rows)] for c in range(cols)]\n",
    "for ls in transpose:\n",
    "    print(ls)"
   ]
  },
  {
   "cell_type": "code",
   "execution_count": null,
   "id": "113292e9-8753-4f3a-a205-33739696b332",
   "metadata": {},
   "outputs": [],
   "source": []
  }
 ],
 "metadata": {
  "kernelspec": {
   "display_name": "Python 3 (ipykernel)",
   "language": "python",
   "name": "python3"
  },
  "language_info": {
   "codemirror_mode": {
    "name": "ipython",
    "version": 3
   },
   "file_extension": ".py",
   "mimetype": "text/x-python",
   "name": "python",
   "nbconvert_exporter": "python",
   "pygments_lexer": "ipython3",
   "version": "3.11.0"
  }
 },
 "nbformat": 4,
 "nbformat_minor": 5
}
