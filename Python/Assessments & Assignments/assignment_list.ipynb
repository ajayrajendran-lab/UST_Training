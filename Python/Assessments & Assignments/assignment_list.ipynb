{
 "cells": [
  {
   "cell_type": "code",
   "execution_count": null,
   "id": "25c7e7cf-9bdc-414e-a805-e2d9c1dbc6c0",
   "metadata": {},
   "outputs": [],
   "source": [
    "lst=[1,2,3,4,5]\n",
    "value=int(input(\"Enter an input value :\"))\n",
    "if value in lst:\n",
    "    print(\"Before deleting\")\n",
    "    print(lst)\n",
    "    ind=lst.index(value)\n",
    "    deleted_value=lst.pop(ind)\n",
    "    print(\"Deleted value is :\",deleted_value)\n",
    "    print(lst)\n",
    "    print(\"Restoring the value to previous location \")\n",
    "    lst.insert(ind,deleted_value)\n",
    "    print(lst)\n",
    "else:\n",
    "    print(\"Value not found\")"
   ]
  }
 ],
 "metadata": {
  "kernelspec": {
   "display_name": "Python 3 (ipykernel)",
   "language": "python",
   "name": "python3"
  },
  "language_info": {
   "codemirror_mode": {
    "name": "ipython",
    "version": 3
   },
   "file_extension": ".py",
   "mimetype": "text/x-python",
   "name": "python",
   "nbconvert_exporter": "python",
   "pygments_lexer": "ipython3",
   "version": "3.11.0"
  }
 },
 "nbformat": 4,
 "nbformat_minor": 5
}
