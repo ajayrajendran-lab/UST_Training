{
 "cells": [
  {
   "cell_type": "code",
   "execution_count": 1,
   "id": "6f02f6c6-abc5-4531-a6f8-2315798bebaf",
   "metadata": {},
   "outputs": [
    {
     "name": "stdout",
     "output_type": "stream",
     "text": [
      "10\n"
     ]
    }
   ],
   "source": [
    "a=10\n",
    "print(a)"
   ]
  },
  {
   "cell_type": "code",
   "execution_count": 2,
   "id": "a03665c2-b49e-4203-b606-bcb7e191b998",
   "metadata": {},
   "outputs": [
    {
     "data": {
      "text/plain": [
       "'C:\\\\Users\\\\ajay'"
      ]
     },
     "execution_count": 2,
     "metadata": {},
     "output_type": "execute_result"
    }
   ],
   "source": [
    "import os\n",
    "os.getcwd()"
   ]
  },
  {
   "cell_type": "code",
   "execution_count": 4,
   "id": "487fa025-a610-4cb6-93c0-eeea6e1da970",
   "metadata": {},
   "outputs": [],
   "source": [
    "os.chdir(r'\\Users\\ajay\\Desktop')"
   ]
  },
  {
   "cell_type": "code",
   "execution_count": 5,
   "id": "89273638-8b7b-4aab-a6e6-7bd6c0577556",
   "metadata": {},
   "outputs": [
    {
     "data": {
      "text/plain": [
       "'C:\\\\Users\\\\ajay\\\\Desktop'"
      ]
     },
     "execution_count": 5,
     "metadata": {},
     "output_type": "execute_result"
    }
   ],
   "source": [
    "os.getcwd()"
   ]
  },
  {
   "cell_type": "code",
   "execution_count": 6,
   "id": "0bde2402-7e72-43e6-8141-d7d4f48bffa8",
   "metadata": {},
   "outputs": [],
   "source": [
    "os.mkdir('Training')"
   ]
  },
  {
   "cell_type": "code",
   "execution_count": 8,
   "id": "c533c4ab-3406-4932-a908-1f0b76628336",
   "metadata": {},
   "outputs": [],
   "source": [
    "os.chdir('Training')"
   ]
  },
  {
   "cell_type": "code",
   "execution_count": 9,
   "id": "91822b0a-993e-43af-ac3b-4ffd78c4a040",
   "metadata": {},
   "outputs": [
    {
     "data": {
      "text/plain": [
       "'C:\\\\Users\\\\ajay\\\\Desktop\\\\Training'"
      ]
     },
     "execution_count": 9,
     "metadata": {},
     "output_type": "execute_result"
    }
   ],
   "source": [
    "os.getcwd()"
   ]
  },
  {
   "cell_type": "code",
   "execution_count": 1,
   "id": "3cbf70a6-2972-4fc2-a071-9ff98292b042",
   "metadata": {},
   "outputs": [
    {
     "name": "stdout",
     "output_type": "stream",
     "text": [
      "   emp_id emp_name  dept_id\n",
      "0     101     Ajay        1\n",
      "1     102    Navya        2\n",
      "2     103    Rahul        1\n",
      "3     104    Sebin        3\n"
     ]
    }
   ],
   "source": [
    "import pandas as pd\n",
    "employees = pd.DataFrame({\n",
    "    'emp_id': [101, 102, 103, 104],\n",
    "    'emp_name': ['Ajay', 'Navya', 'Rahul', 'Sebin'],\n",
    "    'dept_id': [1, 2, 1, 3]\n",
    "})\n",
    "print(employees)"
   ]
  },
  {
   "cell_type": "code",
   "execution_count": 2,
   "id": "84a529a3-5e2f-414d-9816-5e46f07b5757",
   "metadata": {},
   "outputs": [
    {
     "name": "stdout",
     "output_type": "stream",
     "text": [
      "   dept_id    dept_name\n",
      "0        1           HR\n",
      "1        2  Engineering\n",
      "2        4    Marketing\n"
     ]
    }
   ],
   "source": [
    "departments = pd.DataFrame({\n",
    "    'dept_id': [1, 2, 4],\n",
    "    'dept_name': ['HR', 'Engineering', 'Marketing']\n",
    "})\n",
    "print(departments)"
   ]
  },
  {
   "cell_type": "code",
   "execution_count": 10,
   "id": "3aca53de-9634-4e89-9b45-5c0b9440f273",
   "metadata": {},
   "outputs": [
    {
     "name": "stdout",
     "output_type": "stream",
     "text": [
      "   emp_id emp_name  dept_id    dept_name\n",
      "0     101     Ajay        1           HR\n",
      "1     102    Navya        2  Engineering\n",
      "2     103    Rahul        1           HR\n",
      "3     104    Sebin        3          NaN\n"
     ]
    }
   ],
   "source": [
    "result = pd.merge(employees, departments, on='dept_id', how='left')\n",
    "print(result)"
   ]
  },
  {
   "cell_type": "code",
   "execution_count": 8,
   "id": "636cdabf-b37c-49b5-b57a-387185ea7211",
   "metadata": {},
   "outputs": [
    {
     "data": {
      "text/plain": [
       "emp_id       0\n",
       "emp_name     0\n",
       "dept_id      0\n",
       "dept_name    1\n",
       "dtype: int64"
      ]
     },
     "execution_count": 8,
     "metadata": {},
     "output_type": "execute_result"
    }
   ],
   "source": [
    "result.isna().sum()"
   ]
  },
  {
   "cell_type": "code",
   "execution_count": 4,
   "id": "4c0ef5d6-fc6f-483c-a318-e3b3c21f56f3",
   "metadata": {},
   "outputs": [
    {
     "name": "stdout",
     "output_type": "stream",
     "text": [
      "   emp_id emp_name  dept_id    dept_name\n",
      "0   101.0     Ajay        1           HR\n",
      "1   103.0    Rahul        1           HR\n",
      "2   102.0    Navya        2  Engineering\n",
      "3     NaN      NaN        4    Marketing\n"
     ]
    }
   ],
   "source": [
    "result = pd.merge(employees, departments, on='dept_id', how='right')\n",
    "print(result)"
   ]
  },
  {
   "cell_type": "code",
   "execution_count": 5,
   "id": "c8203cb1-9196-4747-8f4c-7e6be0ef3271",
   "metadata": {},
   "outputs": [
    {
     "name": "stdout",
     "output_type": "stream",
     "text": [
      "   emp_id emp_name  dept_id    dept_name\n",
      "0     101     Ajay        1           HR\n",
      "1     102    Navya        2  Engineering\n",
      "2     103    Rahul        1           HR\n"
     ]
    }
   ],
   "source": [
    "result = pd.merge(employees, departments, on='dept_id', how='inner')\n",
    "print(result)"
   ]
  },
  {
   "cell_type": "code",
   "execution_count": 11,
   "id": "fb9c83ca-da93-4e6b-963e-f16649818d0c",
   "metadata": {},
   "outputs": [
    {
     "name": "stdout",
     "output_type": "stream",
     "text": [
      "   emp_id emp_name  dept_id    dept_name\n",
      "0   101.0     Ajay        1           HR\n",
      "1   103.0    Rahul        1           HR\n",
      "2   102.0    Navya        2  Engineering\n",
      "3   104.0    Sebin        3          NaN\n",
      "4     NaN      NaN        4    Marketing\n"
     ]
    }
   ],
   "source": [
    "result = pd.merge(employees, departments, on='dept_id', how='outer')\n",
    "print(result)"
   ]
  },
  {
   "cell_type": "code",
   "execution_count": null,
   "id": "97b11572-14e6-41ed-ac15-b37b14e66d26",
   "metadata": {},
   "outputs": [],
   "source": []
  }
 ],
 "metadata": {
  "kernelspec": {
   "display_name": "Python 3 (ipykernel)",
   "language": "python",
   "name": "python3"
  },
  "language_info": {
   "codemirror_mode": {
    "name": "ipython",
    "version": 3
   },
   "file_extension": ".py",
   "mimetype": "text/x-python",
   "name": "python",
   "nbconvert_exporter": "python",
   "pygments_lexer": "ipython3",
   "version": "3.11.0"
  }
 },
 "nbformat": 4,
 "nbformat_minor": 5
}
