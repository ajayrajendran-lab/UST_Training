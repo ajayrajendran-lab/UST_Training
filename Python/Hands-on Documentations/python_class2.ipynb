{
 "cells": [
  {
   "cell_type": "markdown",
   "id": "a2971cb4-a149-4c35-8793-828a04e3bb4e",
   "metadata": {},
   "source": [
    "# Default Argument"
   ]
  },
  {
   "cell_type": "markdown",
   "id": "9b0e7ab1-147b-43ee-ae6d-b8ed789e8b5b",
   "metadata": {},
   "source": [
    "first argument cannot be passed default argument def say(x=1,y),once we pass default argument in firsat place ,rest right argument should be default argument"
   ]
  },
  {
   "cell_type": "code",
   "execution_count": 18,
   "id": "5d233979-9d62-42c3-9c85-106a54509d3c",
   "metadata": {},
   "outputs": [
    {
     "ename": "SyntaxError",
     "evalue": "non-default argument follows default argument (2469277533.py, line 2)",
     "output_type": "error",
     "traceback": [
      "  \u001b[36mCell\u001b[39m\u001b[36m \u001b[39m\u001b[32mIn[18]\u001b[39m\u001b[32m, line 2\u001b[39m\n\u001b[31m    \u001b[39m\u001b[31mdef say(x=1,y): #SyntaxError: non-default argument follows default argument\u001b[39m\n                ^\n\u001b[31mSyntaxError\u001b[39m\u001b[31m:\u001b[39m non-default argument follows default argument\n"
     ]
    }
   ],
   "source": [
    "#case1\n",
    "def say(x=1,y): #SyntaxError: non-default argument follows default argument\n",
    "    return x+y\n",
    "\n",
    "print(say(1,2))"
   ]
  },
  {
   "cell_type": "code",
   "execution_count": 14,
   "id": "26e08a78-8e27-4e6a-aaed-efa960c9c71a",
   "metadata": {},
   "outputs": [
    {
     "name": "stdout",
     "output_type": "stream",
     "text": [
      "3\n"
     ]
    }
   ],
   "source": [
    "#case 2\n",
    "def say(x,y): # works\n",
    "    return x+y\n",
    "\n",
    "print(say(1,2))"
   ]
  },
  {
   "cell_type": "code",
   "execution_count": 15,
   "id": "56fc9178-8122-44d6-a486-087b8c36161c",
   "metadata": {},
   "outputs": [
    {
     "name": "stdout",
     "output_type": "stream",
     "text": [
      "3\n"
     ]
    }
   ],
   "source": [
    "#case 3\n",
    "def say(x,y=1):\n",
    "      return x+y\n",
    "\n",
    "print(say(1,2))\n",
    "    "
   ]
  },
  {
   "cell_type": "code",
   "execution_count": 21,
   "id": "4a8d20a3-becc-45a5-a501-4dc5179709b6",
   "metadata": {},
   "outputs": [
    {
     "name": "stdout",
     "output_type": "stream",
     "text": [
      "4\n"
     ]
    }
   ],
   "source": [
    "#case 4\n",
    "def say(x=2,y=2):\n",
    "      return x+y\n",
    "\n",
    "print(say())"
   ]
  },
  {
   "cell_type": "code",
   "execution_count": 17,
   "id": "f22fc073-cd86-4d08-9216-3911cf572b95",
   "metadata": {},
   "outputs": [
    {
     "name": "stdout",
     "output_type": "stream",
     "text": [
      "10\n"
     ]
    }
   ],
   "source": [
    "#case 5\n",
    "def say(x,y=1,z=1):\n",
    "    return x+y+z\n",
    "\n",
    "print(say(1,3,6))"
   ]
  },
  {
   "cell_type": "code",
   "execution_count": 23,
   "id": "799519e3-97b1-42aa-84dc-962ae394f803",
   "metadata": {},
   "outputs": [
    {
     "name": "stdout",
     "output_type": "stream",
     "text": [
      "1 1\n",
      "8\n"
     ]
    }
   ],
   "source": [
    "#case 6\n",
    "def say(x,y=1,z=1):\n",
    "    print(x,y,z)\n",
    "    return x+y+z\n",
    "\n",
    "print(say(1,z=6))"
   ]
  },
  {
   "cell_type": "code",
   "execution_count": 25,
   "id": "a556737d-3760-40e6-8f24-fa97268a3726",
   "metadata": {},
   "outputs": [
    {
     "ename": "SyntaxError",
     "evalue": "non-default argument follows default argument (2659459149.py, line 2)",
     "output_type": "error",
     "traceback": [
      "  \u001b[36mCell\u001b[39m\u001b[36m \u001b[39m\u001b[32mIn[25]\u001b[39m\u001b[32m, line 2\u001b[39m\n\u001b[31m    \u001b[39m\u001b[31mdef say(x,y=1,z):\u001b[39m\n                  ^\n\u001b[31mSyntaxError\u001b[39m\u001b[31m:\u001b[39m non-default argument follows default argument\n"
     ]
    }
   ],
   "source": [
    "#case 7\n",
    "def say(x,y=1,z):\n",
    "    print(x,y,z)\n",
    "    return x+y+z\n",
    "\n",
    "print(say(x=2,z=6))"
   ]
  },
  {
   "cell_type": "code",
   "execution_count": null,
   "id": "6701b0db-4d2d-429f-86ec-c160154f3a36",
   "metadata": {},
   "outputs": [],
   "source": [
    "\n",
    "def say(x,y=1,z):\n",
    "    print(x,y,z)\n",
    "    return x+y+z\n",
    "\n",
    "print(say(x=2,z=6))"
   ]
  },
  {
   "cell_type": "markdown",
   "id": "9e9145ad-e9fc-4abc-aca4-1cfa70141011",
   "metadata": {},
   "source": [
    "# File Handling"
   ]
  },
  {
   "cell_type": "code",
   "execution_count": 30,
   "id": "0c4d5865-161f-4b9a-8123-7ed7c70480e0",
   "metadata": {},
   "outputs": [
    {
     "data": {
      "text/plain": [
       "'C:\\\\Users\\\\Administrator'"
      ]
     },
     "execution_count": 30,
     "metadata": {},
     "output_type": "execute_result"
    }
   ],
   "source": [
    "import os\n",
    "os.getcwd()"
   ]
  },
  {
   "cell_type": "code",
   "execution_count": 27,
   "id": "5bf0a476-dddd-42fc-a705-d4e6bcd52298",
   "metadata": {},
   "outputs": [],
   "source": [
    "import os\n",
    "os.getenv(\"Home\")"
   ]
  },
  {
   "cell_type": "code",
   "execution_count": 75,
   "id": "bcc7e99f-c15a-4b93-bf63-64aa0d1b9c7e",
   "metadata": {},
   "outputs": [
    {
     "data": {
      "text/plain": [
       "'C:\\\\Users\\\\Administrator\\\\Training'"
      ]
     },
     "execution_count": 75,
     "metadata": {},
     "output_type": "execute_result"
    }
   ],
   "source": [
    "import os\n",
    "os.chdir(\"/Users/Administrator/Training\")\n",
    "os.getcwd()"
   ]
  },
  {
   "cell_type": "code",
   "execution_count": 77,
   "id": "83a6de22-c774-4d42-a5d1-d476ec1bd47c",
   "metadata": {},
   "outputs": [],
   "source": [
    "import os\n",
    "file=open(\"newfile.txt\",\"w\")\n",
    "file.write(\"This is line 1 \\n\")\n",
    "file.write(\"This is line 2 \\n\")\n",
    "file.close()\n",
    "\n"
   ]
  },
  {
   "cell_type": "code",
   "execution_count": 78,
   "id": "8163d229-4739-4fa3-a3f4-bc3c4bbebe7a",
   "metadata": {},
   "outputs": [
    {
     "name": "stdout",
     "output_type": "stream",
     "text": [
      "<class 'str'>\n",
      "This is line 1 \n",
      "This is line 2 \n",
      "\n"
     ]
    }
   ],
   "source": [
    "file=open(\"newfile.txt\")\n",
    "content=file.read()\n",
    "print(type(content))\n",
    "print(content)\n",
    "file.close()"
   ]
  },
  {
   "cell_type": "code",
   "execution_count": 79,
   "id": "eb64765b-3ebc-466c-9833-de908657efd2",
   "metadata": {},
   "outputs": [],
   "source": [
    "file=open(\"newfile.txt\",\"r\")\n",
    "file.read(8)\n",
    "file.close()"
   ]
  },
  {
   "cell_type": "code",
   "execution_count": 83,
   "id": "9e3daa36-b641-438d-b6d6-0af054d10915",
   "metadata": {},
   "outputs": [
    {
     "data": {
      "text/plain": [
       "8"
      ]
     },
     "execution_count": 83,
     "metadata": {},
     "output_type": "execute_result"
    }
   ],
   "source": [
    "file=open(\"newfile.txt\",\"r\")\n",
    "file.read(8)\n",
    "file.tell()\n"
   ]
  },
  {
   "cell_type": "code",
   "execution_count": 85,
   "id": "4e571836-9c0a-4dea-95cd-2fb4bc8e39ca",
   "metadata": {},
   "outputs": [],
   "source": [
    "\n",
    "file.seek(4)\n",
    "file.close()"
   ]
  },
  {
   "cell_type": "code",
   "execution_count": 87,
   "id": "d7e48ff0-1b83-4520-9cdc-4b8f5cda4b42",
   "metadata": {},
   "outputs": [
    {
     "name": "stdout",
     "output_type": "stream",
     "text": [
      "This is line 1 \n",
      "\n",
      "This is line 2 \n",
      "\n"
     ]
    }
   ],
   "source": [
    "file=open(\"newfile.txt\",\"r\")\n",
    "file.seek(0)\n",
    "for line in file:\n",
    "    print(line)\n",
    "file.close()"
   ]
  },
  {
   "cell_type": "markdown",
   "id": "0b2ff4a7-bc98-4734-98a5-a03845f36a0b",
   "metadata": {},
   "source": [
    "Alternative option"
   ]
  },
  {
   "cell_type": "code",
   "execution_count": 59,
   "id": "d0b825fe-5f07-44d2-868a-4373ba8f838b",
   "metadata": {},
   "outputs": [
    {
     "name": "stdout",
     "output_type": "stream",
     "text": [
      "['This is line 1 \\n', 'This is line 2 \\n']\n"
     ]
    }
   ],
   "source": [
    "file=open(\"newfile.txt\",\"r\")\n",
    "# content=file.readline() #reading first line\n",
    "content2=file.readlines()\n",
    "# print(content)\n",
    "print(content2)\n",
    "file.close()"
   ]
  },
  {
   "cell_type": "code",
   "execution_count": 60,
   "id": "db0dd45b-29f5-4d72-93ec-bcf2b8162441",
   "metadata": {},
   "outputs": [],
   "source": [
    "file.close()"
   ]
  },
  {
   "cell_type": "code",
   "execution_count": null,
   "id": "d87947a0-0984-406e-beb5-a447fe7a60c5",
   "metadata": {},
   "outputs": [],
   "source": [
    "Renaming file"
   ]
  },
  {
   "cell_type": "code",
   "execution_count": 88,
   "id": "abe0c354-6150-41f8-81b6-2d8f036612bd",
   "metadata": {},
   "outputs": [],
   "source": [
    "\n",
    "os.rename(\"newfile.txt\",\"sample.txt\")"
   ]
  },
  {
   "cell_type": "code",
   "execution_count": 66,
   "id": "4fb9a87a-f816-40e6-a0a5-383f02424364",
   "metadata": {},
   "outputs": [],
   "source": [
    "file.close()"
   ]
  },
  {
   "cell_type": "code",
   "execution_count": 2,
   "id": "d7f92c44-5986-42c2-b73e-0afb3c2735a2",
   "metadata": {},
   "outputs": [
    {
     "data": {
      "text/plain": [
       "'C:\\\\Users\\\\Administrator'"
      ]
     },
     "execution_count": 2,
     "metadata": {},
     "output_type": "execute_result"
    }
   ],
   "source": [
    "import os \n",
    "os.getcwd()"
   ]
  },
  {
   "cell_type": "markdown",
   "id": "cb746b31-7a26-4892-b32a-2252ab67e083",
   "metadata": {},
   "source": [
    "# Python directory & file management"
   ]
  },
  {
   "cell_type": "code",
   "execution_count": 24,
   "id": "f26080a1-512a-4f00-93d0-c33f9f2c737f",
   "metadata": {},
   "outputs": [],
   "source": [
    "os.chdir(\"/Users/Administrator\")"
   ]
  },
  {
   "cell_type": "code",
   "execution_count": 25,
   "id": "6a47face-0608-458a-9482-5d1ce205de52",
   "metadata": {},
   "outputs": [
    {
     "data": {
      "text/plain": [
       "[b'.ipynb_checkpoints',\n",
       " b'.ipython',\n",
       " b'.jupyter',\n",
       " b'.scala_history',\n",
       " b'3D Objects',\n",
       " b'airflow_venv',\n",
       " b'AppData',\n",
       " b'Application Data',\n",
       " b'Contacts',\n",
       " b'Cookies',\n",
       " b'Desktop',\n",
       " b'Documents',\n",
       " b'Downloads',\n",
       " b'Favorites',\n",
       " b'Links',\n",
       " b'Local Settings',\n",
       " b'Music',\n",
       " b'My Documents',\n",
       " b'NetHood',\n",
       " b'newfile.txt',\n",
       " b'NTUSER.DAT',\n",
       " b'ntuser.dat.LOG1',\n",
       " b'ntuser.dat.LOG2',\n",
       " b'NTUSER.DAT{53b39e88-18c4-11ea-a811-000d3aa4692b}.TM.blf',\n",
       " b'NTUSER.DAT{53b39e88-18c4-11ea-a811-000d3aa4692b}.TMContainer00000000000000000001.regtrans-ms',\n",
       " b'NTUSER.DAT{53b39e88-18c4-11ea-a811-000d3aa4692b}.TMContainer00000000000000000002.regtrans-ms',\n",
       " b'ntuser.ini',\n",
       " b'OneDrive',\n",
       " b'Pictures',\n",
       " b'PrintHood',\n",
       " b'python_class1.ipynb',\n",
       " b'python_class2.ipynb',\n",
       " b'Recent',\n",
       " b'Saved Games',\n",
       " b'Searches',\n",
       " b'SendTo',\n",
       " b'Start Menu',\n",
       " b'Templates',\n",
       " b'Training',\n",
       " b'Untitled.ipynb',\n",
       " b'Untitled1.ipynb',\n",
       " b'Videos']"
      ]
     },
     "execution_count": 25,
     "metadata": {},
     "output_type": "execute_result"
    }
   ],
   "source": [
    "os.getcwd()\n",
    "os.listdir(os.getcwdb()) "
   ]
  },
  {
   "cell_type": "code",
   "execution_count": 47,
   "id": "ee2c3c32-3639-44dc-86ad-45b67b02ee24",
   "metadata": {},
   "outputs": [],
   "source": [
    "os.chdir(\"/Users/Administrator/Downloads\")"
   ]
  },
  {
   "cell_type": "code",
   "execution_count": 95,
   "id": "ef71f567-bbc3-45d8-8b72-bb086efec613",
   "metadata": {},
   "outputs": [],
   "source": [
    "os.remove(\"sample.txt\")"
   ]
  },
  {
   "cell_type": "markdown",
   "id": "f900d9a4-7d2a-43a8-b3d3-2009d430d572",
   "metadata": {},
   "source": [
    "# Lost of files & Directory"
   ]
  },
  {
   "cell_type": "code",
   "execution_count": 48,
   "id": "4ec09868-b419-49e2-af15-79c6b0e2b6f6",
   "metadata": {},
   "outputs": [
    {
     "data": {
      "text/plain": [
       "[b'desktop.ini', b'python_class1(1).ipynb', b'python_class1.ipynb']"
      ]
     },
     "execution_count": 48,
     "metadata": {},
     "output_type": "execute_result"
    }
   ],
   "source": [
    "os.listdir(os.getcwdb()) #o"
   ]
  },
  {
   "cell_type": "code",
   "execution_count": 50,
   "id": "7f5fd64c-3624-4147-8752-928526b9f86f",
   "metadata": {},
   "outputs": [
    {
     "ename": "FileExistsError",
     "evalue": "[WinError 183] Cannot create a file when that file already exists: 'Assignment'",
     "output_type": "error",
     "traceback": [
      "\u001b[31m---------------------------------------------------------------------------\u001b[39m",
      "\u001b[31mFileExistsError\u001b[39m                           Traceback (most recent call last)",
      "\u001b[36mCell\u001b[39m\u001b[36m \u001b[39m\u001b[32mIn[50]\u001b[39m\u001b[32m, line 1\u001b[39m\n\u001b[32m----> \u001b[39m\u001b[32m1\u001b[39m \u001b[43mos\u001b[49m\u001b[43m.\u001b[49m\u001b[43mmkdir\u001b[49m\u001b[43m(\u001b[49m\u001b[33;43m\"\u001b[39;49m\u001b[33;43mAssignment\u001b[39;49m\u001b[33;43m\"\u001b[39;49m\u001b[43m)\u001b[49m\n",
      "\u001b[31mFileExistsError\u001b[39m: [WinError 183] Cannot create a file when that file already exists: 'Assignment'"
     ]
    }
   ],
   "source": [
    "os.mkdir(\"Assignment\")"
   ]
  },
  {
   "cell_type": "code",
   "execution_count": null,
   "id": "ce1e9585-38b4-4cc7-a650-929026e3e53d",
   "metadata": {},
   "outputs": [],
   "source": []
  },
  {
   "cell_type": "code",
   "execution_count": 51,
   "id": "4059c0e1-bdc6-49d9-b1c2-8ca4f916c8a8",
   "metadata": {},
   "outputs": [],
   "source": [
    "os.chdir(\"Assignment\")"
   ]
  },
  {
   "cell_type": "code",
   "execution_count": 52,
   "id": "c3a6355d-5232-4c51-a2e9-f47d5371c398",
   "metadata": {},
   "outputs": [
    {
     "data": {
      "text/plain": [
       "'C:\\\\Users\\\\Administrator\\\\Downloads\\\\Assignment'"
      ]
     },
     "execution_count": 52,
     "metadata": {},
     "output_type": "execute_result"
    }
   ],
   "source": [
    "os.getcwd()"
   ]
  },
  {
   "cell_type": "code",
   "execution_count": 53,
   "id": "de62bd97-4eba-440a-962b-d3b22c6c02af",
   "metadata": {},
   "outputs": [],
   "source": [
    "file=open(\"newfile.txt\",\"w\")\n",
    "file.write(\"line 1\\n\")\n",
    "file.write(\"line 2\\n\")\n",
    "file.write(\"line 3\\n\")\n",
    "file.close()"
   ]
  },
  {
   "cell_type": "code",
   "execution_count": 54,
   "id": "5607be02-e458-4812-92c1-715560e6b04a",
   "metadata": {},
   "outputs": [],
   "source": [
    "os.chdir(\"/Users/Administrator/Downloads\")"
   ]
  },
  {
   "cell_type": "code",
   "execution_count": 55,
   "id": "74a70a06-2ebc-4f40-8087-8b423c076927",
   "metadata": {},
   "outputs": [
    {
     "data": {
      "text/plain": [
       "'C:\\\\Users\\\\Administrator\\\\Downloads'"
      ]
     },
     "execution_count": 55,
     "metadata": {},
     "output_type": "execute_result"
    }
   ],
   "source": [
    "# os.rmdir(\"Assignment\") # directory is  not empty\n",
    "os.getcwd()"
   ]
  },
  {
   "cell_type": "code",
   "execution_count": 56,
   "id": "b865aaaf-8cfb-4e66-b052-e204b8e4b6ec",
   "metadata": {},
   "outputs": [
    {
     "data": {
      "text/plain": [
       "[b'Assignment',\n",
       " b'desktop.ini',\n",
       " b'python_class1(1).ipynb',\n",
       " b'python_class1.ipynb']"
      ]
     },
     "execution_count": 56,
     "metadata": {},
     "output_type": "execute_result"
    }
   ],
   "source": [
    "os.listdir(os.getcwdb())"
   ]
  },
  {
   "cell_type": "code",
   "execution_count": 57,
   "id": "ef0cd6f2-f519-4a6e-8b4d-098748d00709",
   "metadata": {},
   "outputs": [],
   "source": [
    "import shutil\n",
    "shutil.rmtree(\"C:\\\\Users\\\\Administrator\\\\Downloads\\\\Assignment\")"
   ]
  },
  {
   "cell_type": "code",
   "execution_count": 58,
   "id": "b6a1117a-af59-4cd4-8a54-4ff135e4a8f5",
   "metadata": {},
   "outputs": [
    {
     "data": {
      "text/plain": [
       "[b'desktop.ini', b'python_class1(1).ipynb', b'python_class1.ipynb']"
      ]
     },
     "execution_count": 58,
     "metadata": {},
     "output_type": "execute_result"
    }
   ],
   "source": [
    "os.listdir(os.getcwdb()) "
   ]
  },
  {
   "cell_type": "markdown",
   "id": "af1d8e83-620a-48ea-b6d4-cbee65a4701e",
   "metadata": {},
   "source": [
    "# Python Errors"
   ]
  },
  {
   "cell_type": "code",
   "execution_count": null,
   "id": "66189958-785f-4e17-9e17-762e2b606fd4",
   "metadata": {},
   "outputs": [],
   "source": [
    "compile time errors\n",
    "Run time errors"
   ]
  },
  {
   "cell_type": "code",
   "execution_count": null,
   "id": "308de558-41fc-4de1-a748-2d7be7ea68b5",
   "metadata": {},
   "outputs": [],
   "source": []
  },
  {
   "cell_type": "code",
   "execution_count": 1,
   "id": "d5855b53-9947-4fcc-9275-a631a829a9fd",
   "metadata": {},
   "outputs": [
    {
     "data": {
      "text/plain": [
       "['ArithmeticError',\n",
       " 'AssertionError',\n",
       " 'AttributeError',\n",
       " 'BaseException',\n",
       " 'BaseExceptionGroup',\n",
       " 'BlockingIOError',\n",
       " 'BrokenPipeError',\n",
       " 'BufferError',\n",
       " 'BytesWarning',\n",
       " 'ChildProcessError',\n",
       " 'ConnectionAbortedError',\n",
       " 'ConnectionError',\n",
       " 'ConnectionRefusedError',\n",
       " 'ConnectionResetError',\n",
       " 'DeprecationWarning',\n",
       " 'EOFError',\n",
       " 'Ellipsis',\n",
       " 'EncodingWarning',\n",
       " 'EnvironmentError',\n",
       " 'Exception',\n",
       " 'ExceptionGroup',\n",
       " 'False',\n",
       " 'FileExistsError',\n",
       " 'FileNotFoundError',\n",
       " 'FloatingPointError',\n",
       " 'FutureWarning',\n",
       " 'GeneratorExit',\n",
       " 'IOError',\n",
       " 'ImportError',\n",
       " 'ImportWarning',\n",
       " 'IndentationError',\n",
       " 'IndexError',\n",
       " 'InterruptedError',\n",
       " 'IsADirectoryError',\n",
       " 'KeyError',\n",
       " 'KeyboardInterrupt',\n",
       " 'LookupError',\n",
       " 'MemoryError',\n",
       " 'ModuleNotFoundError',\n",
       " 'NameError',\n",
       " 'None',\n",
       " 'NotADirectoryError',\n",
       " 'NotImplemented',\n",
       " 'NotImplementedError',\n",
       " 'OSError',\n",
       " 'OverflowError',\n",
       " 'PendingDeprecationWarning',\n",
       " 'PermissionError',\n",
       " 'ProcessLookupError',\n",
       " 'RecursionError',\n",
       " 'ReferenceError',\n",
       " 'ResourceWarning',\n",
       " 'RuntimeError',\n",
       " 'RuntimeWarning',\n",
       " 'StopAsyncIteration',\n",
       " 'StopIteration',\n",
       " 'SyntaxError',\n",
       " 'SyntaxWarning',\n",
       " 'SystemError',\n",
       " 'SystemExit',\n",
       " 'TabError',\n",
       " 'TimeoutError',\n",
       " 'True',\n",
       " 'TypeError',\n",
       " 'UnboundLocalError',\n",
       " 'UnicodeDecodeError',\n",
       " 'UnicodeEncodeError',\n",
       " 'UnicodeError',\n",
       " 'UnicodeTranslateError',\n",
       " 'UnicodeWarning',\n",
       " 'UserWarning',\n",
       " 'ValueError',\n",
       " 'Warning',\n",
       " 'WindowsError',\n",
       " 'ZeroDivisionError',\n",
       " '__IPYTHON__',\n",
       " '__build_class__',\n",
       " '__debug__',\n",
       " '__doc__',\n",
       " '__import__',\n",
       " '__loader__',\n",
       " '__name__',\n",
       " '__package__',\n",
       " '__spec__',\n",
       " 'abs',\n",
       " 'aiter',\n",
       " 'all',\n",
       " 'anext',\n",
       " 'any',\n",
       " 'ascii',\n",
       " 'bin',\n",
       " 'bool',\n",
       " 'breakpoint',\n",
       " 'bytearray',\n",
       " 'bytes',\n",
       " 'callable',\n",
       " 'chr',\n",
       " 'classmethod',\n",
       " 'compile',\n",
       " 'complex',\n",
       " 'copyright',\n",
       " 'credits',\n",
       " 'delattr',\n",
       " 'dict',\n",
       " 'dir',\n",
       " 'display',\n",
       " 'divmod',\n",
       " 'enumerate',\n",
       " 'eval',\n",
       " 'exec',\n",
       " 'execfile',\n",
       " 'filter',\n",
       " 'float',\n",
       " 'format',\n",
       " 'frozenset',\n",
       " 'get_ipython',\n",
       " 'getattr',\n",
       " 'globals',\n",
       " 'hasattr',\n",
       " 'hash',\n",
       " 'help',\n",
       " 'hex',\n",
       " 'id',\n",
       " 'input',\n",
       " 'int',\n",
       " 'isinstance',\n",
       " 'issubclass',\n",
       " 'iter',\n",
       " 'len',\n",
       " 'license',\n",
       " 'list',\n",
       " 'locals',\n",
       " 'map',\n",
       " 'max',\n",
       " 'memoryview',\n",
       " 'min',\n",
       " 'next',\n",
       " 'object',\n",
       " 'oct',\n",
       " 'open',\n",
       " 'ord',\n",
       " 'pow',\n",
       " 'print',\n",
       " 'property',\n",
       " 'range',\n",
       " 'repr',\n",
       " 'reversed',\n",
       " 'round',\n",
       " 'runfile',\n",
       " 'set',\n",
       " 'setattr',\n",
       " 'slice',\n",
       " 'sorted',\n",
       " 'staticmethod',\n",
       " 'str',\n",
       " 'sum',\n",
       " 'super',\n",
       " 'tuple',\n",
       " 'type',\n",
       " 'vars',\n",
       " 'zip']"
      ]
     },
     "execution_count": 1,
     "metadata": {},
     "output_type": "execute_result"
    }
   ],
   "source": [
    "dir(__builtins__)"
   ]
  },
  {
   "cell_type": "code",
   "execution_count": 2,
   "id": "c2a686b8-8689-4018-9276-b26e89ddd0f7",
   "metadata": {},
   "outputs": [
    {
     "name": "stdout",
     "output_type": "stream",
     "text": [
      "value is : b\n"
     ]
    },
    {
     "ename": "ValueError",
     "evalue": "invalid literal for int() with base 10: 'b'",
     "output_type": "error",
     "traceback": [
      "\u001b[31m---------------------------------------------------------------------------\u001b[39m",
      "\u001b[31mValueError\u001b[39m                                Traceback (most recent call last)",
      "\u001b[36mCell\u001b[39m\u001b[36m \u001b[39m\u001b[32mIn[2]\u001b[39m\u001b[32m, line 4\u001b[39m\n\u001b[32m      2\u001b[39m \u001b[38;5;28;01mfor\u001b[39;00m entry \u001b[38;5;129;01min\u001b[39;00m lst:\n\u001b[32m      3\u001b[39m     \u001b[38;5;28mprint\u001b[39m(\u001b[33m\"\u001b[39m\u001b[33mvalue is :\u001b[39m\u001b[33m\"\u001b[39m,entry)\n\u001b[32m----> \u001b[39m\u001b[32m4\u001b[39m     k=\u001b[32m1\u001b[39m/\u001b[38;5;28;43mint\u001b[39;49m\u001b[43m(\u001b[49m\u001b[43mentry\u001b[49m\u001b[43m)\u001b[49m\n",
      "\u001b[31mValueError\u001b[39m: invalid literal for int() with base 10: 'b'"
     ]
    }
   ],
   "source": [
    "lst =['b',0,2]\n",
    "for entry in lst:\n",
    "    print(\"value is :\",entry)\n",
    "    k=1/int(entry)"
   ]
  },
  {
   "cell_type": "code",
   "execution_count": 8,
   "id": "59501719-1fb8-467b-92bb-81f0bae42dd4",
   "metadata": {},
   "outputs": [
    {
     "name": "stdout",
     "output_type": "stream",
     "text": [
      "value is : b\n",
      "<<<<<ERROR OCCURED>>>>>\n",
      "invalid literal for int() with base 10: 'b' Error\n",
      "Next value is entering.......\n",
      "\n",
      "************************\n",
      "\n",
      "value is : 0\n",
      "<<<<<ERROR OCCURED>>>>>\n",
      "division by zero Error\n",
      "Next value is entering.......\n",
      "\n",
      "************************\n",
      "\n",
      "value is : 2\n",
      "The reciprocal of 2 is 0.5\n"
     ]
    }
   ],
   "source": [
    "import sys\n",
    "\n",
    "lst = ['b',0,2]\n",
    "\n",
    "for entry in lst:\n",
    "    try:\n",
    "        print(\"value is :\",entry)\n",
    "        k=1/int(entry)\n",
    "    except:\n",
    "        print(\"<<<<<ERROR OCCURED>>>>>\")\n",
    "        print(f\"{sys.exc_info()[1]} Error\")\n",
    "        print(\"Next value is entering.......\")\n",
    "        print(\"\\n************************\\n\")\n",
    "print(f\"The reciprocal of {entry} is {k}\")\n",
    "        "
   ]
  },
  {
   "cell_type": "code",
   "execution_count": 12,
   "id": "9f31bef8-731f-48f5-a3aa-10dc8df65eae",
   "metadata": {},
   "outputs": [
    {
     "name": "stdout",
     "output_type": "stream",
     "text": [
      "value is : b\n",
      "<<<<<ERROR OCCURED>>>>>\n",
      "invalid literal for int() with base 10: 'b' Error\n",
      "Next value is entering.......\n",
      "\n",
      "************************\n",
      "\n",
      "value is : 0\n",
      "<<<<<ERROR OCCURED>>>>>\n",
      "division by zero Error\n",
      "Next value is entering.......\n",
      "\n",
      "************************\n",
      "\n",
      "value is : 2\n",
      "The reciprocal of 2 is 0.5\n"
     ]
    }
   ],
   "source": [
    "import sys\n",
    "\n",
    "lst = ['b',0,2]\n",
    "\n",
    "for entry in lst:\n",
    "    try:\n",
    "        print(\"value is :\",entry)\n",
    "        k=1/int(entry)\n",
    "    except:\n",
    "        print(\"<<<<<ERROR OCCURED>>>>>\")\n",
    "        print(f\"{sys.exc_info()[1]} Error\")\n",
    "        print(\"Next value is entering.......\")\n",
    "        print(\"\\n************************\\n\")\n",
    "print(f\"The reciprocal of {entry} is {k}\")\n",
    "        "
   ]
  },
  {
   "cell_type": "code",
   "execution_count": 11,
   "id": "fdc18450-35a2-4dd4-b59a-6d2b7b3b4480",
   "metadata": {},
   "outputs": [
    {
     "name": "stdout",
     "output_type": "stream",
     "text": [
      "value is : b\n",
      "This is value error\n",
      "\n",
      "value is : 0\n",
      "ZeroDivisionError\n",
      "\n",
      "value is : 2\n",
      "The reciprocal of 2 is 0.5\n"
     ]
    }
   ],
   "source": [
    "import sys\n",
    "\n",
    "lst = ['b',0,2]\n",
    "\n",
    "for entry in lst:\n",
    "    try:\n",
    "        print(\"value is :\",entry)\n",
    "        k=1/int(entry)\n",
    "    except(ValueError):\n",
    "        print(\"This is value error\\n\")\n",
    "    except(ZeroDivisionError):\n",
    "        print(\"ZeroDivisionError\\n\")\n",
    "    except:\n",
    "        print(\"Other error\\n\")\n",
    "print(f\"The reciprocal of {entry} is {k}\")\n",
    "        "
   ]
  },
  {
   "cell_type": "markdown",
   "id": "0fff40ae-d1c5-4d9b-baa3-ad3b241c2ab2",
   "metadata": {},
   "source": [
    "# Try Finally"
   ]
  },
  {
   "cell_type": "code",
   "execution_count": 15,
   "id": "b9678d8a-2dc0-48e2-a464-6b30cfc7638e",
   "metadata": {},
   "outputs": [
    {
     "data": {
      "text/plain": [
       "'C:\\\\Users\\\\Administrator\\\\Desktop'"
      ]
     },
     "execution_count": 15,
     "metadata": {},
     "output_type": "execute_result"
    }
   ],
   "source": [
    "import os\n",
    "os.getcwd()"
   ]
  },
  {
   "cell_type": "code",
   "execution_count": 18,
   "id": "b3a83aac-437b-4e4e-b673-769d376b244a",
   "metadata": {},
   "outputs": [],
   "source": [
    "f=open(\"sample.txt\",\"w\")\n",
    "f.write(\"This is a sample line\")\n",
    "f.close()"
   ]
  },
  {
   "cell_type": "code",
   "execution_count": 19,
   "id": "acfb6669-9e54-4990-878c-eb7b3cec313c",
   "metadata": {},
   "outputs": [
    {
     "name": "stdout",
     "output_type": "stream",
     "text": [
      "final closed\n"
     ]
    }
   ],
   "source": [
    "os.chdir(\"\\\\Users\\\\Administrator\\\\Desktop\")\n",
    "try:\n",
    "    f=open(\"sample.txt\")\n",
    "finally:\n",
    "    print(\"final closed\")\n",
    "    f.close()"
   ]
  },
  {
   "cell_type": "code",
   "execution_count": 21,
   "id": "8474d138-8f2d-4d02-8ce8-b806d79dd3a2",
   "metadata": {},
   "outputs": [
    {
     "name": "stdout",
     "output_type": "stream",
     "text": [
      "Something went wrong\n",
      "final closed\n"
     ]
    }
   ],
   "source": [
    "os.chdir(\"\\\\Users\\\\Administrator\\\\Desktop\")\n",
    "try:\n",
    "    f=open(\"sample1.txt\")\n",
    "except:\n",
    "    print(\"Something went wrong\")\n",
    "finally:\n",
    "    print(\"final closed\")\n",
    "    f.close()"
   ]
  },
  {
   "cell_type": "markdown",
   "id": "cfff659a-ee79-4c30-a0a8-2fe80e110bbe",
   "metadata": {},
   "source": [
    "# Logging"
   ]
  },
  {
   "cell_type": "code",
   "execution_count": 23,
   "id": "c8c176ef-7998-4fa2-881f-4c7ddfca6d27",
   "metadata": {},
   "outputs": [],
   "source": [
    "import logging"
   ]
  },
  {
   "cell_type": "code",
   "execution_count": 24,
   "id": "3334455a-c3f5-4de3-a4e0-5a501b917bbe",
   "metadata": {},
   "outputs": [],
   "source": [
    "logging.basicConfig(level=logging.INFO)"
   ]
  },
  {
   "cell_type": "code",
   "execution_count": 25,
   "id": "f3a7adf6-5141-464f-8925-6e7a1677d4fc",
   "metadata": {},
   "outputs": [],
   "source": [
    "logging.debug(\"This is a debug message\")"
   ]
  },
  {
   "cell_type": "code",
   "execution_count": 26,
   "id": "e411cc7e-a287-4d81-aaa8-0aaab70afcc1",
   "metadata": {},
   "outputs": [
    {
     "name": "stderr",
     "output_type": "stream",
     "text": [
      "INFO:root:App started\n"
     ]
    }
   ],
   "source": [
    "logging.info(\"App started\")"
   ]
  },
  {
   "cell_type": "code",
   "execution_count": 27,
   "id": "df8a4e0e-ed12-4189-a7ca-4bce0d0bb193",
   "metadata": {},
   "outputs": [
    {
     "name": "stderr",
     "output_type": "stream",
     "text": [
      "WARNING:root:This is a warning\n"
     ]
    }
   ],
   "source": [
    "logging.warning(\"This is a warning\")"
   ]
  },
  {
   "cell_type": "code",
   "execution_count": 28,
   "id": "06798aca-dfce-49f1-83cf-51c6659d18ae",
   "metadata": {},
   "outputs": [
    {
     "name": "stderr",
     "output_type": "stream",
     "text": [
      "ERROR:root:An error occurred\n"
     ]
    }
   ],
   "source": [
    "logging.error(\"An error occurred\")"
   ]
  },
  {
   "cell_type": "code",
   "execution_count": 29,
   "id": "55784791-93cd-47a2-b71c-9d0346ea2e53",
   "metadata": {},
   "outputs": [
    {
     "name": "stderr",
     "output_type": "stream",
     "text": [
      "CRITICAL:root:Critical issue\n"
     ]
    }
   ],
   "source": [
    "logging.critical(\"Critical issue\")"
   ]
  },
  {
   "cell_type": "markdown",
   "id": "153d92c0-275b-4340-925f-7d9fa65fa22c",
   "metadata": {},
   "source": [
    "q1. use of enumerate keyword in python for loop\n",
    "a)counts the total number of lines\n",
    "b)to iterate through value\n",
    "c)add index to each element in the iterable\n",
    "d)reverses the order of iteration\n",
    "\n",
    "ans c\n",
    "\n",
    "q2)among this which is not a built in function in python\n",
    "a)dir\n",
    "b)math\n",
    "c)hex\n",
    "d)bin\n",
    "\n",
    "ans b\n",
    "\n",
    "q2) which is not a method of list\n",
    "a)remove\n",
    "b)sort\n",
    "c)count\n",
    "d)add\n",
    "\n",
    "ans d\n",
    "\n",
    "q3)count and index are methods of tuple\n",
    "a)both are methods of tuple\n",
    "b)count is not a method of tuple and index is a method of tuple \n",
    "c)both are not methods of tuple\n",
    "d)count is a method of tuple and index is not a method of tuple\n",
    "\n",
    "ans a"
   ]
  },
  {
   "cell_type": "code",
   "execution_count": 31,
   "id": "c29ab785-1aa2-4e60-a07b-516b571b506c",
   "metadata": {},
   "outputs": [
    {
     "data": {
      "text/plain": [
       "['__add__',\n",
       " '__class__',\n",
       " '__class_getitem__',\n",
       " '__contains__',\n",
       " '__delattr__',\n",
       " '__dir__',\n",
       " '__doc__',\n",
       " '__eq__',\n",
       " '__format__',\n",
       " '__ge__',\n",
       " '__getattribute__',\n",
       " '__getitem__',\n",
       " '__getnewargs__',\n",
       " '__getstate__',\n",
       " '__gt__',\n",
       " '__hash__',\n",
       " '__init__',\n",
       " '__init_subclass__',\n",
       " '__iter__',\n",
       " '__le__',\n",
       " '__len__',\n",
       " '__lt__',\n",
       " '__mul__',\n",
       " '__ne__',\n",
       " '__new__',\n",
       " '__reduce__',\n",
       " '__reduce_ex__',\n",
       " '__repr__',\n",
       " '__rmul__',\n",
       " '__setattr__',\n",
       " '__sizeof__',\n",
       " '__str__',\n",
       " '__subclasshook__',\n",
       " 'count',\n",
       " 'index']"
      ]
     },
     "execution_count": 31,
     "metadata": {},
     "output_type": "execute_result"
    }
   ],
   "source": [
    "dir(tuple)"
   ]
  },
  {
   "cell_type": "code",
   "execution_count": null,
   "id": "aef0401c-d92f-48eb-a9b1-b83d935b08a3",
   "metadata": {},
   "outputs": [],
   "source": []
  }
 ],
 "metadata": {
  "kernelspec": {
   "display_name": "Python 3 (ipykernel)",
   "language": "python",
   "name": "python3"
  },
  "language_info": {
   "codemirror_mode": {
    "name": "ipython",
    "version": 3
   },
   "file_extension": ".py",
   "mimetype": "text/x-python",
   "name": "python",
   "nbconvert_exporter": "python",
   "pygments_lexer": "ipython3",
   "version": "3.11.0"
  }
 },
 "nbformat": 4,
 "nbformat_minor": 5
}
