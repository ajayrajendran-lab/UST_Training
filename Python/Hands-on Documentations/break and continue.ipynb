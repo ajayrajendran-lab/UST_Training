{
 "cells": [
  {
   "cell_type": "code",
   "execution_count": 3,
   "id": "6050442d-09bc-4c98-8d26-7a6af4c7a7ee",
   "metadata": {},
   "outputs": [
    {
     "name": "stdout",
     "output_type": "stream",
     "text": [
      "1\n",
      "2\n"
     ]
    }
   ],
   "source": [
    "lst=[1,2,3,4,5]\n",
    "\n",
    "for data in lst:\n",
    "    if data==3:\n",
    "        break\n",
    "    print(data)\n",
    "else:\n",
    "    print(\"no not avalibale\")"
   ]
  },
  {
   "cell_type": "code",
   "execution_count": 5,
   "id": "062185eb-9a08-4aa6-b4e3-a58d5486a1e2",
   "metadata": {},
   "outputs": [
    {
     "name": "stdin",
     "output_type": "stream",
     "text": [
      "Enter a no : 4\n"
     ]
    },
    {
     "name": "stdout",
     "output_type": "stream",
     "text": [
      "4 is divisible by 2\n",
      "4 is not a prime .\n"
     ]
    }
   ],
   "source": [
    "num = int (input(\"Enter a no :\"))\n",
    "isDivisible=False\n",
    "for i in range(2,num):\n",
    "    if num%i==0:\n",
    "        isDivisible=True\n",
    "        print(\"{} is divisible by {}\".format(num,i))\n",
    "        break\n",
    "if isDivisible:\n",
    "    print(\"{} is not a prime .\".format(num))\n",
    "else:\n",
    "    print(\"{} is prime .\".format(num))"
   ]
  },
  {
   "cell_type": "code",
   "execution_count": null,
   "id": "e0ba97fb-5778-4b2b-804e-a25138e15fcd",
   "metadata": {},
   "outputs": [],
   "source": []
  }
 ],
 "metadata": {
  "kernelspec": {
   "display_name": "Python 3 (ipykernel)",
   "language": "python",
   "name": "python3"
  },
  "language_info": {
   "codemirror_mode": {
    "name": "ipython",
    "version": 3
   },
   "file_extension": ".py",
   "mimetype": "text/x-python",
   "name": "python",
   "nbconvert_exporter": "python",
   "pygments_lexer": "ipython3",
   "version": "3.11.0"
  }
 },
 "nbformat": 4,
 "nbformat_minor": 5
}
