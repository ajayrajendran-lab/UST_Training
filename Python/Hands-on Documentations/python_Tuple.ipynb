{
 "cells": [
  {
   "cell_type": "markdown",
   "id": "6885642a-32de-4892-b57d-e9f681852f53",
   "metadata": {},
   "source": [
    "# Tuple"
   ]
  },
  {
   "cell_type": "code",
   "execution_count": 1,
   "id": "e1e7786d-b089-4f6d-893e-49cfd17e1376",
   "metadata": {},
   "outputs": [
    {
     "name": "stdout",
     "output_type": "stream",
     "text": [
      "(1, 'hi', 9.8)\n"
     ]
    }
   ],
   "source": [
    "# case 1\n",
    "tp=(1,\"hi\",9.8)\n",
    "print(tp)"
   ]
  },
  {
   "cell_type": "code",
   "execution_count": 3,
   "id": "f644544b-331f-43b2-b465-b05212f2cf46",
   "metadata": {},
   "outputs": [
    {
     "data": {
      "text/plain": [
       "tuple"
      ]
     },
     "execution_count": 3,
     "metadata": {},
     "output_type": "execute_result"
    }
   ],
   "source": [
    "tp=(\"hi\",)\n",
    "type(tp)"
   ]
  },
  {
   "cell_type": "code",
   "execution_count": 7,
   "id": "b7af4629-9ffb-4387-ba05-4c7c0bdaf311",
   "metadata": {},
   "outputs": [
    {
     "name": "stdout",
     "output_type": "stream",
     "text": [
      "<class 'tuple'>\n",
      "3\n",
      "(2, 3, 8)\n",
      "9.9\n"
     ]
    }
   ],
   "source": [
    "tp=(1,(2,3,8),['hi',9.9])\n",
    "print(type(tp))\n",
    "print(tp[1][1]) # 3 in (2,3,8)\n",
    "print(tp[1])\n",
    "print(tp[-1][1])"
   ]
  },
  {
   "cell_type": "code",
   "execution_count": 10,
   "id": "faa8d12a-f7aa-4fec-9db8-a8dc5268a7bf",
   "metadata": {},
   "outputs": [
    {
     "data": {
      "text/plain": [
       "('hi', [1, 'hello'])"
      ]
     },
     "execution_count": 10,
     "metadata": {},
     "output_type": "execute_result"
    }
   ],
   "source": [
    "tp =('hi',[1,'hello'],3.5,'hello')\n",
    "tp[0:2]"
   ]
  },
  {
   "cell_type": "code",
   "execution_count": 11,
   "id": "a5556d32-16a7-429a-9b1a-30e2705d32d9",
   "metadata": {},
   "outputs": [
    {
     "data": {
      "text/plain": [
       "('hi', [1, 'hello'])"
      ]
     },
     "execution_count": 11,
     "metadata": {},
     "output_type": "execute_result"
    }
   ],
   "source": [
    "tp[0:-2]"
   ]
  },
  {
   "cell_type": "code",
   "execution_count": 12,
   "id": "9fe4cf9e-de5d-4707-ac50-bbed54206764",
   "metadata": {},
   "outputs": [
    {
     "ename": "TypeError",
     "evalue": "'tuple' object does not support item assignment",
     "output_type": "error",
     "traceback": [
      "\u001b[31m---------------------------------------------------------------------------\u001b[39m",
      "\u001b[31mTypeError\u001b[39m                                 Traceback (most recent call last)",
      "\u001b[36mCell\u001b[39m\u001b[36m \u001b[39m\u001b[32mIn[12]\u001b[39m\u001b[32m, line 2\u001b[39m\n\u001b[32m      1\u001b[39m tp=(\u001b[32m1\u001b[39m,\u001b[32m2\u001b[39m,\u001b[32m3\u001b[39m)\n\u001b[32m----> \u001b[39m\u001b[32m2\u001b[39m \u001b[43mtp\u001b[49m\u001b[43m[\u001b[49m\u001b[32;43m1\u001b[39;49m\u001b[43m]\u001b[49m=\u001b[32m5\u001b[39m\n",
      "\u001b[31mTypeError\u001b[39m: 'tuple' object does not support item assignment"
     ]
    }
   ],
   "source": [
    "tp=(1,2,3)\n",
    "tp[1]=5"
   ]
  },
  {
   "cell_type": "code",
   "execution_count": 14,
   "id": "a52b8dd8-12c5-4071-9ab3-1fe9138cbef0",
   "metadata": {},
   "outputs": [
    {
     "name": "stdout",
     "output_type": "stream",
     "text": [
      "('hi', [1, 'hello'], 3.5, 'hello')\n",
      "('hi', [1, 'hai'], 3.5, 'hello')\n"
     ]
    }
   ],
   "source": [
    "tp =('hi',[1,'hello'],3.5,'hello')\n",
    "print(tp)\n",
    "tp[1][1]='hai'\n",
    "print(tp)"
   ]
  },
  {
   "cell_type": "code",
   "execution_count": 15,
   "id": "df34ecfc-f17d-4705-8a10-36b96b0f8d08",
   "metadata": {},
   "outputs": [
    {
     "name": "stdout",
     "output_type": "stream",
     "text": [
      "(1, 2, 3, 'hai', 'hello', 'welcome')\n"
     ]
    }
   ],
   "source": [
    "#tuple contanation\n",
    "tp=(1,2,3)+(\"hai\",\"hello\",\"welcome\")\n",
    "print(tp)"
   ]
  },
  {
   "cell_type": "code",
   "execution_count": 18,
   "id": "b3fcf62e-3264-407a-b35a-5ae98be8c5e2",
   "metadata": {},
   "outputs": [
    {
     "name": "stdout",
     "output_type": "stream",
     "text": [
      "('UST', 'UST', 'UST', 'UST', 'UST')\n",
      "5\n"
     ]
    }
   ],
   "source": [
    "#repeat the element in tuple\n",
    "tp=((\"UST\",)*5)\n",
    "print(tp)\n",
    "print(len(tp))"
   ]
  },
  {
   "cell_type": "markdown",
   "id": "a8008667-099b-4d76-bf33-e4e59d7fbcfd",
   "metadata": {},
   "source": [
    "# Tuple Deletion"
   ]
  },
  {
   "cell_type": "code",
   "execution_count": 21,
   "id": "39f48506-d8ab-46a3-b112-b102ee61ea32",
   "metadata": {},
   "outputs": [
    {
     "name": "stdout",
     "output_type": "stream",
     "text": [
      "('hi', [1, 'hello'], 3.5, 'hello')\n",
      "4\n"
     ]
    },
    {
     "ename": "NameError",
     "evalue": "name 'tp' is not defined",
     "output_type": "error",
     "traceback": [
      "\u001b[31m---------------------------------------------------------------------------\u001b[39m",
      "\u001b[31mNameError\u001b[39m                                 Traceback (most recent call last)",
      "\u001b[36mCell\u001b[39m\u001b[36m \u001b[39m\u001b[32mIn[21]\u001b[39m\u001b[32m, line 5\u001b[39m\n\u001b[32m      3\u001b[39m \u001b[38;5;28mprint\u001b[39m(\u001b[38;5;28mlen\u001b[39m(tp))\n\u001b[32m      4\u001b[39m \u001b[38;5;28;01mdel\u001b[39;00m tp\n\u001b[32m----> \u001b[39m\u001b[32m5\u001b[39m \u001b[38;5;28mprint\u001b[39m(\u001b[43mtp\u001b[49m)\n\u001b[32m      6\u001b[39m \u001b[38;5;28mprint\u001b[39m(\u001b[38;5;28mlen\u001b[39m(tp))\n",
      "\u001b[31mNameError\u001b[39m: name 'tp' is not defined"
     ]
    }
   ],
   "source": [
    "tp =('hi',[1,'hello'],3.5,'hello')\n",
    "print(tp)\n",
    "print(len(tp))\n",
    "del tp\n",
    "print(tp)\n",
    "print(len(tp))"
   ]
  },
  {
   "cell_type": "markdown",
   "id": "8fc54d0d-73fe-4e8a-b0fa-c130762da743",
   "metadata": {},
   "source": [
    "# Tuple Count"
   ]
  },
  {
   "cell_type": "code",
   "execution_count": 22,
   "id": "7fea1c53-fb0a-441d-ba45-43a7228f6f05",
   "metadata": {},
   "outputs": [
    {
     "data": {
      "text/plain": [
       "4"
      ]
     },
     "execution_count": 22,
     "metadata": {},
     "output_type": "execute_result"
    }
   ],
   "source": [
    "tp=(1,2,3,2,1,6,7,1,9,1,2)\n",
    "tp.count(1)"
   ]
  },
  {
   "cell_type": "markdown",
   "id": "cebba737-d35c-44a5-81f3-f9652c9dfb18",
   "metadata": {},
   "source": [
    "# tuple indexing"
   ]
  },
  {
   "cell_type": "code",
   "execution_count": 23,
   "id": "b4eafea9-cfd4-429d-84bc-a39e6bbf2df9",
   "metadata": {},
   "outputs": [
    {
     "data": {
      "text/plain": [
       "5"
      ]
     },
     "execution_count": 23,
     "metadata": {},
     "output_type": "execute_result"
    }
   ],
   "source": [
    "tp=(1,2,3,2,1,6,7,1,9,1,2,6)\n",
    "tp.index(6)"
   ]
  },
  {
   "cell_type": "markdown",
   "id": "9c029290-a7f7-4f09-9977-c71516e3ac85",
   "metadata": {},
   "source": [
    "# Tuple membership"
   ]
  },
  {
   "cell_type": "code",
   "execution_count": 24,
   "id": "74cd666a-bbf8-4297-84ce-b2e035576ece",
   "metadata": {},
   "outputs": [
    {
     "data": {
      "text/plain": [
       "False"
      ]
     },
     "execution_count": 24,
     "metadata": {},
     "output_type": "execute_result"
    }
   ],
   "source": [
    "tp=(1,2,3,2,1,6,7,1,9,1,2,6)\n",
    "5 in tp"
   ]
  },
  {
   "cell_type": "code",
   "execution_count": 25,
   "id": "c64ed7ea-581f-43db-b325-2d00f28900f4",
   "metadata": {},
   "outputs": [
    {
     "data": {
      "text/plain": [
       "True"
      ]
     },
     "execution_count": 25,
     "metadata": {},
     "output_type": "execute_result"
    }
   ],
   "source": [
    "tp=(1,2,3,2,1,6,7,1,9,1,2,6)\n",
    "7 in tp"
   ]
  },
  {
   "cell_type": "markdown",
   "id": "9e04ac88-7ff9-4a0e-9288-3321e63da7ff",
   "metadata": {},
   "source": [
    "# Tuple length"
   ]
  },
  {
   "cell_type": "code",
   "execution_count": 26,
   "id": "70379154-2847-4a71-b630-9367d0984b5f",
   "metadata": {},
   "outputs": [
    {
     "data": {
      "text/plain": [
       "12"
      ]
     },
     "execution_count": 26,
     "metadata": {},
     "output_type": "execute_result"
    }
   ],
   "source": [
    "tp=(1,2,3,2,1,6,7,1,9,1,2,6)\n",
    "len(tp)"
   ]
  },
  {
   "cell_type": "code",
   "execution_count": null,
   "id": "6fa3eff3-1390-4987-ad5f-dca57aa518ae",
   "metadata": {},
   "outputs": [],
   "source": [
    "# Tuple sort"
   ]
  },
  {
   "cell_type": "code",
   "execution_count": 29,
   "id": "ed59daf0-a343-4bf5-8253-6e3a159033a5",
   "metadata": {},
   "outputs": [
    {
     "name": "stdout",
     "output_type": "stream",
     "text": [
      "[1, 1, 1, 1, 2, 2, 2, 3, 6, 6, 7, 9]\n",
      "[9, 7, 6, 6, 3, 2, 2, 2, 1, 1, 1, 1]\n"
     ]
    }
   ],
   "source": [
    "tp=(1,2,3,2,1,6,7,1,9,1,2,6)\n",
    "a=sorted(tp)\n",
    "print(a)\n",
    "tp=(1,2,3,2,1,6,7,1,9,1,2,6)\n",
    "b=sorted(tp,reverse=True)\n",
    "print(b)"
   ]
  },
  {
   "cell_type": "code",
   "execution_count": 38,
   "id": "7b214fa2-9296-4d7c-871a-5104b8c46790",
   "metadata": {},
   "outputs": [
    {
     "name": "stdout",
     "output_type": "stream",
     "text": [
      "max : 9\n",
      "Min : 1\n",
      "Sum : 41\n",
      "Mean : 3.4166666666666665\n",
      "Median : 2.0\n",
      "Mode : 1\n"
     ]
    }
   ],
   "source": [
    "import statistics as st\n",
    "tp=(1,2,3,2,1,6,7,1,9,1,2,6)\n",
    "print(\"max :\",max(tp))\n",
    "print(\"Min :\",min(tp))\n",
    "print(\"Sum :\",sum(tp))\n",
    "print(\"Mean :\",st.mean(tp))\n",
    "print(\"Median :\",st.median(tp))\n",
    "print(\"Mode :\",st.mode(tp))"
   ]
  },
  {
   "cell_type": "code",
   "execution_count": null,
   "id": "4c9fd596-aa4f-4210-8279-f8f7ed34a455",
   "metadata": {},
   "outputs": [],
   "source": []
  }
 ],
 "metadata": {
  "kernelspec": {
   "display_name": "Python 3 (ipykernel)",
   "language": "python",
   "name": "python3"
  },
  "language_info": {
   "codemirror_mode": {
    "name": "ipython",
    "version": 3
   },
   "file_extension": ".py",
   "mimetype": "text/x-python",
   "name": "python",
   "nbconvert_exporter": "python",
   "pygments_lexer": "ipython3",
   "version": "3.11.0"
  }
 },
 "nbformat": 4,
 "nbformat_minor": 5
}
