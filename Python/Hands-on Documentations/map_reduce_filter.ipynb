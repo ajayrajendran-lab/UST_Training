{
 "cells": [
  {
   "cell_type": "markdown",
   "id": "e0220cbe-0ce6-4878-9339-57a1d255ec62",
   "metadata": {},
   "source": [
    "# Python Map,Reduce Filter"
   ]
  },
  {
   "cell_type": "code",
   "execution_count": null,
   "id": "fe33b539-cd94-4e08-8634-ef533d150668",
   "metadata": {},
   "outputs": [],
   "source": [
    " 1.Map()\n",
    " The map () function returns a map object(which is an iterator) of the results after applying the given function to each item of a given iterable (list, tuple, etc.).\n",
    "\n",
    "Syntax: map(fun, iter)\n",
    "\n",
    "Parameters:\n",
    "\n",
    "fun: It is a function to which map passes each element of given iterable.\n",
    "iter:  iterable object to be mapped."
   ]
  },
  {
   "cell_type": "markdown",
   "id": "57a09e79-807a-4d9b-92b5-d65b5aee9111",
   "metadata": {},
   "source": [
    "**Example**"
   ]
  },
  {
   "cell_type": "code",
   "execution_count": 2,
   "id": "944f633c-44c4-4ea4-b1d3-1cc47535ed6b",
   "metadata": {},
   "outputs": [
    {
     "name": "stdout",
     "output_type": "stream",
     "text": [
      "[1, 4, 9, 16]\n"
     ]
    }
   ],
   "source": [
    "def square(x):\n",
    "    return x**2\n",
    "numbers=[1,2,3,4]\n",
    "\n",
    "result=map(square,numbers) #it will return map object,so change it\n",
    "print(list(result))"
   ]
  },
  {
   "cell_type": "code",
   "execution_count": null,
   "id": "a5deb976-f83a-46e3-8e0c-afe5493a4ebc",
   "metadata": {},
   "outputs": [],
   "source": [
    "2.Reduce()\n",
    "Reduce Function in Python\n",
    "The reduce function is used to apply a particular function passed in its argument to all of the list elements mentioned in the sequence passed along.This function is defined in “functools” module.\n",
    "\n",
    "Syntax: reduce(func, iterable[, initial])\n",
    "\n",
    "Parameters:\n",
    "\n",
    "fun: It is a function to execute on each element of the iterable object.\n",
    "iter: It is iterable to be reduced"
   ]
  },
  {
   "cell_type": "code",
   "execution_count": 5,
   "id": "315204b7-1229-474c-983a-25810842b65b",
   "metadata": {},
   "outputs": [
    {
     "name": "stdout",
     "output_type": "stream",
     "text": [
      "10\n"
     ]
    }
   ],
   "source": [
    "from functools import reduce\n",
    "\n",
    "result=reduce(lambda x,y:x+y,[1,2,3,4])\n",
    "print(result)"
   ]
  },
  {
   "cell_type": "code",
   "execution_count": null,
   "id": "c202563f-cc81-4161-97c3-2a5b0fe762df",
   "metadata": {},
   "outputs": [],
   "source": [
    "3.Filter()\n",
    "The filter() method filters the given sequence with the help of a function that tests each element in the sequence to be true or not. \n",
    "\n",
    "Syntax: filter(function, sequence)\n",
    "\n",
    "Parameters:\n",
    "\n",
    "function: function that tests if each element of a sequence is true or not.\n",
    "sequence: sequence which needs to be filtered, it can be sets, lists, tuples, or containers of any iterators."
   ]
  },
  {
   "cell_type": "code",
   "execution_count": 6,
   "id": "52d6ec8a-ed7b-4e30-91aa-d128c226b331",
   "metadata": {},
   "outputs": [
    {
     "name": "stdout",
     "output_type": "stream",
     "text": [
      "[1, 3]\n"
     ]
    }
   ],
   "source": [
    "result=list(filter(lambda x:x%2!=0,[1,2,3,4]))\n",
    "print(result)"
   ]
  },
  {
   "cell_type": "code",
   "execution_count": null,
   "id": "07253190-da9e-4dae-a67e-fa93b466eab5",
   "metadata": {},
   "outputs": [],
   "source": []
  }
 ],
 "metadata": {
  "kernelspec": {
   "display_name": "Python 3 (ipykernel)",
   "language": "python",
   "name": "python3"
  },
  "language_info": {
   "codemirror_mode": {
    "name": "ipython",
    "version": 3
   },
   "file_extension": ".py",
   "mimetype": "text/x-python",
   "name": "python",
   "nbconvert_exporter": "python",
   "pygments_lexer": "ipython3",
   "version": "3.11.0"
  }
 },
 "nbformat": 4,
 "nbformat_minor": 5
}
