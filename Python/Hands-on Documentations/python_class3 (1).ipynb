{
 "cells": [
  {
   "cell_type": "markdown",
   "id": "32e0b7d4-4af3-4dc9-8e4c-906a9610bc0a",
   "metadata": {},
   "source": [
    "import pandas as pd\n",
    "\n",
    "ds=pd.read_csv(r\"C:\\Users\\Administrator\\Desktop\\Training\\nyc_weather.csv\")\n",
    "ds.head(10)\n",
    "ds.tail(30)"
   ]
  },
  {
   "cell_type": "code",
   "execution_count": 15,
   "id": "d691d76f-781a-453d-b09b-9b41c2edab55",
   "metadata": {},
   "outputs": [
    {
     "data": {
      "text/plain": [
       "Index(['EST', 'Temperature', 'DewPoint', 'Humidity', 'Sea Level PressureIn',\n",
       "       'VisibilityMiles', 'WindSpeedMPH', 'PrecipitationIn', 'CloudCover',\n",
       "       'Events', 'WindDirDegrees'],\n",
       "      dtype='object')"
      ]
     },
     "execution_count": 15,
     "metadata": {},
     "output_type": "execute_result"
    }
   ],
   "source": [
    "ds.columns"
   ]
  },
  {
   "cell_type": "code",
   "execution_count": 16,
   "id": "cf71ab12-af37-4e32-b4fd-3a9edb9e8a21",
   "metadata": {},
   "outputs": [
    {
     "ename": "AttributeError",
     "evalue": "'DataFrame' object has no attribute 'events'",
     "output_type": "error",
     "traceback": [
      "\u001b[31m---------------------------------------------------------------------------\u001b[39m",
      "\u001b[31mAttributeError\u001b[39m                            Traceback (most recent call last)",
      "\u001b[32m~\\AppData\\Local\\Temp\\ipykernel_1584\\2065591340.py\u001b[39m in \u001b[36m?\u001b[39m\u001b[34m()\u001b[39m\n\u001b[32m----> \u001b[39m\u001b[32m1\u001b[39m ds.events\n",
      "\u001b[32mC:\\Program Files\\Python311\\Lib\\site-packages\\pandas\\core\\generic.py\u001b[39m in \u001b[36m?\u001b[39m\u001b[34m(self, name)\u001b[39m\n\u001b[32m   6295\u001b[39m             \u001b[38;5;28;01mand\u001b[39;00m name \u001b[38;5;28;01mnot\u001b[39;00m \u001b[38;5;28;01min\u001b[39;00m self._accessors\n\u001b[32m   6296\u001b[39m             \u001b[38;5;28;01mand\u001b[39;00m self._info_axis._can_hold_identifiers_and_holds_name(name)\n\u001b[32m   6297\u001b[39m         ):\n\u001b[32m   6298\u001b[39m             \u001b[38;5;28;01mreturn\u001b[39;00m self[name]\n\u001b[32m-> \u001b[39m\u001b[32m6299\u001b[39m         \u001b[38;5;28;01mreturn\u001b[39;00m object.__getattribute__(self, name)\n",
      "\u001b[31mAttributeError\u001b[39m: 'DataFrame' object has no attribute 'events'"
     ]
    }
   ],
   "source": [
    "ds.events"
   ]
  },
  {
   "cell_type": "code",
   "execution_count": 17,
   "id": "966e7e2f-f1ec-4777-aea6-3fa91b7232d5",
   "metadata": {},
   "outputs": [
    {
     "data": {
      "text/plain": [
       "0          NaN\n",
       "1          NaN\n",
       "2          NaN\n",
       "3          NaN\n",
       "4          NaN\n",
       "5          NaN\n",
       "6          NaN\n",
       "7          NaN\n",
       "8         Rain\n",
       "9         Rain\n",
       "10         NaN\n",
       "11         NaN\n",
       "12         NaN\n",
       "13         NaN\n",
       "14         NaN\n",
       "15        Rain\n",
       "16    Fog-Snow\n",
       "17        Snow\n",
       "18         NaN\n",
       "19         NaN\n",
       "20         NaN\n",
       "21        Snow\n",
       "22    Fog-Snow\n",
       "23        Snow\n",
       "24         NaN\n",
       "25         NaN\n",
       "26        Rain\n",
       "27         NaN\n",
       "28         NaN\n",
       "29         NaN\n",
       "30         NaN\n",
       "Name: Events, dtype: object"
      ]
     },
     "execution_count": 17,
     "metadata": {},
     "output_type": "execute_result"
    }
   ],
   "source": [
    "ds.Events"
   ]
  },
  {
   "cell_type": "code",
   "execution_count": 57,
   "id": "771ed442-237a-4d70-a1b0-418926e1c25a",
   "metadata": {},
   "outputs": [
    {
     "data": {
      "text/plain": [
       "(31, 11)"
      ]
     },
     "execution_count": 57,
     "metadata": {},
     "output_type": "execute_result"
    }
   ],
   "source": [
    "ds.shape"
   ]
  },
  {
   "cell_type": "code",
   "execution_count": 18,
   "id": "834aa550-b327-491c-bc68-e271579018cc",
   "metadata": {},
   "outputs": [
    {
     "data": {
      "text/plain": [
       "0      True\n",
       "1      True\n",
       "2      True\n",
       "3      True\n",
       "4      True\n",
       "5      True\n",
       "6      True\n",
       "7      True\n",
       "8     False\n",
       "9     False\n",
       "10     True\n",
       "11     True\n",
       "12     True\n",
       "13     True\n",
       "14     True\n",
       "15    False\n",
       "16    False\n",
       "17    False\n",
       "18     True\n",
       "19     True\n",
       "20     True\n",
       "21    False\n",
       "22    False\n",
       "23    False\n",
       "24     True\n",
       "25     True\n",
       "26    False\n",
       "27     True\n",
       "28     True\n",
       "29     True\n",
       "30     True\n",
       "Name: Events, dtype: bool"
      ]
     },
     "execution_count": 18,
     "metadata": {},
     "output_type": "execute_result"
    }
   ],
   "source": [
    "ds.Events.isna() #return True for columns "
   ]
  },
  {
   "cell_type": "code",
   "execution_count": 25,
   "id": "71d99e1f-35a9-4031-a570-dc653570bcf7",
   "metadata": {},
   "outputs": [
    {
     "data": {
      "text/plain": [
       "EST                     31\n",
       "Temperature             31\n",
       "DewPoint                31\n",
       "Humidity                31\n",
       "Sea Level PressureIn    31\n",
       "VisibilityMiles         31\n",
       "WindSpeedMPH            28\n",
       "PrecipitationIn         31\n",
       "CloudCover              31\n",
       "Events                   9\n",
       "WindDirDegrees          31\n",
       "dtype: int64"
      ]
     },
     "execution_count": 25,
     "metadata": {},
     "output_type": "execute_result"
    }
   ],
   "source": [
    "ds.count()"
   ]
  },
  {
   "cell_type": "code",
   "execution_count": 21,
   "id": "b025726a-307f-4701-af6a-9a5f9a460f26",
   "metadata": {},
   "outputs": [
    {
     "data": {
      "text/plain": [
       "np.int64(22)"
      ]
     },
     "execution_count": 21,
     "metadata": {},
     "output_type": "execute_result"
    }
   ],
   "source": [
    "ds.Events.isna().sum()"
   ]
  },
  {
   "cell_type": "code",
   "execution_count": 26,
   "id": "6c744e37-24f5-4284-8113-4927a0bc9a4d",
   "metadata": {},
   "outputs": [
    {
     "data": {
      "text/plain": [
       "EST                      object\n",
       "Temperature               int64\n",
       "DewPoint                  int64\n",
       "Humidity                  int64\n",
       "Sea Level PressureIn    float64\n",
       "VisibilityMiles           int64\n",
       "WindSpeedMPH            float64\n",
       "PrecipitationIn          object\n",
       "CloudCover                int64\n",
       "Events                   object\n",
       "WindDirDegrees            int64\n",
       "dtype: object"
      ]
     },
     "execution_count": 26,
     "metadata": {},
     "output_type": "execute_result"
    }
   ],
   "source": [
    "ds.dtypes"
   ]
  },
  {
   "cell_type": "code",
   "execution_count": 27,
   "id": "e0d82f09-7b2e-46d5-9de9-db2edd845207",
   "metadata": {},
   "outputs": [
    {
     "data": {
      "text/plain": [
       "array([nan, 'Rain', 'Fog-Snow', 'Snow'], dtype=object)"
      ]
     },
     "execution_count": 27,
     "metadata": {},
     "output_type": "execute_result"
    }
   ],
   "source": [
    "ds.Events.unique()"
   ]
  },
  {
   "cell_type": "code",
   "execution_count": 28,
   "id": "89ee5b80-0bb4-43b7-8502-1f12938d74a1",
   "metadata": {},
   "outputs": [
    {
     "data": {
      "text/plain": [
       "count        9\n",
       "unique       3\n",
       "top       Rain\n",
       "freq         4\n",
       "Name: Events, dtype: object"
      ]
     },
     "execution_count": 28,
     "metadata": {},
     "output_type": "execute_result"
    }
   ],
   "source": [
    "ds.Events.describe()"
   ]
  },
  {
   "cell_type": "code",
   "execution_count": 30,
   "id": "3efdfaea-9eab-4a57-b933-a6a51061e5ba",
   "metadata": {},
   "outputs": [
    {
     "data": {
      "text/plain": [
       "0     38\n",
       "1     36\n",
       "2     40\n",
       "3     25\n",
       "4     20\n",
       "5     33\n",
       "6     39\n",
       "7     39\n",
       "8     44\n",
       "9     50\n",
       "10    33\n",
       "11    35\n",
       "12    26\n",
       "13    30\n",
       "14    43\n",
       "15    47\n",
       "16    36\n",
       "17    25\n",
       "18    22\n",
       "19    32\n",
       "20    31\n",
       "21    26\n",
       "22    26\n",
       "23    28\n",
       "24    34\n",
       "25    43\n",
       "26    41\n",
       "27    37\n",
       "28    36\n",
       "29    34\n",
       "30    46\n",
       "Name: Temperature, dtype: int64"
      ]
     },
     "execution_count": 30,
     "metadata": {},
     "output_type": "execute_result"
    }
   ],
   "source": [
    "ds['Temperature']"
   ]
  },
  {
   "cell_type": "code",
   "execution_count": 34,
   "id": "fe21def2-54f4-4267-abd4-8bf30a348b11",
   "metadata": {},
   "outputs": [
    {
     "data": {
      "text/plain": [
       "np.int64(22)"
      ]
     },
     "execution_count": 34,
     "metadata": {},
     "output_type": "execute_result"
    }
   ],
   "source": [
    "df=ds.Temperature>30\n",
    "df.sum()"
   ]
  },
  {
   "cell_type": "code",
   "execution_count": 35,
   "id": "572057e4-6d70-481b-a145-c8297b946946",
   "metadata": {},
   "outputs": [
    {
     "data": {
      "text/plain": [
       "np.int64(22)"
      ]
     },
     "execution_count": 35,
     "metadata": {},
     "output_type": "execute_result"
    }
   ],
   "source": [
    "df=ds['Temperature']>30\n",
    "df.sum()"
   ]
  },
  {
   "cell_type": "code",
   "execution_count": 36,
   "id": "96b6f66f-7591-45f2-913a-3505e6085665",
   "metadata": {},
   "outputs": [
    {
     "data": {
      "text/plain": [
       "np.int64(50)"
      ]
     },
     "execution_count": 36,
     "metadata": {},
     "output_type": "execute_result"
    }
   ],
   "source": [
    "ds['Temperature'].max()"
   ]
  },
  {
   "cell_type": "code",
   "execution_count": 37,
   "id": "12ea1feb-a69b-4eb5-a32f-0e361fd84960",
   "metadata": {},
   "outputs": [
    {
     "data": {
      "text/plain": [
       "np.int64(20)"
      ]
     },
     "execution_count": 37,
     "metadata": {},
     "output_type": "execute_result"
    }
   ],
   "source": [
    "ds['Temperature'].min()"
   ]
  },
  {
   "cell_type": "code",
   "execution_count": 40,
   "id": "e6e0901e-dca8-4425-9690-30d96bbd8671",
   "metadata": {},
   "outputs": [
    {
     "data": {
      "text/plain": [
       "8      1/9/2016\n",
       "9     1/10/2016\n",
       "15    1/16/2016\n",
       "26    1/27/2016\n",
       "Name: EST, dtype: object"
      ]
     },
     "execution_count": 40,
     "metadata": {},
     "output_type": "execute_result"
    }
   ],
   "source": [
    "ds['EST'][ds['Events']==\"Rain\"]"
   ]
  },
  {
   "cell_type": "code",
   "execution_count": 44,
   "id": "c8a17d26-91ce-488f-8192-ba26eb067bbf",
   "metadata": {},
   "outputs": [
    {
     "data": {
      "text/plain": [
       "15    1/16/2016\n",
       "Name: EST, dtype: object"
      ]
     },
     "execution_count": 44,
     "metadata": {},
     "output_type": "execute_result"
    }
   ],
   "source": [
    "ds['EST'][ds['Humidity']==70]\n",
    "# ds['EST'][ds['Humidity']>=70]\n",
    "# ds['EST'][ds['WindSpeedMPH']==7.0]"
   ]
  },
  {
   "cell_type": "code",
   "execution_count": 45,
   "id": "cfb194c7-e854-44b4-a515-996ddd726a07",
   "metadata": {},
   "outputs": [
    {
     "data": {
      "text/plain": [
       "8      1/9/2016\n",
       "9     1/10/2016\n",
       "15    1/16/2016\n",
       "22    1/23/2016\n",
       "Name: EST, dtype: object"
      ]
     },
     "execution_count": 45,
     "metadata": {},
     "output_type": "execute_result"
    }
   ],
   "source": [
    "# ds['EST'][ds['Humidity']==70]\n",
    "ds['EST'][ds['Humidity']>=70]\n",
    "# ds['EST'][ds['WindSpeedMPH']==7.0]"
   ]
  },
  {
   "cell_type": "code",
   "execution_count": 46,
   "id": "1781f8dc-d5e9-43c8-a18e-8185251f4db0",
   "metadata": {},
   "outputs": [
    {
     "data": {
      "text/plain": [
       "1      1/2/2016\n",
       "15    1/16/2016\n",
       "25    1/26/2016\n",
       "26    1/27/2016\n",
       "29    1/30/2016\n",
       "Name: EST, dtype: object"
      ]
     },
     "execution_count": 46,
     "metadata": {},
     "output_type": "execute_result"
    }
   ],
   "source": [
    "# ds['EST'][ds['Humidity']==70]\n",
    "# ds['EST'][ds['Humidity']>=70]\n",
    "ds['EST'][ds['WindSpeedMPH']==7.0]"
   ]
  },
  {
   "cell_type": "code",
   "execution_count": 50,
   "id": "3bbb5ff0-4543-4262-82f7-9fdbc4a6cd5e",
   "metadata": {},
   "outputs": [
    {
     "data": {
      "text/plain": [
       "0      8.0\n",
       "1      7.0\n",
       "2      8.0\n",
       "3      9.0\n",
       "4      5.0\n",
       "5      4.0\n",
       "6      2.0\n",
       "7      4.0\n",
       "8      8.0\n",
       "11     6.0\n",
       "12    10.0\n",
       "13     5.0\n",
       "14     5.0\n",
       "15     7.0\n",
       "16     6.0\n",
       "17    12.0\n",
       "18    11.0\n",
       "19     6.0\n",
       "20     6.0\n",
       "22    16.0\n",
       "23     6.0\n",
       "24     3.0\n",
       "25     7.0\n",
       "26     7.0\n",
       "27     5.0\n",
       "28     8.0\n",
       "29     7.0\n",
       "30     5.0\n",
       "Name: WindSpeedMPH, dtype: float64"
      ]
     },
     "execution_count": 50,
     "metadata": {},
     "output_type": "execute_result"
    }
   ],
   "source": [
    "ds['WindSpeedMPH'][ds['WindSpeedMPH'].isna()==False]"
   ]
  },
  {
   "cell_type": "code",
   "execution_count": 51,
   "id": "b0d79713-cebf-49b0-be96-2baa63cff8d5",
   "metadata": {},
   "outputs": [
    {
     "data": {
      "text/plain": [
       "9    NaN\n",
       "10   NaN\n",
       "21   NaN\n",
       "Name: WindSpeedMPH, dtype: float64"
      ]
     },
     "execution_count": 51,
     "metadata": {},
     "output_type": "execute_result"
    }
   ],
   "source": [
    "ds['WindSpeedMPH'][ds['WindSpeedMPH'].isna()]"
   ]
  },
  {
   "cell_type": "markdown",
   "id": "0c21fd3d-69f7-486e-9eb3-727ea6c1a094",
   "metadata": {},
   "source": [
    "# Data Structures used in pandas"
   ]
  },
  {
   "cell_type": "markdown",
   "id": "d126476a-4ff2-4415-bc3d-da2af857e0f6",
   "metadata": {},
   "source": [
    "series and dataframes "
   ]
  },
  {
   "cell_type": "markdown",
   "id": "b176b9e8-bb66-4afe-884a-30b5b7c61f5b",
   "metadata": {},
   "source": [
    "# Series"
   ]
  },
  {
   "cell_type": "code",
   "execution_count": 55,
   "id": "d05feff4-cfdc-488e-80fc-2b4a97ed82b8",
   "metadata": {},
   "outputs": [
    {
     "name": "stdout",
     "output_type": "stream",
     "text": [
      "0    10\n",
      "1    20\n",
      "2    30\n",
      "3    40\n",
      "4    50\n",
      "5    60\n",
      "dtype: int64 <class 'pandas.core.series.Series'>\n"
     ]
    }
   ],
   "source": [
    "lst = [10,20,30,40,50,60]\n",
    "\n",
    "s = pd.Series(lst)\n",
    "print(s,type(s))"
   ]
  },
  {
   "cell_type": "code",
   "execution_count": 69,
   "id": "c61af72f-5bbc-42e3-beb7-7dd8800cffe9",
   "metadata": {},
   "outputs": [
    {
     "name": "stdout",
     "output_type": "stream",
     "text": [
      "0    10\n",
      "1    20\n",
      "2    30\n",
      "3    40\n",
      "4    50\n",
      "5    60\n",
      "dtype: int64 <class 'pandas.core.series.Series'>\n"
     ]
    }
   ],
   "source": [
    "\n",
    "s = pd.Series([10,20,30,40,50,60])\n",
    "print(s,type(s))"
   ]
  },
  {
   "cell_type": "code",
   "execution_count": 66,
   "id": "bfa68670-7578-4fe2-aef6-9098b1149c01",
   "metadata": {},
   "outputs": [
    {
     "name": "stdout",
     "output_type": "stream",
     "text": [
      "1st    1\n",
      "2      2\n",
      "3rd    3\n",
      "Name: c1, dtype: int64\n"
     ]
    }
   ],
   "source": [
    "l1 =[1,2,3]\n",
    "\n",
    "l2=pd.Series(l1,index=['1st',2,'3rd'],name='c1')\n",
    "print(l2)"
   ]
  },
  {
   "cell_type": "code",
   "execution_count": 67,
   "id": "59bd0b4a-064a-4789-a601-dafb83da6e08",
   "metadata": {},
   "outputs": [
    {
     "name": "stdout",
     "output_type": "stream",
     "text": [
      "0    10\n",
      "1    20\n",
      "2    30\n",
      "3    40\n",
      "4    50\n",
      "dtype: int64\n"
     ]
    }
   ],
   "source": [
    "print(s.loc[0:4])"
   ]
  },
  {
   "cell_type": "code",
   "execution_count": 71,
   "id": "31faef69-bd99-4a87-a600-95f2c2927285",
   "metadata": {},
   "outputs": [
    {
     "name": "stdout",
     "output_type": "stream",
     "text": [
      "0    10.0\n",
      "1    20.0\n",
      "2    30.0\n",
      "3    40.0\n",
      "4    50.0\n",
      "5    60.0\n",
      "dtype: float32 <class 'pandas.core.series.Series'>\n"
     ]
    }
   ],
   "source": [
    "lst=(10,20,30,40,50,60)\n",
    "s=pd.Series(lst,dtype='float32')\n",
    "print(s,type(s))"
   ]
  },
  {
   "cell_type": "code",
   "execution_count": 73,
   "id": "28e3ae52-2451-4aa2-ad0b-834985ada6dd",
   "metadata": {},
   "outputs": [
    {
     "name": "stdout",
     "output_type": "stream",
     "text": [
      "50.0\n"
     ]
    }
   ],
   "source": [
    "print(s[4])"
   ]
  },
  {
   "cell_type": "code",
   "execution_count": 74,
   "id": "12cb0642-7a38-411a-9bbf-c5ee6be492dc",
   "metadata": {},
   "outputs": [
    {
     "data": {
      "text/plain": [
       "(6,)"
      ]
     },
     "execution_count": 74,
     "metadata": {},
     "output_type": "execute_result"
    }
   ],
   "source": [
    "s.shape"
   ]
  },
  {
   "cell_type": "code",
   "execution_count": 75,
   "id": "d66c03a1-bf8f-4388-ab1d-d021c7543f04",
   "metadata": {},
   "outputs": [
    {
     "name": "stdout",
     "output_type": "stream",
     "text": [
      "1        10\n",
      "2    Rossum\n",
      "3      34.5\n",
      "4    Author\n",
      "dtype: object <class 'pandas.core.series.Series'>\n"
     ]
    }
   ],
   "source": [
    "lst=[10,\"Rossum\",34.5,\"Author\"]\n",
    "\n",
    "s=pd.Series(lst,index=[1,2,3,4])\n",
    "print(s,type(s))"
   ]
  },
  {
   "cell_type": "code",
   "execution_count": 76,
   "id": "7651da15-19ce-4fb7-9f7a-82dfd96b7463",
   "metadata": {},
   "outputs": [
    {
     "name": "stdout",
     "output_type": "stream",
     "text": [
      "stno         10\n",
      "name     Rossum\n",
      "marks      34.5\n",
      "desg     Author\n",
      "dtype: object <class 'pandas.core.series.Series'>\n"
     ]
    }
   ],
   "source": [
    "lst=[10,\"Rossum\",34.5,\"Author\"]\n",
    "\n",
    "s=pd.Series(lst,index=[\"stno\",\"name\",\"marks\",\"desg\"])\n",
    "print(s,type(s))"
   ]
  },
  {
   "cell_type": "code",
   "execution_count": 77,
   "id": "3dace0cd-ef11-4967-b1d9-6a511fc08889",
   "metadata": {},
   "outputs": [
    {
     "data": {
      "text/plain": [
       "10"
      ]
     },
     "execution_count": 77,
     "metadata": {},
     "output_type": "execute_result"
    }
   ],
   "source": [
    "s['stno']"
   ]
  },
  {
   "cell_type": "code",
   "execution_count": 79,
   "id": "da77c0ab-695d-4305-ab46-be904741cd4f",
   "metadata": {},
   "outputs": [
    {
     "name": "stdout",
     "output_type": "stream",
     "text": [
      "{'sub1': 'python', 'sub2': 'Java', 'sub3': 'C++'} <class 'dict'>\n"
     ]
    }
   ],
   "source": [
    "d1={\"sub1\":\"python\",\"sub2\":\"Java\",\"sub3\":\"C++\"}\n",
    "print(d1,type(d1))"
   ]
  },
  {
   "cell_type": "code",
   "execution_count": 81,
   "id": "b469dbb0-fb5f-441f-a2bd-2ee71678bde3",
   "metadata": {},
   "outputs": [
    {
     "data": {
      "text/plain": [
       "<function dict.items>"
      ]
     },
     "execution_count": 81,
     "metadata": {},
     "output_type": "execute_result"
    }
   ],
   "source": [
    "d1.items()"
   ]
  },
  {
   "cell_type": "code",
   "execution_count": 82,
   "id": "705e6ad9-d00c-480e-ba99-398905bdc82b",
   "metadata": {},
   "outputs": [
    {
     "data": {
      "text/plain": [
       "dict_keys(['sub1', 'sub2', 'sub3'])"
      ]
     },
     "execution_count": 82,
     "metadata": {},
     "output_type": "execute_result"
    }
   ],
   "source": [
    "d1.keys()"
   ]
  },
  {
   "cell_type": "code",
   "execution_count": 83,
   "id": "7376754d-318b-40ad-b559-a164d79dd16d",
   "metadata": {},
   "outputs": [
    {
     "data": {
      "text/plain": [
       "dict_values(['python', 'Java', 'C++'])"
      ]
     },
     "execution_count": 83,
     "metadata": {},
     "output_type": "execute_result"
    }
   ],
   "source": [
    "d1.values()"
   ]
  },
  {
   "cell_type": "code",
   "execution_count": 84,
   "id": "1388a55a-696b-409f-af66-c51a33464415",
   "metadata": {},
   "outputs": [
    {
     "name": "stdout",
     "output_type": "stream",
     "text": [
      "sub1    python\n",
      "sub2      Java\n",
      "sub3       C++\n",
      "dtype: object\n"
     ]
    }
   ],
   "source": [
    "d1={\"sub1\":\"python\",\"sub2\":\"Java\",\"sub3\":\"C++\"}\n",
    "s=pd.Series(d1)\n",
    "print(s)"
   ]
  },
  {
   "cell_type": "code",
   "execution_count": 85,
   "id": "b9d61ac9-1439-4cd1-a0f7-76719517a950",
   "metadata": {},
   "outputs": [
    {
     "data": {
      "text/plain": [
       "'Java'"
      ]
     },
     "execution_count": 85,
     "metadata": {},
     "output_type": "execute_result"
    }
   ],
   "source": [
    "s['sub2']"
   ]
  },
  {
   "cell_type": "markdown",
   "id": "e6cca6a3-52da-428b-aebd-e68a7c71efc7",
   "metadata": {},
   "source": [
    "# Dataframe"
   ]
  },
  {
   "cell_type": "code",
   "execution_count": 87,
   "id": "92c0cd29-714f-48a5-b1b5-754b9379d2d7",
   "metadata": {},
   "outputs": [
    {
     "name": "stdout",
     "output_type": "stream",
     "text": [
      "0        [1, 0, 1, 3]\n",
      "1    [10, 20, 30, 40]\n",
      "2    [40, 30, 20, 10]\n",
      "dtype: object <class 'pandas.core.series.Series'>\n"
     ]
    }
   ],
   "source": [
    "lst = [[1,0,1,3],[10,20,30,40],[40,30,20,10]]\n",
    "df=pd.Series(lst)\n",
    "print(df,type(df))"
   ]
  },
  {
   "cell_type": "code",
   "execution_count": 109,
   "id": "b779410f-96df-4f40-8bee-7d3b8a345e1a",
   "metadata": {},
   "outputs": [
    {
     "name": "stdout",
     "output_type": "stream",
     "text": [
      "    0    1\n",
      "0  10   RS\n",
      "1  20   JG\n",
      "2  30  MCK\n",
      "3  40  TRA \n",
      " <class 'pandas.core.frame.DataFrame'>\n"
     ]
    }
   ],
   "source": [
    "lst = [[10,'RS'],[20,'JG'],[30,'MCK'],[40,'TRA']]\n",
    "df=pd.DataFrame(lst)\n",
    "print(df,\"\\n\",type(df))"
   ]
  },
  {
   "cell_type": "code",
   "execution_count": 113,
   "id": "112e6c22-14e9-4b85-8007-1df9005496f6",
   "metadata": {},
   "outputs": [
    {
     "data": {
      "text/html": [
       "<div>\n",
       "<style scoped>\n",
       "    .dataframe tbody tr th:only-of-type {\n",
       "        vertical-align: middle;\n",
       "    }\n",
       "\n",
       "    .dataframe tbody tr th {\n",
       "        vertical-align: top;\n",
       "    }\n",
       "\n",
       "    .dataframe thead th {\n",
       "        text-align: right;\n",
       "    }\n",
       "</style>\n",
       "<table border=\"1\" class=\"dataframe\">\n",
       "  <thead>\n",
       "    <tr style=\"text-align: right;\">\n",
       "      <th></th>\n",
       "      <th>0</th>\n",
       "      <th>1</th>\n",
       "    </tr>\n",
       "  </thead>\n",
       "  <tbody>\n",
       "    <tr>\n",
       "      <th>1</th>\n",
       "      <td>20</td>\n",
       "      <td>JG</td>\n",
       "    </tr>\n",
       "    <tr>\n",
       "      <th>2</th>\n",
       "      <td>30</td>\n",
       "      <td>MCK</td>\n",
       "    </tr>\n",
       "    <tr>\n",
       "      <th>3</th>\n",
       "      <td>40</td>\n",
       "      <td>TRA</td>\n",
       "    </tr>\n",
       "  </tbody>\n",
       "</table>\n",
       "</div>"
      ],
      "text/plain": [
       "    0    1\n",
       "1  20   JG\n",
       "2  30  MCK\n",
       "3  40  TRA"
      ]
     },
     "execution_count": 113,
     "metadata": {},
     "output_type": "execute_result"
    }
   ],
   "source": [
    "df.loc[1::1]"
   ]
  },
  {
   "cell_type": "code",
   "execution_count": 107,
   "id": "8b93685d-ba2e-4301-b106-8c303352d72d",
   "metadata": {},
   "outputs": [
    {
     "data": {
      "text/html": [
       "<div>\n",
       "<style scoped>\n",
       "    .dataframe tbody tr th:only-of-type {\n",
       "        vertical-align: middle;\n",
       "    }\n",
       "\n",
       "    .dataframe tbody tr th {\n",
       "        vertical-align: top;\n",
       "    }\n",
       "\n",
       "    .dataframe thead th {\n",
       "        text-align: right;\n",
       "    }\n",
       "</style>\n",
       "<table border=\"1\" class=\"dataframe\">\n",
       "  <thead>\n",
       "    <tr style=\"text-align: right;\">\n",
       "      <th></th>\n",
       "      <th>Rno</th>\n",
       "      <th>Name</th>\n",
       "    </tr>\n",
       "  </thead>\n",
       "  <tbody>\n",
       "    <tr>\n",
       "      <th>20</th>\n",
       "      <td>20</td>\n",
       "      <td>JG</td>\n",
       "    </tr>\n",
       "    <tr>\n",
       "      <th>30</th>\n",
       "      <td>30</td>\n",
       "      <td>MCK</td>\n",
       "    </tr>\n",
       "    <tr>\n",
       "      <th>Four</th>\n",
       "      <td>40</td>\n",
       "      <td>TRA</td>\n",
       "    </tr>\n",
       "  </tbody>\n",
       "</table>\n",
       "</div>"
      ],
      "text/plain": [
       "      Rno Name\n",
       "20     20   JG\n",
       "30     30  MCK\n",
       "Four   40  TRA"
      ]
     },
     "execution_count": 107,
     "metadata": {},
     "output_type": "execute_result"
    }
   ],
   "source": [
    "df.iloc[1:,:]"
   ]
  },
  {
   "cell_type": "code",
   "execution_count": 106,
   "id": "4cabfb4b-3f0f-4c36-b298-27a035d6603d",
   "metadata": {},
   "outputs": [
    {
     "data": {
      "text/html": [
       "<div>\n",
       "<style scoped>\n",
       "    .dataframe tbody tr th:only-of-type {\n",
       "        vertical-align: middle;\n",
       "    }\n",
       "\n",
       "    .dataframe tbody tr th {\n",
       "        vertical-align: top;\n",
       "    }\n",
       "\n",
       "    .dataframe thead th {\n",
       "        text-align: right;\n",
       "    }\n",
       "</style>\n",
       "<table border=\"1\" class=\"dataframe\">\n",
       "  <thead>\n",
       "    <tr style=\"text-align: right;\">\n",
       "      <th></th>\n",
       "      <th>Rno</th>\n",
       "    </tr>\n",
       "  </thead>\n",
       "  <tbody>\n",
       "    <tr>\n",
       "      <th>Four</th>\n",
       "      <td>40</td>\n",
       "    </tr>\n",
       "  </tbody>\n",
       "</table>\n",
       "</div>"
      ],
      "text/plain": [
       "      Rno\n",
       "Four   40"
      ]
     },
     "execution_count": 106,
     "metadata": {},
     "output_type": "execute_result"
    }
   ],
   "source": [
    "df.iloc[3:,:1]"
   ]
  },
  {
   "cell_type": "code",
   "execution_count": 97,
   "id": "651246e0-bde9-4463-b6c8-cd962c49699d",
   "metadata": {},
   "outputs": [
    {
     "name": "stdout",
     "output_type": "stream",
     "text": [
      "      Rno Name\n",
      "1      10   RS\n",
      "20     20   JG\n",
      "30     30  MCK\n",
      "Four   40  TRA \n",
      " <class 'pandas.core.frame.DataFrame'>\n"
     ]
    }
   ],
   "source": [
    "lst = [[10,'RS'],[20,'JG'],[30,'MCK'],[40,'TRA']]\n",
    "df=pd.DataFrame(lst,columns=(\"Rno\",\"Name\"),index=['1',20,30,'Four'])\n",
    "print(df,\"\\n\",type(df))"
   ]
  },
  {
   "cell_type": "code",
   "execution_count": 115,
   "id": "62eee79e-5263-4b40-bc3c-9758ed6960e0",
   "metadata": {},
   "outputs": [
    {
     "name": "stdout",
     "output_type": "stream",
     "text": [
      "       Name  Age\n",
      "1      Ajay   25\n",
      "@  Christie   26\n",
      "3     Rahul   25\n",
      "4     Navya   23\n"
     ]
    }
   ],
   "source": [
    "tpl = ( (\"Ajay\",25),(\"Christie\",26),(\"Rahul\",25),(\"Navya\",23))\n",
    "df=pd.DataFrame(tpl,index=[1,'@',3,4],columns=[\"Name\",\"Age\"])\n",
    "print(df)"
   ]
  },
  {
   "cell_type": "code",
   "execution_count": 8,
   "id": "129d020b-907c-4da6-a76e-d71b0858530f",
   "metadata": {},
   "outputs": [
    {
     "ename": "ValueError",
     "evalue": "Length of values (4) does not match length of index (816)",
     "output_type": "error",
     "traceback": [
      "\u001b[31m---------------------------------------------------------------------------\u001b[39m",
      "\u001b[31mValueError\u001b[39m                                Traceback (most recent call last)",
      "\u001b[36mCell\u001b[39m\u001b[36m \u001b[39m\u001b[32mIn[8]\u001b[39m\u001b[32m, line 1\u001b[39m\n\u001b[32m----> \u001b[39m\u001b[32m1\u001b[39m \u001b[43mdf\u001b[49m\u001b[43m[\u001b[49m\u001b[33;43m'\u001b[39;49m\u001b[33;43mSalary\u001b[39;49m\u001b[33;43m'\u001b[39;49m\u001b[43m]\u001b[49m=[\u001b[32m1000\u001b[39m,\u001b[32m2000\u001b[39m,\u001b[32m3000\u001b[39m,\u001b[32m4000\u001b[39m] \u001b[38;5;66;03m#same number of should be given to salary\u001b[39;00m\n\u001b[32m      2\u001b[39m \u001b[38;5;28mprint\u001b[39m(df)\n",
      "\u001b[36mFile \u001b[39m\u001b[32mC:\\Program Files\\Python311\\Lib\\site-packages\\pandas\\core\\frame.py:4311\u001b[39m, in \u001b[36mDataFrame.__setitem__\u001b[39m\u001b[34m(self, key, value)\u001b[39m\n\u001b[32m   4308\u001b[39m     \u001b[38;5;28mself\u001b[39m._setitem_array([key], value)\n\u001b[32m   4309\u001b[39m \u001b[38;5;28;01melse\u001b[39;00m:\n\u001b[32m   4310\u001b[39m     \u001b[38;5;66;03m# set column\u001b[39;00m\n\u001b[32m-> \u001b[39m\u001b[32m4311\u001b[39m     \u001b[38;5;28;43mself\u001b[39;49m\u001b[43m.\u001b[49m\u001b[43m_set_item\u001b[49m\u001b[43m(\u001b[49m\u001b[43mkey\u001b[49m\u001b[43m,\u001b[49m\u001b[43m \u001b[49m\u001b[43mvalue\u001b[49m\u001b[43m)\u001b[49m\n",
      "\u001b[36mFile \u001b[39m\u001b[32mC:\\Program Files\\Python311\\Lib\\site-packages\\pandas\\core\\frame.py:4524\u001b[39m, in \u001b[36mDataFrame._set_item\u001b[39m\u001b[34m(self, key, value)\u001b[39m\n\u001b[32m   4514\u001b[39m \u001b[38;5;28;01mdef\u001b[39;00m\u001b[38;5;250m \u001b[39m\u001b[34m_set_item\u001b[39m(\u001b[38;5;28mself\u001b[39m, key, value) -> \u001b[38;5;28;01mNone\u001b[39;00m:\n\u001b[32m   4515\u001b[39m \u001b[38;5;250m    \u001b[39m\u001b[33;03m\"\"\"\u001b[39;00m\n\u001b[32m   4516\u001b[39m \u001b[33;03m    Add series to DataFrame in specified column.\u001b[39;00m\n\u001b[32m   4517\u001b[39m \n\u001b[32m   (...)\u001b[39m\u001b[32m   4522\u001b[39m \u001b[33;03m    ensure homogeneity.\u001b[39;00m\n\u001b[32m   4523\u001b[39m \u001b[33;03m    \"\"\"\u001b[39;00m\n\u001b[32m-> \u001b[39m\u001b[32m4524\u001b[39m     value, refs = \u001b[38;5;28;43mself\u001b[39;49m\u001b[43m.\u001b[49m\u001b[43m_sanitize_column\u001b[49m\u001b[43m(\u001b[49m\u001b[43mvalue\u001b[49m\u001b[43m)\u001b[49m\n\u001b[32m   4526\u001b[39m     \u001b[38;5;28;01mif\u001b[39;00m (\n\u001b[32m   4527\u001b[39m         key \u001b[38;5;129;01min\u001b[39;00m \u001b[38;5;28mself\u001b[39m.columns\n\u001b[32m   4528\u001b[39m         \u001b[38;5;129;01mand\u001b[39;00m value.ndim == \u001b[32m1\u001b[39m\n\u001b[32m   4529\u001b[39m         \u001b[38;5;129;01mand\u001b[39;00m \u001b[38;5;129;01mnot\u001b[39;00m \u001b[38;5;28misinstance\u001b[39m(value.dtype, ExtensionDtype)\n\u001b[32m   4530\u001b[39m     ):\n\u001b[32m   4531\u001b[39m         \u001b[38;5;66;03m# broadcast across multiple columns if necessary\u001b[39;00m\n\u001b[32m   4532\u001b[39m         \u001b[38;5;28;01mif\u001b[39;00m \u001b[38;5;129;01mnot\u001b[39;00m \u001b[38;5;28mself\u001b[39m.columns.is_unique \u001b[38;5;129;01mor\u001b[39;00m \u001b[38;5;28misinstance\u001b[39m(\u001b[38;5;28mself\u001b[39m.columns, MultiIndex):\n",
      "\u001b[36mFile \u001b[39m\u001b[32mC:\\Program Files\\Python311\\Lib\\site-packages\\pandas\\core\\frame.py:5266\u001b[39m, in \u001b[36mDataFrame._sanitize_column\u001b[39m\u001b[34m(self, value)\u001b[39m\n\u001b[32m   5263\u001b[39m     \u001b[38;5;28;01mreturn\u001b[39;00m _reindex_for_setitem(value, \u001b[38;5;28mself\u001b[39m.index)\n\u001b[32m   5265\u001b[39m \u001b[38;5;28;01mif\u001b[39;00m is_list_like(value):\n\u001b[32m-> \u001b[39m\u001b[32m5266\u001b[39m     \u001b[43mcom\u001b[49m\u001b[43m.\u001b[49m\u001b[43mrequire_length_match\u001b[49m\u001b[43m(\u001b[49m\u001b[43mvalue\u001b[49m\u001b[43m,\u001b[49m\u001b[43m \u001b[49m\u001b[38;5;28;43mself\u001b[39;49m\u001b[43m.\u001b[49m\u001b[43mindex\u001b[49m\u001b[43m)\u001b[49m\n\u001b[32m   5267\u001b[39m arr = sanitize_array(value, \u001b[38;5;28mself\u001b[39m.index, copy=\u001b[38;5;28;01mTrue\u001b[39;00m, allow_2d=\u001b[38;5;28;01mTrue\u001b[39;00m)\n\u001b[32m   5268\u001b[39m \u001b[38;5;28;01mif\u001b[39;00m (\n\u001b[32m   5269\u001b[39m     \u001b[38;5;28misinstance\u001b[39m(value, Index)\n\u001b[32m   5270\u001b[39m     \u001b[38;5;129;01mand\u001b[39;00m value.dtype == \u001b[33m\"\u001b[39m\u001b[33mobject\u001b[39m\u001b[33m\"\u001b[39m\n\u001b[32m   (...)\u001b[39m\u001b[32m   5273\u001b[39m     \u001b[38;5;66;03m# TODO: Remove kludge in sanitize_array for string mode when enforcing\u001b[39;00m\n\u001b[32m   5274\u001b[39m     \u001b[38;5;66;03m# this deprecation\u001b[39;00m\n",
      "\u001b[36mFile \u001b[39m\u001b[32mC:\\Program Files\\Python311\\Lib\\site-packages\\pandas\\core\\common.py:573\u001b[39m, in \u001b[36mrequire_length_match\u001b[39m\u001b[34m(data, index)\u001b[39m\n\u001b[32m    569\u001b[39m \u001b[38;5;250m\u001b[39m\u001b[33;03m\"\"\"\u001b[39;00m\n\u001b[32m    570\u001b[39m \u001b[33;03mCheck the length of data matches the length of the index.\u001b[39;00m\n\u001b[32m    571\u001b[39m \u001b[33;03m\"\"\"\u001b[39;00m\n\u001b[32m    572\u001b[39m \u001b[38;5;28;01mif\u001b[39;00m \u001b[38;5;28mlen\u001b[39m(data) != \u001b[38;5;28mlen\u001b[39m(index):\n\u001b[32m--> \u001b[39m\u001b[32m573\u001b[39m     \u001b[38;5;28;01mraise\u001b[39;00m \u001b[38;5;167;01mValueError\u001b[39;00m(\n\u001b[32m    574\u001b[39m         \u001b[33m\"\u001b[39m\u001b[33mLength of values \u001b[39m\u001b[33m\"\u001b[39m\n\u001b[32m    575\u001b[39m         \u001b[33mf\u001b[39m\u001b[33m\"\u001b[39m\u001b[33m(\u001b[39m\u001b[38;5;132;01m{\u001b[39;00m\u001b[38;5;28mlen\u001b[39m(data)\u001b[38;5;132;01m}\u001b[39;00m\u001b[33m) \u001b[39m\u001b[33m\"\u001b[39m\n\u001b[32m    576\u001b[39m         \u001b[33m\"\u001b[39m\u001b[33mdoes not match length of index \u001b[39m\u001b[33m\"\u001b[39m\n\u001b[32m    577\u001b[39m         \u001b[33mf\u001b[39m\u001b[33m\"\u001b[39m\u001b[33m(\u001b[39m\u001b[38;5;132;01m{\u001b[39;00m\u001b[38;5;28mlen\u001b[39m(index)\u001b[38;5;132;01m}\u001b[39;00m\u001b[33m)\u001b[39m\u001b[33m\"\u001b[39m\n\u001b[32m    578\u001b[39m     )\n",
      "\u001b[31mValueError\u001b[39m: Length of values (4) does not match length of index (816)"
     ]
    }
   ],
   "source": [
    "df['Salary']=[1000,2000,3000,4000] #same number of should be given to salary\n",
    "print(df)"
   ]
  },
  {
   "cell_type": "code",
   "execution_count": 119,
   "id": "83f08a98-c7c5-4505-b7a1-1618dd5599ee",
   "metadata": {},
   "outputs": [
    {
     "name": "stdout",
     "output_type": "stream",
     "text": [
      "       Name  Age\n",
      "1      Ajay   25\n",
      "@  Christie   26\n",
      "3     Rahul   25\n",
      "4     Navya   23\n"
     ]
    }
   ],
   "source": [
    "df.drop('Salary',axis=1,inplace=True)\n",
    "print(df)"
   ]
  },
  {
   "cell_type": "code",
   "execution_count": null,
   "id": "f3109a3e-99a8-4f94-b12b-45a6d4bad2b5",
   "metadata": {},
   "outputs": [],
   "source": []
  },
  {
   "cell_type": "code",
   "execution_count": 121,
   "id": "87dbcc37-0ba7-4320-890c-5ba5b45f8fd9",
   "metadata": {},
   "outputs": [
    {
     "name": "stdout",
     "output_type": "stream",
     "text": [
      "{'Names': ['Ajay', 'Navya', 'Rahul', 'Sebin'], 'Subjects': ['Python', 'Java', 'C', 'Javascript'], 'Ages': [25, 23, 25, 24]}\n"
     ]
    }
   ],
   "source": [
    "dictdata={\"Names\":[\"Ajay\",\"Navya\",\"Rahul\",\"Sebin\"],\"Subjects\":[\"Python\",\"Java\",\"C\",\"Javascript\"],\"Ages\":[25,23,25,24]}\n",
    "# dictdata.values()\n",
    "print(dictdata)"
   ]
  },
  {
   "cell_type": "code",
   "execution_count": 122,
   "id": "d6212a95-eebc-4d1c-8611-f2ca0f279a5f",
   "metadata": {},
   "outputs": [
    {
     "name": "stdout",
     "output_type": "stream",
     "text": [
      "   Names    Subjects  Ages\n",
      "0   Ajay      Python    25\n",
      "1  Navya        Java    23\n",
      "2  Rahul           C    25\n",
      "3  Sebin  Javascript    24\n"
     ]
    }
   ],
   "source": [
    "df=pd.DataFrame(dictdata)\n",
    "print(df)"
   ]
  },
  {
   "cell_type": "code",
   "execution_count": 123,
   "id": "e7a4c147-9215-4011-a58b-3f255f5b3944",
   "metadata": {},
   "outputs": [
    {
     "data": {
      "text/plain": [
       "(4, 3)"
      ]
     },
     "execution_count": 123,
     "metadata": {},
     "output_type": "execute_result"
    }
   ],
   "source": [
    "df.shape"
   ]
  },
  {
   "cell_type": "code",
   "execution_count": 124,
   "id": "3a27bcdc-f09e-4096-8574-49d3b41cde4d",
   "metadata": {},
   "outputs": [
    {
     "name": "stdout",
     "output_type": "stream",
     "text": [
      "   Names    Subjects  Ages\n",
      "1   Ajay      Python    25\n",
      "2  Navya        Java    23\n",
      "e  Rahul           C    25\n",
      "4  Sebin  Javascript    24\n"
     ]
    }
   ],
   "source": [
    "df=pd.DataFrame(dictdata,index=[1,2,'e',4])\n",
    "print(df)"
   ]
  },
  {
   "cell_type": "markdown",
   "id": "f884c1d9-dec7-4efd-bcef-562b0cd652e0",
   "metadata": {},
   "source": [
    "# Creating an object DataFrame by Using Series object"
   ]
  },
  {
   "cell_type": "code",
   "execution_count": 125,
   "id": "0cc7a192-39a9-47bd-a52c-3822208163f7",
   "metadata": {},
   "outputs": [
    {
     "name": "stdout",
     "output_type": "stream",
     "text": [
      "0    10\n",
      "1    20\n",
      "2    30\n",
      "3    40\n",
      "dtype: int64\n"
     ]
    }
   ],
   "source": [
    "l1=[10,20,30,40]\n",
    "sdata=pd.Series(l1)\n",
    "print(sdata)"
   ]
  },
  {
   "cell_type": "code",
   "execution_count": 128,
   "id": "3b10b872-1486-4f48-8540-427006bc8a9e",
   "metadata": {},
   "outputs": [
    {
     "name": "stdout",
     "output_type": "stream",
     "text": [
      "   Number\n",
      "0      10\n",
      "1      20\n",
      "2      30\n",
      "3      40\n"
     ]
    }
   ],
   "source": [
    "df=pd.DataFrame(sdata,columns=[\"Number\"])\n",
    "print(df)"
   ]
  },
  {
   "cell_type": "code",
   "execution_count": 138,
   "id": "e48457f3-c0ac-4fe0-8a69-688b7cf67c28",
   "metadata": {},
   "outputs": [
    {
     "ename": "IndexingError",
     "evalue": "Too many indexers",
     "output_type": "error",
     "traceback": [
      "\u001b[31m---------------------------------------------------------------------------\u001b[39m",
      "\u001b[31mIndexingError\u001b[39m                             Traceback (most recent call last)",
      "\u001b[36mCell\u001b[39m\u001b[36m \u001b[39m\u001b[32mIn[138]\u001b[39m\u001b[32m, line 2\u001b[39m\n\u001b[32m      1\u001b[39m sdata2=pd.Series([\u001b[33m'\u001b[39m\u001b[33m1st\u001b[39m\u001b[33m'\u001b[39m,\u001b[33m'\u001b[39m\u001b[33m2nd\u001b[39m\u001b[33m'\u001b[39m,\u001b[33m'\u001b[39m\u001b[33m3rd\u001b[39m\u001b[33m'\u001b[39m,\u001b[33m'\u001b[39m\u001b[33m4rth\u001b[39m\u001b[33m'\u001b[39m])\n\u001b[32m----> \u001b[39m\u001b[32m2\u001b[39m \u001b[43msdata2\u001b[49m\u001b[43m.\u001b[49m\u001b[43miloc\u001b[49m\u001b[43m[\u001b[49m\u001b[32;43m2\u001b[39;49m\u001b[43m:\u001b[49m\u001b[43m,\u001b[49m\u001b[43m:\u001b[49m\u001b[32;43m1\u001b[39;49m\u001b[43m]\u001b[49m\n",
      "\u001b[36mFile \u001b[39m\u001b[32mC:\\Program Files\\Python311\\Lib\\site-packages\\pandas\\core\\indexing.py:1184\u001b[39m, in \u001b[36m_LocationIndexer.__getitem__\u001b[39m\u001b[34m(self, key)\u001b[39m\n\u001b[32m   1182\u001b[39m     \u001b[38;5;28;01mif\u001b[39;00m \u001b[38;5;28mself\u001b[39m._is_scalar_access(key):\n\u001b[32m   1183\u001b[39m         \u001b[38;5;28;01mreturn\u001b[39;00m \u001b[38;5;28mself\u001b[39m.obj._get_value(*key, takeable=\u001b[38;5;28mself\u001b[39m._takeable)\n\u001b[32m-> \u001b[39m\u001b[32m1184\u001b[39m     \u001b[38;5;28;01mreturn\u001b[39;00m \u001b[38;5;28;43mself\u001b[39;49m\u001b[43m.\u001b[49m\u001b[43m_getitem_tuple\u001b[49m\u001b[43m(\u001b[49m\u001b[43mkey\u001b[49m\u001b[43m)\u001b[49m\n\u001b[32m   1185\u001b[39m \u001b[38;5;28;01melse\u001b[39;00m:\n\u001b[32m   1186\u001b[39m     \u001b[38;5;66;03m# we by definition only have the 0th axis\u001b[39;00m\n\u001b[32m   1187\u001b[39m     axis = \u001b[38;5;28mself\u001b[39m.axis \u001b[38;5;129;01mor\u001b[39;00m \u001b[32m0\u001b[39m\n",
      "\u001b[36mFile \u001b[39m\u001b[32mC:\\Program Files\\Python311\\Lib\\site-packages\\pandas\\core\\indexing.py:1690\u001b[39m, in \u001b[36m_iLocIndexer._getitem_tuple\u001b[39m\u001b[34m(self, tup)\u001b[39m\n\u001b[32m   1689\u001b[39m \u001b[38;5;28;01mdef\u001b[39;00m\u001b[38;5;250m \u001b[39m\u001b[34m_getitem_tuple\u001b[39m(\u001b[38;5;28mself\u001b[39m, tup: \u001b[38;5;28mtuple\u001b[39m):\n\u001b[32m-> \u001b[39m\u001b[32m1690\u001b[39m     tup = \u001b[38;5;28;43mself\u001b[39;49m\u001b[43m.\u001b[49m\u001b[43m_validate_tuple_indexer\u001b[49m\u001b[43m(\u001b[49m\u001b[43mtup\u001b[49m\u001b[43m)\u001b[49m\n\u001b[32m   1691\u001b[39m     \u001b[38;5;28;01mwith\u001b[39;00m suppress(IndexingError):\n\u001b[32m   1692\u001b[39m         \u001b[38;5;28;01mreturn\u001b[39;00m \u001b[38;5;28mself\u001b[39m._getitem_lowerdim(tup)\n",
      "\u001b[36mFile \u001b[39m\u001b[32mC:\\Program Files\\Python311\\Lib\\site-packages\\pandas\\core\\indexing.py:962\u001b[39m, in \u001b[36m_LocationIndexer._validate_tuple_indexer\u001b[39m\u001b[34m(self, key)\u001b[39m\n\u001b[32m    957\u001b[39m \u001b[38;5;129m@final\u001b[39m\n\u001b[32m    958\u001b[39m \u001b[38;5;28;01mdef\u001b[39;00m\u001b[38;5;250m \u001b[39m\u001b[34m_validate_tuple_indexer\u001b[39m(\u001b[38;5;28mself\u001b[39m, key: \u001b[38;5;28mtuple\u001b[39m) -> \u001b[38;5;28mtuple\u001b[39m:\n\u001b[32m    959\u001b[39m \u001b[38;5;250m    \u001b[39m\u001b[33;03m\"\"\"\u001b[39;00m\n\u001b[32m    960\u001b[39m \u001b[33;03m    Check the key for valid keys across my indexer.\u001b[39;00m\n\u001b[32m    961\u001b[39m \u001b[33;03m    \"\"\"\u001b[39;00m\n\u001b[32m--> \u001b[39m\u001b[32m962\u001b[39m     key = \u001b[38;5;28;43mself\u001b[39;49m\u001b[43m.\u001b[49m\u001b[43m_validate_key_length\u001b[49m\u001b[43m(\u001b[49m\u001b[43mkey\u001b[49m\u001b[43m)\u001b[49m\n\u001b[32m    963\u001b[39m     key = \u001b[38;5;28mself\u001b[39m._expand_ellipsis(key)\n\u001b[32m    964\u001b[39m     \u001b[38;5;28;01mfor\u001b[39;00m i, k \u001b[38;5;129;01min\u001b[39;00m \u001b[38;5;28menumerate\u001b[39m(key):\n",
      "\u001b[36mFile \u001b[39m\u001b[32mC:\\Program Files\\Python311\\Lib\\site-packages\\pandas\\core\\indexing.py:1001\u001b[39m, in \u001b[36m_LocationIndexer._validate_key_length\u001b[39m\u001b[34m(self, key)\u001b[39m\n\u001b[32m    999\u001b[39m             \u001b[38;5;28;01mraise\u001b[39;00m IndexingError(_one_ellipsis_message)\n\u001b[32m   1000\u001b[39m         \u001b[38;5;28;01mreturn\u001b[39;00m \u001b[38;5;28mself\u001b[39m._validate_key_length(key)\n\u001b[32m-> \u001b[39m\u001b[32m1001\u001b[39m     \u001b[38;5;28;01mraise\u001b[39;00m IndexingError(\u001b[33m\"\u001b[39m\u001b[33mToo many indexers\u001b[39m\u001b[33m\"\u001b[39m)\n\u001b[32m   1002\u001b[39m \u001b[38;5;28;01mreturn\u001b[39;00m key\n",
      "\u001b[31mIndexingError\u001b[39m: Too many indexers"
     ]
    }
   ],
   "source": [
    "sdata2=pd.Series(['1st','2nd','3rd','4rth'])\n",
    "sdata2.iloc[2:,:1]"
   ]
  },
  {
   "cell_type": "code",
   "execution_count": 132,
   "id": "cf0b109f-6938-4778-bcfe-8e59469ad9d1",
   "metadata": {},
   "outputs": [
    {
     "data": {
      "text/plain": [
       "pandas.core.frame.DataFrame"
      ]
     },
     "execution_count": 132,
     "metadata": {},
     "output_type": "execute_result"
    }
   ],
   "source": [
    "type(df)"
   ]
  },
  {
   "cell_type": "code",
   "execution_count": null,
   "id": "1c4ef4d1-1f01-4f13-9518-ab55ad4dc37e",
   "metadata": {},
   "outputs": [],
   "source": [
    "d1={\"totmark\":[100,200,150,189],}"
   ]
  },
  {
   "cell_type": "code",
   "execution_count": null,
   "id": "595554e1-0023-4953-9511-2f76f1cf5bdc",
   "metadata": {},
   "outputs": [],
   "source": []
  },
  {
   "cell_type": "code",
   "execution_count": 139,
   "id": "bec767a9-3554-4435-ad4a-317c76015a44",
   "metadata": {},
   "outputs": [
    {
     "data": {
      "text/html": [
       "<div>\n",
       "<style scoped>\n",
       "    .dataframe tbody tr th:only-of-type {\n",
       "        vertical-align: middle;\n",
       "    }\n",
       "\n",
       "    .dataframe tbody tr th {\n",
       "        vertical-align: top;\n",
       "    }\n",
       "\n",
       "    .dataframe thead th {\n",
       "        text-align: right;\n",
       "    }\n",
       "</style>\n",
       "<table border=\"1\" class=\"dataframe\">\n",
       "  <thead>\n",
       "    <tr style=\"text-align: right;\">\n",
       "      <th></th>\n",
       "      <th>Number</th>\n",
       "    </tr>\n",
       "  </thead>\n",
       "  <tbody>\n",
       "    <tr>\n",
       "      <th>3</th>\n",
       "      <td>40</td>\n",
       "    </tr>\n",
       "  </tbody>\n",
       "</table>\n",
       "</div>"
      ],
      "text/plain": [
       "   Number\n",
       "3      40"
      ]
     },
     "execution_count": 139,
     "metadata": {},
     "output_type": "execute_result"
    }
   ],
   "source": [
    "df.iloc[3:,:]"
   ]
  },
  {
   "cell_type": "code",
   "execution_count": 141,
   "id": "b98a8e67-81cb-4d21-965e-64a7e57bfa24",
   "metadata": {},
   "outputs": [],
   "source": [
    "df['Extra']=[200,400,600,300]"
   ]
  },
  {
   "cell_type": "code",
   "execution_count": 142,
   "id": "38b2be71-cf79-46c0-a470-6baf37a7917d",
   "metadata": {},
   "outputs": [
    {
     "name": "stdout",
     "output_type": "stream",
     "text": [
      "   Number  Salary  Extra\n",
      "0      10    1000    200\n",
      "1      20    2000    400\n",
      "2      30    3000    600\n",
      "3      40    4000    300\n"
     ]
    }
   ],
   "source": [
    "print(df)"
   ]
  },
  {
   "cell_type": "code",
   "execution_count": 7,
   "id": "6295c375-8d78-4bd2-bdde-fcce33327a07",
   "metadata": {},
   "outputs": [
    {
     "ename": "KeyError",
     "evalue": "'Salary'",
     "output_type": "error",
     "traceback": [
      "\u001b[31m---------------------------------------------------------------------------\u001b[39m",
      "\u001b[31mKeyError\u001b[39m                                  Traceback (most recent call last)",
      "\u001b[36mFile \u001b[39m\u001b[32mC:\\Program Files\\Python311\\Lib\\site-packages\\pandas\\core\\indexes\\base.py:3805\u001b[39m, in \u001b[36mIndex.get_loc\u001b[39m\u001b[34m(self, key)\u001b[39m\n\u001b[32m   3804\u001b[39m \u001b[38;5;28;01mtry\u001b[39;00m:\n\u001b[32m-> \u001b[39m\u001b[32m3805\u001b[39m     \u001b[38;5;28;01mreturn\u001b[39;00m \u001b[38;5;28;43mself\u001b[39;49m\u001b[43m.\u001b[49m\u001b[43m_engine\u001b[49m\u001b[43m.\u001b[49m\u001b[43mget_loc\u001b[49m\u001b[43m(\u001b[49m\u001b[43mcasted_key\u001b[49m\u001b[43m)\u001b[49m\n\u001b[32m   3806\u001b[39m \u001b[38;5;28;01mexcept\u001b[39;00m \u001b[38;5;167;01mKeyError\u001b[39;00m \u001b[38;5;28;01mas\u001b[39;00m err:\n",
      "\u001b[36mFile \u001b[39m\u001b[32mindex.pyx:167\u001b[39m, in \u001b[36mpandas._libs.index.IndexEngine.get_loc\u001b[39m\u001b[34m()\u001b[39m\n",
      "\u001b[36mFile \u001b[39m\u001b[32mindex.pyx:196\u001b[39m, in \u001b[36mpandas._libs.index.IndexEngine.get_loc\u001b[39m\u001b[34m()\u001b[39m\n",
      "\u001b[36mFile \u001b[39m\u001b[32mpandas\\\\_libs\\\\hashtable_class_helper.pxi:7081\u001b[39m, in \u001b[36mpandas._libs.hashtable.PyObjectHashTable.get_item\u001b[39m\u001b[34m()\u001b[39m\n",
      "\u001b[36mFile \u001b[39m\u001b[32mpandas\\\\_libs\\\\hashtable_class_helper.pxi:7089\u001b[39m, in \u001b[36mpandas._libs.hashtable.PyObjectHashTable.get_item\u001b[39m\u001b[34m()\u001b[39m\n",
      "\u001b[31mKeyError\u001b[39m: 'Salary'",
      "\nThe above exception was the direct cause of the following exception:\n",
      "\u001b[31mKeyError\u001b[39m                                  Traceback (most recent call last)",
      "\u001b[36mCell\u001b[39m\u001b[36m \u001b[39m\u001b[32mIn[7]\u001b[39m\u001b[32m, line 1\u001b[39m\n\u001b[32m----> \u001b[39m\u001b[32m1\u001b[39m df[\u001b[33m'\u001b[39m\u001b[33mTotal_Salary\u001b[39m\u001b[33m'\u001b[39m]=\u001b[43mdf\u001b[49m\u001b[43m[\u001b[49m\u001b[33;43m'\u001b[39;49m\u001b[33;43mSalary\u001b[39;49m\u001b[33;43m'\u001b[39;49m\u001b[43m]\u001b[49m+df[\u001b[33m'\u001b[39m\u001b[33mExtra\u001b[39m\u001b[33m'\u001b[39m]\n\u001b[32m      2\u001b[39m \u001b[38;5;28mprint\u001b[39m(df)\n",
      "\u001b[36mFile \u001b[39m\u001b[32mC:\\Program Files\\Python311\\Lib\\site-packages\\pandas\\core\\frame.py:4102\u001b[39m, in \u001b[36mDataFrame.__getitem__\u001b[39m\u001b[34m(self, key)\u001b[39m\n\u001b[32m   4100\u001b[39m \u001b[38;5;28;01mif\u001b[39;00m \u001b[38;5;28mself\u001b[39m.columns.nlevels > \u001b[32m1\u001b[39m:\n\u001b[32m   4101\u001b[39m     \u001b[38;5;28;01mreturn\u001b[39;00m \u001b[38;5;28mself\u001b[39m._getitem_multilevel(key)\n\u001b[32m-> \u001b[39m\u001b[32m4102\u001b[39m indexer = \u001b[38;5;28;43mself\u001b[39;49m\u001b[43m.\u001b[49m\u001b[43mcolumns\u001b[49m\u001b[43m.\u001b[49m\u001b[43mget_loc\u001b[49m\u001b[43m(\u001b[49m\u001b[43mkey\u001b[49m\u001b[43m)\u001b[49m\n\u001b[32m   4103\u001b[39m \u001b[38;5;28;01mif\u001b[39;00m is_integer(indexer):\n\u001b[32m   4104\u001b[39m     indexer = [indexer]\n",
      "\u001b[36mFile \u001b[39m\u001b[32mC:\\Program Files\\Python311\\Lib\\site-packages\\pandas\\core\\indexes\\base.py:3812\u001b[39m, in \u001b[36mIndex.get_loc\u001b[39m\u001b[34m(self, key)\u001b[39m\n\u001b[32m   3807\u001b[39m     \u001b[38;5;28;01mif\u001b[39;00m \u001b[38;5;28misinstance\u001b[39m(casted_key, \u001b[38;5;28mslice\u001b[39m) \u001b[38;5;129;01mor\u001b[39;00m (\n\u001b[32m   3808\u001b[39m         \u001b[38;5;28misinstance\u001b[39m(casted_key, abc.Iterable)\n\u001b[32m   3809\u001b[39m         \u001b[38;5;129;01mand\u001b[39;00m \u001b[38;5;28many\u001b[39m(\u001b[38;5;28misinstance\u001b[39m(x, \u001b[38;5;28mslice\u001b[39m) \u001b[38;5;28;01mfor\u001b[39;00m x \u001b[38;5;129;01min\u001b[39;00m casted_key)\n\u001b[32m   3810\u001b[39m     ):\n\u001b[32m   3811\u001b[39m         \u001b[38;5;28;01mraise\u001b[39;00m InvalidIndexError(key)\n\u001b[32m-> \u001b[39m\u001b[32m3812\u001b[39m     \u001b[38;5;28;01mraise\u001b[39;00m \u001b[38;5;167;01mKeyError\u001b[39;00m(key) \u001b[38;5;28;01mfrom\u001b[39;00m\u001b[38;5;250m \u001b[39m\u001b[34;01merr\u001b[39;00m\n\u001b[32m   3813\u001b[39m \u001b[38;5;28;01mexcept\u001b[39;00m \u001b[38;5;167;01mTypeError\u001b[39;00m:\n\u001b[32m   3814\u001b[39m     \u001b[38;5;66;03m# If we have a listlike key, _check_indexing_error will raise\u001b[39;00m\n\u001b[32m   3815\u001b[39m     \u001b[38;5;66;03m#  InvalidIndexError. Otherwise we fall through and re-raise\u001b[39;00m\n\u001b[32m   3816\u001b[39m     \u001b[38;5;66;03m#  the TypeError.\u001b[39;00m\n\u001b[32m   3817\u001b[39m     \u001b[38;5;28mself\u001b[39m._check_indexing_error(key)\n",
      "\u001b[31mKeyError\u001b[39m: 'Salary'"
     ]
    }
   ],
   "source": [
    "df['Total_Salary']=df['Salary']+df['Extra']\n",
    "print(df)"
   ]
  },
  {
   "cell_type": "code",
   "execution_count": 144,
   "id": "8aadf8cc-4071-4897-9c7d-726bd19885fd",
   "metadata": {},
   "outputs": [],
   "source": [
    "df = df.rename(columns={'Number': 'Names'})"
   ]
  },
  {
   "cell_type": "code",
   "execution_count": 145,
   "id": "c70d45e8-3088-4318-beab-c497718f3571",
   "metadata": {},
   "outputs": [
    {
     "name": "stdout",
     "output_type": "stream",
     "text": [
      "   Names  Salary  Extra  Total_Salary\n",
      "0     10    1000    200          1200\n",
      "1     20    2000    400          2400\n",
      "2     30    3000    600          3600\n",
      "3     40    4000    300          4300\n"
     ]
    }
   ],
   "source": [
    "print(df)"
   ]
  },
  {
   "cell_type": "code",
   "execution_count": 146,
   "id": "e6c65a9b-e925-419c-b856-bf42aaa3ce8b",
   "metadata": {},
   "outputs": [],
   "source": [
    "df['Names']=['Ajay','Rahul','Navya','Sebin']"
   ]
  },
  {
   "cell_type": "code",
   "execution_count": 147,
   "id": "c50309b4-4185-4e32-876c-9e35d160731b",
   "metadata": {},
   "outputs": [
    {
     "name": "stdout",
     "output_type": "stream",
     "text": [
      "   Names  Salary  Extra  Total_Salary\n",
      "0   Ajay    1000    200          1200\n",
      "1  Rahul    2000    400          2400\n",
      "2  Navya    3000    600          3600\n",
      "3  Sebin    4000    300          4300\n"
     ]
    }
   ],
   "source": [
    "print(df)"
   ]
  },
  {
   "cell_type": "code",
   "execution_count": 148,
   "id": "e5c467ee-5f6d-4178-b316-c6c2121fc05d",
   "metadata": {},
   "outputs": [
    {
     "name": "stdout",
     "output_type": "stream",
     "text": [
      "   Names  Salary  Extra  Total_Salary\n",
      "0   Ajay    1000    200          1200\n",
      "2  Navya    3000    600          3600\n",
      "1  Rahul    2000    400          2400\n",
      "3  Sebin    4000    300          4300\n"
     ]
    }
   ],
   "source": [
    "df=df.sort_values(['Names'],ascending=True)\n",
    "print(df)"
   ]
  },
  {
   "cell_type": "code",
   "execution_count": 150,
   "id": "4cecc504-4bb2-445a-a031-703fea8ba4a5",
   "metadata": {},
   "outputs": [
    {
     "name": "stdout",
     "output_type": "stream",
     "text": [
      "   Names  Salary  Extra  Total_Salary\n",
      "3  Sebin    4000    300          4300\n",
      "2  Navya    3000    600          3600\n",
      "1  Rahul    2000    400          2400\n",
      "0   Ajay    1000    200          1200\n"
     ]
    }
   ],
   "source": [
    "df=df.sort_values(['Total_Salary'],ascending=False)\n",
    "print(df)"
   ]
  },
  {
   "cell_type": "code",
   "execution_count": 153,
   "id": "0137bcda-4bc4-4c95-9738-32c7c1dd9dca",
   "metadata": {},
   "outputs": [
    {
     "ename": "KeyError",
     "evalue": "'index'",
     "output_type": "error",
     "traceback": [
      "\u001b[31m---------------------------------------------------------------------------\u001b[39m",
      "\u001b[31mKeyError\u001b[39m                                  Traceback (most recent call last)",
      "\u001b[32m~\\AppData\\Local\\Temp\\ipykernel_1584\\2138519766.py\u001b[39m in \u001b[36m?\u001b[39m\u001b[34m()\u001b[39m\n\u001b[32m----> \u001b[39m\u001b[32m1\u001b[39m df=df.sort_values([\u001b[33m'index'\u001b[39m],ascending=\u001b[38;5;28;01mTrue\u001b[39;00m)\n",
      "\u001b[32mC:\\Program Files\\Python311\\Lib\\site-packages\\pandas\\core\\frame.py\u001b[39m in \u001b[36m?\u001b[39m\u001b[34m(self, by, axis, ascending, inplace, kind, na_position, ignore_index, key)\u001b[39m\n\u001b[32m   7185\u001b[39m             )\n\u001b[32m   7186\u001b[39m         \u001b[38;5;28;01melif\u001b[39;00m len(by):\n\u001b[32m   7187\u001b[39m             \u001b[38;5;66;03m# len(by) == 1\u001b[39;00m\n\u001b[32m   7188\u001b[39m \n\u001b[32m-> \u001b[39m\u001b[32m7189\u001b[39m             k = self._get_label_or_level_values(by[\u001b[32m0\u001b[39m], axis=axis)\n\u001b[32m   7190\u001b[39m \n\u001b[32m   7191\u001b[39m             \u001b[38;5;66;03m# need to rewrap column in Series to apply key function\u001b[39;00m\n\u001b[32m   7192\u001b[39m             \u001b[38;5;28;01mif\u001b[39;00m key \u001b[38;5;28;01mis\u001b[39;00m \u001b[38;5;28;01mnot\u001b[39;00m \u001b[38;5;28;01mNone\u001b[39;00m:\n",
      "\u001b[32mC:\\Program Files\\Python311\\Lib\\site-packages\\pandas\\core\\generic.py\u001b[39m in \u001b[36m?\u001b[39m\u001b[34m(self, key, axis)\u001b[39m\n\u001b[32m   1907\u001b[39m             values = self.xs(key, axis=other_axes[\u001b[32m0\u001b[39m])._values\n\u001b[32m   1908\u001b[39m         \u001b[38;5;28;01melif\u001b[39;00m self._is_level_reference(key, axis=axis):\n\u001b[32m   1909\u001b[39m             values = self.axes[axis].get_level_values(key)._values\n\u001b[32m   1910\u001b[39m         \u001b[38;5;28;01melse\u001b[39;00m:\n\u001b[32m-> \u001b[39m\u001b[32m1911\u001b[39m             \u001b[38;5;28;01mraise\u001b[39;00m KeyError(key)\n\u001b[32m   1912\u001b[39m \n\u001b[32m   1913\u001b[39m         \u001b[38;5;66;03m# Check for duplicates\u001b[39;00m\n\u001b[32m   1914\u001b[39m         \u001b[38;5;28;01mif\u001b[39;00m values.ndim > \u001b[32m1\u001b[39m:\n",
      "\u001b[31mKeyError\u001b[39m: 'index'"
     ]
    }
   ],
   "source": [
    "df=df.sort_values(['index'],ascending=True)"
   ]
  },
  {
   "cell_type": "code",
   "execution_count": 154,
   "id": "02731f85-4181-40ea-86e1-a18872581a36",
   "metadata": {},
   "outputs": [
    {
     "data": {
      "text/plain": [
       "'C:\\\\Users\\\\Administrator\\\\Desktop\\\\Training'"
      ]
     },
     "execution_count": 154,
     "metadata": {},
     "output_type": "execute_result"
    }
   ],
   "source": [
    "os.getcwd()"
   ]
  },
  {
   "cell_type": "code",
   "execution_count": 9,
   "id": "e54354c7-4149-4ae9-b920-15ce9090a6fe",
   "metadata": {},
   "outputs": [
    {
     "name": "stdout",
     "output_type": "stream",
     "text": [
      "          id        city        date player_of_match  \\\n",
      "0     335982   Bangalore  2008-04-18     BB McCullum   \n",
      "1     335983  Chandigarh  2008-04-19      MEK Hussey   \n",
      "2     335984       Delhi  2008-04-19     MF Maharoof   \n",
      "3     335985      Mumbai  2008-04-20      MV Boucher   \n",
      "4     335986     Kolkata  2008-04-20       DJ Hussey   \n",
      "..       ...         ...         ...             ...   \n",
      "811  1216547       Dubai  2020-09-28  AB de Villiers   \n",
      "812  1237177       Dubai  2020-11-05       JJ Bumrah   \n",
      "813  1237178   Abu Dhabi  2020-11-06   KS Williamson   \n",
      "814  1237180   Abu Dhabi  2020-11-08      MP Stoinis   \n",
      "815  1237181       Dubai  2020-11-10        TA Boult   \n",
      "\n",
      "                                          venue  neutral_venue  \\\n",
      "0                         M Chinnaswamy Stadium              0   \n",
      "1    Punjab Cricket Association Stadium, Mohali              0   \n",
      "2                              Feroz Shah Kotla              0   \n",
      "3                              Wankhede Stadium              0   \n",
      "4                                  Eden Gardens              0   \n",
      "..                                          ...            ...   \n",
      "811         Dubai International Cricket Stadium              0   \n",
      "812         Dubai International Cricket Stadium              0   \n",
      "813                        Sheikh Zayed Stadium              0   \n",
      "814                        Sheikh Zayed Stadium              0   \n",
      "815         Dubai International Cricket Stadium              0   \n",
      "\n",
      "                           team1                        team2  \\\n",
      "0    Royal Challengers Bangalore        Kolkata Knight Riders   \n",
      "1                Kings XI Punjab          Chennai Super Kings   \n",
      "2               Delhi Daredevils             Rajasthan Royals   \n",
      "3                 Mumbai Indians  Royal Challengers Bangalore   \n",
      "4          Kolkata Knight Riders              Deccan Chargers   \n",
      "..                           ...                          ...   \n",
      "811  Royal Challengers Bangalore               Mumbai Indians   \n",
      "812               Mumbai Indians               Delhi Capitals   \n",
      "813  Royal Challengers Bangalore          Sunrisers Hyderabad   \n",
      "814               Delhi Capitals          Sunrisers Hyderabad   \n",
      "815               Delhi Capitals               Mumbai Indians   \n",
      "\n",
      "                     toss_winner toss_decision                       winner  \\\n",
      "0    Royal Challengers Bangalore         field        Kolkata Knight Riders   \n",
      "1            Chennai Super Kings           bat          Chennai Super Kings   \n",
      "2               Rajasthan Royals           bat             Delhi Daredevils   \n",
      "3                 Mumbai Indians           bat  Royal Challengers Bangalore   \n",
      "4                Deccan Chargers           bat        Kolkata Knight Riders   \n",
      "..                           ...           ...                          ...   \n",
      "811               Mumbai Indians         field  Royal Challengers Bangalore   \n",
      "812               Delhi Capitals         field               Mumbai Indians   \n",
      "813          Sunrisers Hyderabad         field          Sunrisers Hyderabad   \n",
      "814               Delhi Capitals           bat               Delhi Capitals   \n",
      "815               Delhi Capitals           bat               Mumbai Indians   \n",
      "\n",
      "      result  result_margin eliminator method      umpire1         umpire2  \n",
      "0       runs          140.0          N    NaN    Asad Rauf     RE Koertzen  \n",
      "1       runs           33.0          N    NaN    MR Benson      SL Shastri  \n",
      "2    wickets            9.0          N    NaN    Aleem Dar  GA Pratapkumar  \n",
      "3    wickets            5.0          N    NaN     SJ Davis       DJ Harper  \n",
      "4    wickets            5.0          N    NaN    BF Bowden     K Hariharan  \n",
      "..       ...            ...        ...    ...          ...             ...  \n",
      "811      tie            NaN          Y    NaN  Nitin Menon      PR Reiffel  \n",
      "812     runs           57.0          N    NaN  CB Gaffaney     Nitin Menon  \n",
      "813  wickets            6.0          N    NaN   PR Reiffel          S Ravi  \n",
      "814     runs           17.0          N    NaN   PR Reiffel          S Ravi  \n",
      "815  wickets            5.0          N    NaN  CB Gaffaney     Nitin Menon  \n",
      "\n",
      "[816 rows x 17 columns]\n"
     ]
    }
   ],
   "source": [
    "import pandas as pd\n",
    "ipldf=pd.read_csv(r\"\\Users\\Administrator\\Desktop\\Training\\IPL Matches 2008-2020.csv\")\n",
    "print(ipldf)"
   ]
  },
  {
   "cell_type": "code",
   "execution_count": 156,
   "id": "2fea1c62-7187-48b5-b662-d1c257254ebc",
   "metadata": {},
   "outputs": [
    {
     "name": "stdout",
     "output_type": "stream",
     "text": [
      "Collecting SciPy\n",
      "  Downloading scipy-1.15.2-cp311-cp311-win_amd64.whl (41.2 MB)\n",
      "     --------------------------------------- 41.2/41.2 MB 11.1 MB/s eta 0:00:00\n",
      "Requirement already satisfied: numpy<2.5,>=1.23.5 in c:\\program files\\python311\\lib\\site-packages (from SciPy) (2.2.5)\n",
      "Installing collected packages: SciPy\n",
      "Successfully installed SciPy-1.15.2\n",
      "Note: you may need to restart the kernel to use updated packages.\n"
     ]
    },
    {
     "name": "stderr",
     "output_type": "stream",
     "text": [
      "\n",
      "[notice] A new release of pip available: 22.3 -> 25.1\n",
      "[notice] To update, run: python.exe -m pip install --upgrade pip\n"
     ]
    }
   ],
   "source": [
    "pip install SciPy"
   ]
  },
  {
   "cell_type": "code",
   "execution_count": 10,
   "id": "780f6ea1-b54f-492c-a310-3cdbca7cfdb8",
   "metadata": {},
   "outputs": [
    {
     "data": {
      "text/plain": [
       "id                   0\n",
       "city                13\n",
       "date                 0\n",
       "player_of_match      4\n",
       "venue                0\n",
       "neutral_venue        0\n",
       "team1                0\n",
       "team2                0\n",
       "toss_winner          0\n",
       "toss_decision        0\n",
       "winner               4\n",
       "result               4\n",
       "result_margin       17\n",
       "eliminator           4\n",
       "method             797\n",
       "umpire1              0\n",
       "umpire2              0\n",
       "dtype: int64"
      ]
     },
     "execution_count": 10,
     "metadata": {},
     "output_type": "execute_result"
    }
   ],
   "source": [
    "ipldf.isnull().sum()"
   ]
  },
  {
   "cell_type": "code",
   "execution_count": 3,
   "id": "828604aa-e7cf-48ca-a602-679951380a80",
   "metadata": {},
   "outputs": [
    {
     "name": "stdout",
     "output_type": "stream",
     "text": [
      "<class 'pandas.core.frame.DataFrame'>\n",
      "RangeIndex: 816 entries, 0 to 815\n",
      "Data columns (total 17 columns):\n",
      " #   Column           Non-Null Count  Dtype  \n",
      "---  ------           --------------  -----  \n",
      " 0   id               816 non-null    int64  \n",
      " 1   city             803 non-null    object \n",
      " 2   date             816 non-null    object \n",
      " 3   player_of_match  812 non-null    object \n",
      " 4   venue            816 non-null    object \n",
      " 5   neutral_venue    816 non-null    int64  \n",
      " 6   team1            816 non-null    object \n",
      " 7   team2            816 non-null    object \n",
      " 8   toss_winner      816 non-null    object \n",
      " 9   toss_decision    816 non-null    object \n",
      " 10  winner           812 non-null    object \n",
      " 11  result           812 non-null    object \n",
      " 12  result_margin    799 non-null    float64\n",
      " 13  eliminator       812 non-null    object \n",
      " 14  method           19 non-null     object \n",
      " 15  umpire1          816 non-null    object \n",
      " 16  umpire2          816 non-null    object \n",
      "dtypes: float64(1), int64(2), object(14)\n",
      "memory usage: 108.5+ KB\n"
     ]
    }
   ],
   "source": [
    "df.info()"
   ]
  },
  {
   "cell_type": "code",
   "execution_count": 11,
   "id": "53f0dbf4-773b-44f9-894c-5b26f51576ca",
   "metadata": {},
   "outputs": [
    {
     "data": {
      "text/html": [
       "<div>\n",
       "<style scoped>\n",
       "    .dataframe tbody tr th:only-of-type {\n",
       "        vertical-align: middle;\n",
       "    }\n",
       "\n",
       "    .dataframe tbody tr th {\n",
       "        vertical-align: top;\n",
       "    }\n",
       "\n",
       "    .dataframe thead th {\n",
       "        text-align: right;\n",
       "    }\n",
       "</style>\n",
       "<table border=\"1\" class=\"dataframe\">\n",
       "  <thead>\n",
       "    <tr style=\"text-align: right;\">\n",
       "      <th></th>\n",
       "      <th>id</th>\n",
       "      <th>city</th>\n",
       "      <th>date</th>\n",
       "      <th>player_of_match</th>\n",
       "      <th>venue</th>\n",
       "      <th>neutral_venue</th>\n",
       "      <th>team1</th>\n",
       "      <th>team2</th>\n",
       "      <th>toss_winner</th>\n",
       "      <th>toss_decision</th>\n",
       "      <th>winner</th>\n",
       "      <th>result</th>\n",
       "      <th>result_margin</th>\n",
       "      <th>eliminator</th>\n",
       "      <th>method</th>\n",
       "      <th>umpire1</th>\n",
       "      <th>umpire2</th>\n",
       "    </tr>\n",
       "  </thead>\n",
       "  <tbody>\n",
       "    <tr>\n",
       "      <th>786</th>\n",
       "      <td>1216522</td>\n",
       "      <td>Dubai</td>\n",
       "      <td>2020-10-17</td>\n",
       "      <td>AB de Villiers</td>\n",
       "      <td>Dubai International Cricket Stadium</td>\n",
       "      <td>0</td>\n",
       "      <td>Rajasthan Royals</td>\n",
       "      <td>Royal Challengers Bangalore</td>\n",
       "      <td>Rajasthan Royals</td>\n",
       "      <td>bat</td>\n",
       "      <td>Royal Challengers Bangalore</td>\n",
       "      <td>wickets</td>\n",
       "      <td>7.0</td>\n",
       "      <td>N</td>\n",
       "      <td>NaN</td>\n",
       "      <td>AK Chaudhary</td>\n",
       "      <td>Nitin Menon</td>\n",
       "    </tr>\n",
       "    <tr>\n",
       "      <th>787</th>\n",
       "      <td>1216523</td>\n",
       "      <td>Abu Dhabi</td>\n",
       "      <td>2020-10-10</td>\n",
       "      <td>KD Karthik</td>\n",
       "      <td>Sheikh Zayed Stadium</td>\n",
       "      <td>0</td>\n",
       "      <td>Kolkata Knight Riders</td>\n",
       "      <td>Kings XI Punjab</td>\n",
       "      <td>Kolkata Knight Riders</td>\n",
       "      <td>bat</td>\n",
       "      <td>Kolkata Knight Riders</td>\n",
       "      <td>runs</td>\n",
       "      <td>2.0</td>\n",
       "      <td>N</td>\n",
       "      <td>NaN</td>\n",
       "      <td>UV Gandhe</td>\n",
       "      <td>CB Gaffaney</td>\n",
       "    </tr>\n",
       "    <tr>\n",
       "      <th>788</th>\n",
       "      <td>1216524</td>\n",
       "      <td>Dubai</td>\n",
       "      <td>2020-10-27</td>\n",
       "      <td>WP Saha</td>\n",
       "      <td>Dubai International Cricket Stadium</td>\n",
       "      <td>0</td>\n",
       "      <td>Sunrisers Hyderabad</td>\n",
       "      <td>Delhi Capitals</td>\n",
       "      <td>Delhi Capitals</td>\n",
       "      <td>field</td>\n",
       "      <td>Sunrisers Hyderabad</td>\n",
       "      <td>runs</td>\n",
       "      <td>88.0</td>\n",
       "      <td>N</td>\n",
       "      <td>NaN</td>\n",
       "      <td>AK Chaudhary</td>\n",
       "      <td>Nitin Menon</td>\n",
       "    </tr>\n",
       "    <tr>\n",
       "      <th>789</th>\n",
       "      <td>1216525</td>\n",
       "      <td>Dubai</td>\n",
       "      <td>2020-10-10</td>\n",
       "      <td>V Kohli</td>\n",
       "      <td>Dubai International Cricket Stadium</td>\n",
       "      <td>0</td>\n",
       "      <td>Royal Challengers Bangalore</td>\n",
       "      <td>Chennai Super Kings</td>\n",
       "      <td>Royal Challengers Bangalore</td>\n",
       "      <td>bat</td>\n",
       "      <td>Royal Challengers Bangalore</td>\n",
       "      <td>runs</td>\n",
       "      <td>37.0</td>\n",
       "      <td>N</td>\n",
       "      <td>NaN</td>\n",
       "      <td>AK Chaudhary</td>\n",
       "      <td>PR Reiffel</td>\n",
       "    </tr>\n",
       "    <tr>\n",
       "      <th>790</th>\n",
       "      <td>1216526</td>\n",
       "      <td>Abu Dhabi</td>\n",
       "      <td>2020-10-16</td>\n",
       "      <td>Q de Kock</td>\n",
       "      <td>Sheikh Zayed Stadium</td>\n",
       "      <td>0</td>\n",
       "      <td>Kolkata Knight Riders</td>\n",
       "      <td>Mumbai Indians</td>\n",
       "      <td>Kolkata Knight Riders</td>\n",
       "      <td>bat</td>\n",
       "      <td>Mumbai Indians</td>\n",
       "      <td>wickets</td>\n",
       "      <td>8.0</td>\n",
       "      <td>N</td>\n",
       "      <td>NaN</td>\n",
       "      <td>CB Gaffaney</td>\n",
       "      <td>VK Sharma</td>\n",
       "    </tr>\n",
       "    <tr>\n",
       "      <th>791</th>\n",
       "      <td>1216527</td>\n",
       "      <td>Sharjah</td>\n",
       "      <td>2020-09-27</td>\n",
       "      <td>SV Samson</td>\n",
       "      <td>Sharjah Cricket Stadium</td>\n",
       "      <td>0</td>\n",
       "      <td>Kings XI Punjab</td>\n",
       "      <td>Rajasthan Royals</td>\n",
       "      <td>Rajasthan Royals</td>\n",
       "      <td>field</td>\n",
       "      <td>Rajasthan Royals</td>\n",
       "      <td>wickets</td>\n",
       "      <td>4.0</td>\n",
       "      <td>N</td>\n",
       "      <td>NaN</td>\n",
       "      <td>RK Illingworth</td>\n",
       "      <td>K Srinivasan</td>\n",
       "    </tr>\n",
       "    <tr>\n",
       "      <th>792</th>\n",
       "      <td>1216528</td>\n",
       "      <td>Dubai</td>\n",
       "      <td>2020-10-13</td>\n",
       "      <td>RA Jadeja</td>\n",
       "      <td>Dubai International Cricket Stadium</td>\n",
       "      <td>0</td>\n",
       "      <td>Chennai Super Kings</td>\n",
       "      <td>Sunrisers Hyderabad</td>\n",
       "      <td>Chennai Super Kings</td>\n",
       "      <td>bat</td>\n",
       "      <td>Chennai Super Kings</td>\n",
       "      <td>runs</td>\n",
       "      <td>20.0</td>\n",
       "      <td>N</td>\n",
       "      <td>NaN</td>\n",
       "      <td>AK Chaudhary</td>\n",
       "      <td>PR Reiffel</td>\n",
       "    </tr>\n",
       "    <tr>\n",
       "      <th>793</th>\n",
       "      <td>1216529</td>\n",
       "      <td>Abu Dhabi</td>\n",
       "      <td>2020-10-11</td>\n",
       "      <td>Q de Kock</td>\n",
       "      <td>Sheikh Zayed Stadium</td>\n",
       "      <td>0</td>\n",
       "      <td>Delhi Capitals</td>\n",
       "      <td>Mumbai Indians</td>\n",
       "      <td>Delhi Capitals</td>\n",
       "      <td>bat</td>\n",
       "      <td>Mumbai Indians</td>\n",
       "      <td>wickets</td>\n",
       "      <td>5.0</td>\n",
       "      <td>N</td>\n",
       "      <td>NaN</td>\n",
       "      <td>CB Gaffaney</td>\n",
       "      <td>S Ravi</td>\n",
       "    </tr>\n",
       "    <tr>\n",
       "      <th>794</th>\n",
       "      <td>1216530</td>\n",
       "      <td>Dubai</td>\n",
       "      <td>2020-11-01</td>\n",
       "      <td>PJ Cummins</td>\n",
       "      <td>Dubai International Cricket Stadium</td>\n",
       "      <td>0</td>\n",
       "      <td>Kolkata Knight Riders</td>\n",
       "      <td>Rajasthan Royals</td>\n",
       "      <td>Rajasthan Royals</td>\n",
       "      <td>field</td>\n",
       "      <td>Kolkata Knight Riders</td>\n",
       "      <td>runs</td>\n",
       "      <td>60.0</td>\n",
       "      <td>N</td>\n",
       "      <td>NaN</td>\n",
       "      <td>Nitin Menon</td>\n",
       "      <td>PR Reiffel</td>\n",
       "    </tr>\n",
       "    <tr>\n",
       "      <th>795</th>\n",
       "      <td>1216531</td>\n",
       "      <td>Sharjah</td>\n",
       "      <td>2020-10-15</td>\n",
       "      <td>KL Rahul</td>\n",
       "      <td>Sharjah Cricket Stadium</td>\n",
       "      <td>0</td>\n",
       "      <td>Royal Challengers Bangalore</td>\n",
       "      <td>Kings XI Punjab</td>\n",
       "      <td>Royal Challengers Bangalore</td>\n",
       "      <td>bat</td>\n",
       "      <td>Kings XI Punjab</td>\n",
       "      <td>wickets</td>\n",
       "      <td>8.0</td>\n",
       "      <td>N</td>\n",
       "      <td>NaN</td>\n",
       "      <td>KN Ananthapadmanabhan</td>\n",
       "      <td>C Shamshuddin</td>\n",
       "    </tr>\n",
       "    <tr>\n",
       "      <th>796</th>\n",
       "      <td>1216532</td>\n",
       "      <td>Abu Dhabi</td>\n",
       "      <td>2020-09-29</td>\n",
       "      <td>Rashid Khan</td>\n",
       "      <td>Sheikh Zayed Stadium</td>\n",
       "      <td>0</td>\n",
       "      <td>Sunrisers Hyderabad</td>\n",
       "      <td>Delhi Capitals</td>\n",
       "      <td>Delhi Capitals</td>\n",
       "      <td>field</td>\n",
       "      <td>Sunrisers Hyderabad</td>\n",
       "      <td>runs</td>\n",
       "      <td>15.0</td>\n",
       "      <td>N</td>\n",
       "      <td>NaN</td>\n",
       "      <td>VK Sharma</td>\n",
       "      <td>S Ravi</td>\n",
       "    </tr>\n",
       "    <tr>\n",
       "      <th>797</th>\n",
       "      <td>1216533</td>\n",
       "      <td>Abu Dhabi</td>\n",
       "      <td>2020-10-19</td>\n",
       "      <td>JC Buttler</td>\n",
       "      <td>Sheikh Zayed Stadium</td>\n",
       "      <td>0</td>\n",
       "      <td>Chennai Super Kings</td>\n",
       "      <td>Rajasthan Royals</td>\n",
       "      <td>Chennai Super Kings</td>\n",
       "      <td>bat</td>\n",
       "      <td>Rajasthan Royals</td>\n",
       "      <td>wickets</td>\n",
       "      <td>7.0</td>\n",
       "      <td>N</td>\n",
       "      <td>NaN</td>\n",
       "      <td>CB Gaffaney</td>\n",
       "      <td>VK Sharma</td>\n",
       "    </tr>\n",
       "    <tr>\n",
       "      <th>798</th>\n",
       "      <td>1216534</td>\n",
       "      <td>Dubai</td>\n",
       "      <td>2020-09-21</td>\n",
       "      <td>YS Chahal</td>\n",
       "      <td>Dubai International Cricket Stadium</td>\n",
       "      <td>0</td>\n",
       "      <td>Royal Challengers Bangalore</td>\n",
       "      <td>Sunrisers Hyderabad</td>\n",
       "      <td>Sunrisers Hyderabad</td>\n",
       "      <td>field</td>\n",
       "      <td>Royal Challengers Bangalore</td>\n",
       "      <td>runs</td>\n",
       "      <td>10.0</td>\n",
       "      <td>N</td>\n",
       "      <td>NaN</td>\n",
       "      <td>AY Dandekar</td>\n",
       "      <td>Nitin Menon</td>\n",
       "    </tr>\n",
       "    <tr>\n",
       "      <th>799</th>\n",
       "      <td>1216535</td>\n",
       "      <td>Dubai</td>\n",
       "      <td>2020-10-31</td>\n",
       "      <td>Ishan Kishan</td>\n",
       "      <td>Dubai International Cricket Stadium</td>\n",
       "      <td>0</td>\n",
       "      <td>Delhi Capitals</td>\n",
       "      <td>Mumbai Indians</td>\n",
       "      <td>Mumbai Indians</td>\n",
       "      <td>field</td>\n",
       "      <td>Mumbai Indians</td>\n",
       "      <td>wickets</td>\n",
       "      <td>9.0</td>\n",
       "      <td>N</td>\n",
       "      <td>NaN</td>\n",
       "      <td>YC Barde</td>\n",
       "      <td>PR Reiffel</td>\n",
       "    </tr>\n",
       "    <tr>\n",
       "      <th>800</th>\n",
       "      <td>1216536</td>\n",
       "      <td>Dubai</td>\n",
       "      <td>2020-10-29</td>\n",
       "      <td>RD Gaikwad</td>\n",
       "      <td>Dubai International Cricket Stadium</td>\n",
       "      <td>0</td>\n",
       "      <td>Kolkata Knight Riders</td>\n",
       "      <td>Chennai Super Kings</td>\n",
       "      <td>Chennai Super Kings</td>\n",
       "      <td>field</td>\n",
       "      <td>Chennai Super Kings</td>\n",
       "      <td>wickets</td>\n",
       "      <td>6.0</td>\n",
       "      <td>N</td>\n",
       "      <td>NaN</td>\n",
       "      <td>C Shamshuddin</td>\n",
       "      <td>RK Illingworth</td>\n",
       "    </tr>\n",
       "    <tr>\n",
       "      <th>801</th>\n",
       "      <td>1216537</td>\n",
       "      <td>Abu Dhabi</td>\n",
       "      <td>2020-10-30</td>\n",
       "      <td>BA Stokes</td>\n",
       "      <td>Sheikh Zayed Stadium</td>\n",
       "      <td>0</td>\n",
       "      <td>Kings XI Punjab</td>\n",
       "      <td>Rajasthan Royals</td>\n",
       "      <td>Rajasthan Royals</td>\n",
       "      <td>field</td>\n",
       "      <td>Rajasthan Royals</td>\n",
       "      <td>wickets</td>\n",
       "      <td>7.0</td>\n",
       "      <td>N</td>\n",
       "      <td>NaN</td>\n",
       "      <td>CB Gaffaney</td>\n",
       "      <td>S Ravi</td>\n",
       "    </tr>\n",
       "    <tr>\n",
       "      <th>802</th>\n",
       "      <td>1216538</td>\n",
       "      <td>Sharjah</td>\n",
       "      <td>2020-10-04</td>\n",
       "      <td>TA Boult</td>\n",
       "      <td>Sharjah Cricket Stadium</td>\n",
       "      <td>0</td>\n",
       "      <td>Mumbai Indians</td>\n",
       "      <td>Sunrisers Hyderabad</td>\n",
       "      <td>Mumbai Indians</td>\n",
       "      <td>bat</td>\n",
       "      <td>Mumbai Indians</td>\n",
       "      <td>runs</td>\n",
       "      <td>34.0</td>\n",
       "      <td>N</td>\n",
       "      <td>NaN</td>\n",
       "      <td>KN Ananthapadmanabhan</td>\n",
       "      <td>RK Illingworth</td>\n",
       "    </tr>\n",
       "    <tr>\n",
       "      <th>803</th>\n",
       "      <td>1216539</td>\n",
       "      <td>Dubai</td>\n",
       "      <td>2020-09-25</td>\n",
       "      <td>PP Shaw</td>\n",
       "      <td>Dubai International Cricket Stadium</td>\n",
       "      <td>0</td>\n",
       "      <td>Delhi Capitals</td>\n",
       "      <td>Chennai Super Kings</td>\n",
       "      <td>Chennai Super Kings</td>\n",
       "      <td>field</td>\n",
       "      <td>Delhi Capitals</td>\n",
       "      <td>runs</td>\n",
       "      <td>44.0</td>\n",
       "      <td>N</td>\n",
       "      <td>NaN</td>\n",
       "      <td>KN Ananthapadmanabhan</td>\n",
       "      <td>RK Illingworth</td>\n",
       "    </tr>\n",
       "    <tr>\n",
       "      <th>804</th>\n",
       "      <td>1216540</td>\n",
       "      <td>Sharjah</td>\n",
       "      <td>2020-10-12</td>\n",
       "      <td>AB de Villiers</td>\n",
       "      <td>Sharjah Cricket Stadium</td>\n",
       "      <td>0</td>\n",
       "      <td>Royal Challengers Bangalore</td>\n",
       "      <td>Kolkata Knight Riders</td>\n",
       "      <td>Royal Challengers Bangalore</td>\n",
       "      <td>bat</td>\n",
       "      <td>Royal Challengers Bangalore</td>\n",
       "      <td>runs</td>\n",
       "      <td>82.0</td>\n",
       "      <td>N</td>\n",
       "      <td>NaN</td>\n",
       "      <td>RK Illingworth</td>\n",
       "      <td>K Srinivasan</td>\n",
       "    </tr>\n",
       "    <tr>\n",
       "      <th>805</th>\n",
       "      <td>1216541</td>\n",
       "      <td>Abu Dhabi</td>\n",
       "      <td>2020-10-25</td>\n",
       "      <td>BA Stokes</td>\n",
       "      <td>Sheikh Zayed Stadium</td>\n",
       "      <td>0</td>\n",
       "      <td>Mumbai Indians</td>\n",
       "      <td>Rajasthan Royals</td>\n",
       "      <td>Mumbai Indians</td>\n",
       "      <td>bat</td>\n",
       "      <td>Rajasthan Royals</td>\n",
       "      <td>wickets</td>\n",
       "      <td>8.0</td>\n",
       "      <td>N</td>\n",
       "      <td>NaN</td>\n",
       "      <td>UV Gandhe</td>\n",
       "      <td>VK Sharma</td>\n",
       "    </tr>\n",
       "    <tr>\n",
       "      <th>806</th>\n",
       "      <td>1216542</td>\n",
       "      <td>Dubai</td>\n",
       "      <td>2020-10-08</td>\n",
       "      <td>JM Bairstow</td>\n",
       "      <td>Dubai International Cricket Stadium</td>\n",
       "      <td>0</td>\n",
       "      <td>Sunrisers Hyderabad</td>\n",
       "      <td>Kings XI Punjab</td>\n",
       "      <td>Sunrisers Hyderabad</td>\n",
       "      <td>bat</td>\n",
       "      <td>Sunrisers Hyderabad</td>\n",
       "      <td>runs</td>\n",
       "      <td>69.0</td>\n",
       "      <td>N</td>\n",
       "      <td>NaN</td>\n",
       "      <td>AK Chaudhary</td>\n",
       "      <td>Nitin Menon</td>\n",
       "    </tr>\n",
       "    <tr>\n",
       "      <th>807</th>\n",
       "      <td>1216543</td>\n",
       "      <td>Dubai</td>\n",
       "      <td>2020-10-14</td>\n",
       "      <td>A Nortje</td>\n",
       "      <td>Dubai International Cricket Stadium</td>\n",
       "      <td>0</td>\n",
       "      <td>Delhi Capitals</td>\n",
       "      <td>Rajasthan Royals</td>\n",
       "      <td>Delhi Capitals</td>\n",
       "      <td>bat</td>\n",
       "      <td>Delhi Capitals</td>\n",
       "      <td>runs</td>\n",
       "      <td>13.0</td>\n",
       "      <td>N</td>\n",
       "      <td>NaN</td>\n",
       "      <td>AK Chaudhary</td>\n",
       "      <td>Nitin Menon</td>\n",
       "    </tr>\n",
       "    <tr>\n",
       "      <th>808</th>\n",
       "      <td>1216544</td>\n",
       "      <td>Dubai</td>\n",
       "      <td>2020-10-25</td>\n",
       "      <td>RD Gaikwad</td>\n",
       "      <td>Dubai International Cricket Stadium</td>\n",
       "      <td>0</td>\n",
       "      <td>Royal Challengers Bangalore</td>\n",
       "      <td>Chennai Super Kings</td>\n",
       "      <td>Royal Challengers Bangalore</td>\n",
       "      <td>bat</td>\n",
       "      <td>Chennai Super Kings</td>\n",
       "      <td>wickets</td>\n",
       "      <td>8.0</td>\n",
       "      <td>N</td>\n",
       "      <td>NaN</td>\n",
       "      <td>C Shamshuddin</td>\n",
       "      <td>RK Illingworth</td>\n",
       "    </tr>\n",
       "    <tr>\n",
       "      <th>809</th>\n",
       "      <td>1216545</td>\n",
       "      <td>Abu Dhabi</td>\n",
       "      <td>2020-09-26</td>\n",
       "      <td>Shubman Gill</td>\n",
       "      <td>Sheikh Zayed Stadium</td>\n",
       "      <td>0</td>\n",
       "      <td>Sunrisers Hyderabad</td>\n",
       "      <td>Kolkata Knight Riders</td>\n",
       "      <td>Sunrisers Hyderabad</td>\n",
       "      <td>bat</td>\n",
       "      <td>Kolkata Knight Riders</td>\n",
       "      <td>wickets</td>\n",
       "      <td>7.0</td>\n",
       "      <td>N</td>\n",
       "      <td>NaN</td>\n",
       "      <td>CB Gaffaney</td>\n",
       "      <td>VK Sharma</td>\n",
       "    </tr>\n",
       "    <tr>\n",
       "      <th>810</th>\n",
       "      <td>1216546</td>\n",
       "      <td>Dubai</td>\n",
       "      <td>2020-10-20</td>\n",
       "      <td>S Dhawan</td>\n",
       "      <td>Dubai International Cricket Stadium</td>\n",
       "      <td>0</td>\n",
       "      <td>Delhi Capitals</td>\n",
       "      <td>Kings XI Punjab</td>\n",
       "      <td>Delhi Capitals</td>\n",
       "      <td>bat</td>\n",
       "      <td>Kings XI Punjab</td>\n",
       "      <td>wickets</td>\n",
       "      <td>5.0</td>\n",
       "      <td>N</td>\n",
       "      <td>NaN</td>\n",
       "      <td>C Shamshuddin</td>\n",
       "      <td>RK Illingworth</td>\n",
       "    </tr>\n",
       "    <tr>\n",
       "      <th>811</th>\n",
       "      <td>1216547</td>\n",
       "      <td>Dubai</td>\n",
       "      <td>2020-09-28</td>\n",
       "      <td>AB de Villiers</td>\n",
       "      <td>Dubai International Cricket Stadium</td>\n",
       "      <td>0</td>\n",
       "      <td>Royal Challengers Bangalore</td>\n",
       "      <td>Mumbai Indians</td>\n",
       "      <td>Mumbai Indians</td>\n",
       "      <td>field</td>\n",
       "      <td>Royal Challengers Bangalore</td>\n",
       "      <td>tie</td>\n",
       "      <td>NaN</td>\n",
       "      <td>Y</td>\n",
       "      <td>NaN</td>\n",
       "      <td>Nitin Menon</td>\n",
       "      <td>PR Reiffel</td>\n",
       "    </tr>\n",
       "    <tr>\n",
       "      <th>812</th>\n",
       "      <td>1237177</td>\n",
       "      <td>Dubai</td>\n",
       "      <td>2020-11-05</td>\n",
       "      <td>JJ Bumrah</td>\n",
       "      <td>Dubai International Cricket Stadium</td>\n",
       "      <td>0</td>\n",
       "      <td>Mumbai Indians</td>\n",
       "      <td>Delhi Capitals</td>\n",
       "      <td>Delhi Capitals</td>\n",
       "      <td>field</td>\n",
       "      <td>Mumbai Indians</td>\n",
       "      <td>runs</td>\n",
       "      <td>57.0</td>\n",
       "      <td>N</td>\n",
       "      <td>NaN</td>\n",
       "      <td>CB Gaffaney</td>\n",
       "      <td>Nitin Menon</td>\n",
       "    </tr>\n",
       "    <tr>\n",
       "      <th>813</th>\n",
       "      <td>1237178</td>\n",
       "      <td>Abu Dhabi</td>\n",
       "      <td>2020-11-06</td>\n",
       "      <td>KS Williamson</td>\n",
       "      <td>Sheikh Zayed Stadium</td>\n",
       "      <td>0</td>\n",
       "      <td>Royal Challengers Bangalore</td>\n",
       "      <td>Sunrisers Hyderabad</td>\n",
       "      <td>Sunrisers Hyderabad</td>\n",
       "      <td>field</td>\n",
       "      <td>Sunrisers Hyderabad</td>\n",
       "      <td>wickets</td>\n",
       "      <td>6.0</td>\n",
       "      <td>N</td>\n",
       "      <td>NaN</td>\n",
       "      <td>PR Reiffel</td>\n",
       "      <td>S Ravi</td>\n",
       "    </tr>\n",
       "    <tr>\n",
       "      <th>814</th>\n",
       "      <td>1237180</td>\n",
       "      <td>Abu Dhabi</td>\n",
       "      <td>2020-11-08</td>\n",
       "      <td>MP Stoinis</td>\n",
       "      <td>Sheikh Zayed Stadium</td>\n",
       "      <td>0</td>\n",
       "      <td>Delhi Capitals</td>\n",
       "      <td>Sunrisers Hyderabad</td>\n",
       "      <td>Delhi Capitals</td>\n",
       "      <td>bat</td>\n",
       "      <td>Delhi Capitals</td>\n",
       "      <td>runs</td>\n",
       "      <td>17.0</td>\n",
       "      <td>N</td>\n",
       "      <td>NaN</td>\n",
       "      <td>PR Reiffel</td>\n",
       "      <td>S Ravi</td>\n",
       "    </tr>\n",
       "    <tr>\n",
       "      <th>815</th>\n",
       "      <td>1237181</td>\n",
       "      <td>Dubai</td>\n",
       "      <td>2020-11-10</td>\n",
       "      <td>TA Boult</td>\n",
       "      <td>Dubai International Cricket Stadium</td>\n",
       "      <td>0</td>\n",
       "      <td>Delhi Capitals</td>\n",
       "      <td>Mumbai Indians</td>\n",
       "      <td>Delhi Capitals</td>\n",
       "      <td>bat</td>\n",
       "      <td>Mumbai Indians</td>\n",
       "      <td>wickets</td>\n",
       "      <td>5.0</td>\n",
       "      <td>N</td>\n",
       "      <td>NaN</td>\n",
       "      <td>CB Gaffaney</td>\n",
       "      <td>Nitin Menon</td>\n",
       "    </tr>\n",
       "  </tbody>\n",
       "</table>\n",
       "</div>"
      ],
      "text/plain": [
       "          id       city        date player_of_match  \\\n",
       "786  1216522      Dubai  2020-10-17  AB de Villiers   \n",
       "787  1216523  Abu Dhabi  2020-10-10      KD Karthik   \n",
       "788  1216524      Dubai  2020-10-27         WP Saha   \n",
       "789  1216525      Dubai  2020-10-10         V Kohli   \n",
       "790  1216526  Abu Dhabi  2020-10-16       Q de Kock   \n",
       "791  1216527    Sharjah  2020-09-27       SV Samson   \n",
       "792  1216528      Dubai  2020-10-13       RA Jadeja   \n",
       "793  1216529  Abu Dhabi  2020-10-11       Q de Kock   \n",
       "794  1216530      Dubai  2020-11-01      PJ Cummins   \n",
       "795  1216531    Sharjah  2020-10-15        KL Rahul   \n",
       "796  1216532  Abu Dhabi  2020-09-29     Rashid Khan   \n",
       "797  1216533  Abu Dhabi  2020-10-19      JC Buttler   \n",
       "798  1216534      Dubai  2020-09-21       YS Chahal   \n",
       "799  1216535      Dubai  2020-10-31    Ishan Kishan   \n",
       "800  1216536      Dubai  2020-10-29      RD Gaikwad   \n",
       "801  1216537  Abu Dhabi  2020-10-30       BA Stokes   \n",
       "802  1216538    Sharjah  2020-10-04        TA Boult   \n",
       "803  1216539      Dubai  2020-09-25         PP Shaw   \n",
       "804  1216540    Sharjah  2020-10-12  AB de Villiers   \n",
       "805  1216541  Abu Dhabi  2020-10-25       BA Stokes   \n",
       "806  1216542      Dubai  2020-10-08     JM Bairstow   \n",
       "807  1216543      Dubai  2020-10-14        A Nortje   \n",
       "808  1216544      Dubai  2020-10-25      RD Gaikwad   \n",
       "809  1216545  Abu Dhabi  2020-09-26    Shubman Gill   \n",
       "810  1216546      Dubai  2020-10-20        S Dhawan   \n",
       "811  1216547      Dubai  2020-09-28  AB de Villiers   \n",
       "812  1237177      Dubai  2020-11-05       JJ Bumrah   \n",
       "813  1237178  Abu Dhabi  2020-11-06   KS Williamson   \n",
       "814  1237180  Abu Dhabi  2020-11-08      MP Stoinis   \n",
       "815  1237181      Dubai  2020-11-10        TA Boult   \n",
       "\n",
       "                                   venue  neutral_venue  \\\n",
       "786  Dubai International Cricket Stadium              0   \n",
       "787                 Sheikh Zayed Stadium              0   \n",
       "788  Dubai International Cricket Stadium              0   \n",
       "789  Dubai International Cricket Stadium              0   \n",
       "790                 Sheikh Zayed Stadium              0   \n",
       "791              Sharjah Cricket Stadium              0   \n",
       "792  Dubai International Cricket Stadium              0   \n",
       "793                 Sheikh Zayed Stadium              0   \n",
       "794  Dubai International Cricket Stadium              0   \n",
       "795              Sharjah Cricket Stadium              0   \n",
       "796                 Sheikh Zayed Stadium              0   \n",
       "797                 Sheikh Zayed Stadium              0   \n",
       "798  Dubai International Cricket Stadium              0   \n",
       "799  Dubai International Cricket Stadium              0   \n",
       "800  Dubai International Cricket Stadium              0   \n",
       "801                 Sheikh Zayed Stadium              0   \n",
       "802              Sharjah Cricket Stadium              0   \n",
       "803  Dubai International Cricket Stadium              0   \n",
       "804              Sharjah Cricket Stadium              0   \n",
       "805                 Sheikh Zayed Stadium              0   \n",
       "806  Dubai International Cricket Stadium              0   \n",
       "807  Dubai International Cricket Stadium              0   \n",
       "808  Dubai International Cricket Stadium              0   \n",
       "809                 Sheikh Zayed Stadium              0   \n",
       "810  Dubai International Cricket Stadium              0   \n",
       "811  Dubai International Cricket Stadium              0   \n",
       "812  Dubai International Cricket Stadium              0   \n",
       "813                 Sheikh Zayed Stadium              0   \n",
       "814                 Sheikh Zayed Stadium              0   \n",
       "815  Dubai International Cricket Stadium              0   \n",
       "\n",
       "                           team1                        team2  \\\n",
       "786             Rajasthan Royals  Royal Challengers Bangalore   \n",
       "787        Kolkata Knight Riders              Kings XI Punjab   \n",
       "788          Sunrisers Hyderabad               Delhi Capitals   \n",
       "789  Royal Challengers Bangalore          Chennai Super Kings   \n",
       "790        Kolkata Knight Riders               Mumbai Indians   \n",
       "791              Kings XI Punjab             Rajasthan Royals   \n",
       "792          Chennai Super Kings          Sunrisers Hyderabad   \n",
       "793               Delhi Capitals               Mumbai Indians   \n",
       "794        Kolkata Knight Riders             Rajasthan Royals   \n",
       "795  Royal Challengers Bangalore              Kings XI Punjab   \n",
       "796          Sunrisers Hyderabad               Delhi Capitals   \n",
       "797          Chennai Super Kings             Rajasthan Royals   \n",
       "798  Royal Challengers Bangalore          Sunrisers Hyderabad   \n",
       "799               Delhi Capitals               Mumbai Indians   \n",
       "800        Kolkata Knight Riders          Chennai Super Kings   \n",
       "801              Kings XI Punjab             Rajasthan Royals   \n",
       "802               Mumbai Indians          Sunrisers Hyderabad   \n",
       "803               Delhi Capitals          Chennai Super Kings   \n",
       "804  Royal Challengers Bangalore        Kolkata Knight Riders   \n",
       "805               Mumbai Indians             Rajasthan Royals   \n",
       "806          Sunrisers Hyderabad              Kings XI Punjab   \n",
       "807               Delhi Capitals             Rajasthan Royals   \n",
       "808  Royal Challengers Bangalore          Chennai Super Kings   \n",
       "809          Sunrisers Hyderabad        Kolkata Knight Riders   \n",
       "810               Delhi Capitals              Kings XI Punjab   \n",
       "811  Royal Challengers Bangalore               Mumbai Indians   \n",
       "812               Mumbai Indians               Delhi Capitals   \n",
       "813  Royal Challengers Bangalore          Sunrisers Hyderabad   \n",
       "814               Delhi Capitals          Sunrisers Hyderabad   \n",
       "815               Delhi Capitals               Mumbai Indians   \n",
       "\n",
       "                     toss_winner toss_decision                       winner  \\\n",
       "786             Rajasthan Royals           bat  Royal Challengers Bangalore   \n",
       "787        Kolkata Knight Riders           bat        Kolkata Knight Riders   \n",
       "788               Delhi Capitals         field          Sunrisers Hyderabad   \n",
       "789  Royal Challengers Bangalore           bat  Royal Challengers Bangalore   \n",
       "790        Kolkata Knight Riders           bat               Mumbai Indians   \n",
       "791             Rajasthan Royals         field             Rajasthan Royals   \n",
       "792          Chennai Super Kings           bat          Chennai Super Kings   \n",
       "793               Delhi Capitals           bat               Mumbai Indians   \n",
       "794             Rajasthan Royals         field        Kolkata Knight Riders   \n",
       "795  Royal Challengers Bangalore           bat              Kings XI Punjab   \n",
       "796               Delhi Capitals         field          Sunrisers Hyderabad   \n",
       "797          Chennai Super Kings           bat             Rajasthan Royals   \n",
       "798          Sunrisers Hyderabad         field  Royal Challengers Bangalore   \n",
       "799               Mumbai Indians         field               Mumbai Indians   \n",
       "800          Chennai Super Kings         field          Chennai Super Kings   \n",
       "801             Rajasthan Royals         field             Rajasthan Royals   \n",
       "802               Mumbai Indians           bat               Mumbai Indians   \n",
       "803          Chennai Super Kings         field               Delhi Capitals   \n",
       "804  Royal Challengers Bangalore           bat  Royal Challengers Bangalore   \n",
       "805               Mumbai Indians           bat             Rajasthan Royals   \n",
       "806          Sunrisers Hyderabad           bat          Sunrisers Hyderabad   \n",
       "807               Delhi Capitals           bat               Delhi Capitals   \n",
       "808  Royal Challengers Bangalore           bat          Chennai Super Kings   \n",
       "809          Sunrisers Hyderabad           bat        Kolkata Knight Riders   \n",
       "810               Delhi Capitals           bat              Kings XI Punjab   \n",
       "811               Mumbai Indians         field  Royal Challengers Bangalore   \n",
       "812               Delhi Capitals         field               Mumbai Indians   \n",
       "813          Sunrisers Hyderabad         field          Sunrisers Hyderabad   \n",
       "814               Delhi Capitals           bat               Delhi Capitals   \n",
       "815               Delhi Capitals           bat               Mumbai Indians   \n",
       "\n",
       "      result  result_margin eliminator method                umpire1  \\\n",
       "786  wickets            7.0          N    NaN           AK Chaudhary   \n",
       "787     runs            2.0          N    NaN              UV Gandhe   \n",
       "788     runs           88.0          N    NaN           AK Chaudhary   \n",
       "789     runs           37.0          N    NaN           AK Chaudhary   \n",
       "790  wickets            8.0          N    NaN            CB Gaffaney   \n",
       "791  wickets            4.0          N    NaN         RK Illingworth   \n",
       "792     runs           20.0          N    NaN           AK Chaudhary   \n",
       "793  wickets            5.0          N    NaN            CB Gaffaney   \n",
       "794     runs           60.0          N    NaN            Nitin Menon   \n",
       "795  wickets            8.0          N    NaN  KN Ananthapadmanabhan   \n",
       "796     runs           15.0          N    NaN              VK Sharma   \n",
       "797  wickets            7.0          N    NaN            CB Gaffaney   \n",
       "798     runs           10.0          N    NaN            AY Dandekar   \n",
       "799  wickets            9.0          N    NaN               YC Barde   \n",
       "800  wickets            6.0          N    NaN          C Shamshuddin   \n",
       "801  wickets            7.0          N    NaN            CB Gaffaney   \n",
       "802     runs           34.0          N    NaN  KN Ananthapadmanabhan   \n",
       "803     runs           44.0          N    NaN  KN Ananthapadmanabhan   \n",
       "804     runs           82.0          N    NaN         RK Illingworth   \n",
       "805  wickets            8.0          N    NaN              UV Gandhe   \n",
       "806     runs           69.0          N    NaN           AK Chaudhary   \n",
       "807     runs           13.0          N    NaN           AK Chaudhary   \n",
       "808  wickets            8.0          N    NaN          C Shamshuddin   \n",
       "809  wickets            7.0          N    NaN            CB Gaffaney   \n",
       "810  wickets            5.0          N    NaN          C Shamshuddin   \n",
       "811      tie            NaN          Y    NaN            Nitin Menon   \n",
       "812     runs           57.0          N    NaN            CB Gaffaney   \n",
       "813  wickets            6.0          N    NaN             PR Reiffel   \n",
       "814     runs           17.0          N    NaN             PR Reiffel   \n",
       "815  wickets            5.0          N    NaN            CB Gaffaney   \n",
       "\n",
       "            umpire2  \n",
       "786     Nitin Menon  \n",
       "787     CB Gaffaney  \n",
       "788     Nitin Menon  \n",
       "789      PR Reiffel  \n",
       "790       VK Sharma  \n",
       "791    K Srinivasan  \n",
       "792      PR Reiffel  \n",
       "793          S Ravi  \n",
       "794      PR Reiffel  \n",
       "795   C Shamshuddin  \n",
       "796          S Ravi  \n",
       "797       VK Sharma  \n",
       "798     Nitin Menon  \n",
       "799      PR Reiffel  \n",
       "800  RK Illingworth  \n",
       "801          S Ravi  \n",
       "802  RK Illingworth  \n",
       "803  RK Illingworth  \n",
       "804    K Srinivasan  \n",
       "805       VK Sharma  \n",
       "806     Nitin Menon  \n",
       "807     Nitin Menon  \n",
       "808  RK Illingworth  \n",
       "809       VK Sharma  \n",
       "810  RK Illingworth  \n",
       "811      PR Reiffel  \n",
       "812     Nitin Menon  \n",
       "813          S Ravi  \n",
       "814          S Ravi  \n",
       "815     Nitin Menon  "
      ]
     },
     "execution_count": 11,
     "metadata": {},
     "output_type": "execute_result"
    }
   ],
   "source": [
    "ipldf.head(10)\n",
    "ipldf.tail(30)"
   ]
  },
  {
   "cell_type": "code",
   "execution_count": null,
   "id": "d33ed74f-3da8-4dd8-9b28-885b3f4a80a6",
   "metadata": {},
   "outputs": [],
   "source": []
  }
 ],
 "metadata": {
  "kernelspec": {
   "display_name": "Python 3 (ipykernel)",
   "language": "python",
   "name": "python3"
  },
  "language_info": {
   "codemirror_mode": {
    "name": "ipython",
    "version": 3
   },
   "file_extension": ".py",
   "mimetype": "text/x-python",
   "name": "python",
   "nbconvert_exporter": "python",
   "pygments_lexer": "ipython3",
   "version": "3.11.0"
  }
 },
 "nbformat": 4,
 "nbformat_minor": 5
}
