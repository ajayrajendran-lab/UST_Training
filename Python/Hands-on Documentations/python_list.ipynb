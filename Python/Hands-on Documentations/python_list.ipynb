{
 "cells": [
  {
   "cell_type": "markdown",
   "id": "66c5b1cf-97b2-4986-aede-0b3193c52018",
   "metadata": {},
   "source": [
    "# List "
   ]
  },
  {
   "cell_type": "code",
   "execution_count": 2,
   "id": "acce74c9-2402-40c0-846d-9f599d51de4e",
   "metadata": {},
   "outputs": [],
   "source": [
    "lst1=[\"one\",\"two\",\"three\",\"four\"]\n",
    "lst2=[\"five\",\"six\"]"
   ]
  },
  {
   "cell_type": "markdown",
   "id": "f065e6e4-b13a-4673-938a-233abf2b3f72",
   "metadata": {},
   "source": [
    "append\n",
    "\n",
    "used to add an item to the end of tha list"
   ]
  },
  {
   "cell_type": "code",
   "execution_count": 4,
   "id": "bf6fa619-5a40-467f-9131-1bad53eb4638",
   "metadata": {},
   "outputs": [
    {
     "name": "stdout",
     "output_type": "stream",
     "text": [
      "['five', 'six', 'seven', 'seven']\n"
     ]
    }
   ],
   "source": [
    "lst2.append(\"seven\")\n",
    "print(lst2)"
   ]
  },
  {
   "cell_type": "markdown",
   "id": "52518ae3-3ead-4fbb-8f87-a2760b2b3a4c",
   "metadata": {},
   "source": [
    "Extend\n",
    "\n",
    "used to merge a list to the end of another list"
   ]
  },
  {
   "cell_type": "code",
   "execution_count": 5,
   "id": "989a1318-25f8-4752-84e2-c6e7aabc68c2",
   "metadata": {},
   "outputs": [
    {
     "name": "stdout",
     "output_type": "stream",
     "text": [
      "['one', 'two', 'three', 'four', 'five', 'six', 'seven', 'seven']\n"
     ]
    }
   ],
   "source": [
    "lst1.extend(lst2)\n",
    "print(lst1)"
   ]
  },
  {
   "cell_type": "code",
   "execution_count": 7,
   "id": "b9928fb9-218f-434a-9643-2874f27e23bc",
   "metadata": {},
   "outputs": [],
   "source": [
    "lst1.remove(\"seven\")"
   ]
  },
  {
   "cell_type": "code",
   "execution_count": null,
   "id": "e1dce3cb-5be2-449e-a270-e23e56c3f7fd",
   "metadata": {},
   "outputs": [],
   "source": [
    "pop"
   ]
  },
  {
   "cell_type": "code",
   "execution_count": 8,
   "id": "aba1869d-7eb5-4e7d-bb4f-6ea622c1acab",
   "metadata": {},
   "outputs": [
    {
     "name": "stdout",
     "output_type": "stream",
     "text": [
      "two\n",
      "['one', 'three', 'four']\n"
     ]
    }
   ],
   "source": [
    "lst1=[\"one\",\"two\",\"three\",\"four\"]\n",
    "a=lst1.pop(1)\n",
    "print(a)\n",
    "print(lst1)"
   ]
  },
  {
   "cell_type": "code",
   "execution_count": 9,
   "id": "555fcd81-8a5e-4995-9768-42673f08411d",
   "metadata": {},
   "outputs": [
    {
     "name": "stdout",
     "output_type": "stream",
     "text": [
      "two\n"
     ]
    }
   ],
   "source": [
    "lst1.append(a)\n",
    "print(a)"
   ]
  },
  {
   "cell_type": "code",
   "execution_count": 10,
   "id": "ba020c91-d7e7-4d95-911b-af9f304f6c30",
   "metadata": {},
   "outputs": [
    {
     "name": "stdout",
     "output_type": "stream",
     "text": [
      "['four', 'three', 'two', 'one']\n"
     ]
    }
   ],
   "source": [
    "lst1=[\"one\",\"two\",\"three\",\"four\"]\n",
    "lst1.reverse()\n",
    "print(lst1)"
   ]
  },
  {
   "cell_type": "code",
   "execution_count": null,
   "id": "db77a15e-eff0-47b9-a9c3-4cf5e6074d36",
   "metadata": {},
   "outputs": [],
   "source": [
    "sorting"
   ]
  },
  {
   "cell_type": "code",
   "execution_count": 13,
   "id": "a6095611-b0c6-412d-8887-2a6dab60dd91",
   "metadata": {},
   "outputs": [
    {
     "name": "stdout",
     "output_type": "stream",
     "text": [
      "[1, 3, 4, 5, 6, 8]\n",
      "[8, 6, 5, 4, 3, 1]\n",
      "[1, 3, 4, 5, 6, 8]\n"
     ]
    }
   ],
   "source": [
    "a=[4,5,6,3,8,1]\n",
    "b=sorted(a)\n",
    "print(b)\n",
    "c=sorted(a,reverse=True)\n",
    "print(c)\n",
    "d=sorted(a)\n",
    "print(d)"
   ]
  },
  {
   "cell_type": "code",
   "execution_count": 14,
   "id": "4c6829bd-5bb3-4eb6-8694-82fbd8d22d73",
   "metadata": {},
   "outputs": [
    {
     "name": "stdout",
     "output_type": "stream",
     "text": [
      "[1, 2.0, 2, 3.1, 5, 6, 6, 7]\n",
      "['one', 'three', 'two']\n"
     ]
    }
   ],
   "source": [
    "#\n",
    "a=[1,7,6,3.1,2.0,2,6,5]\n",
    "a1=[\"one\",\"two\",\"three\"]\n",
    "b=sorted(a)\n",
    "b1=sorted(a1)\n",
    "print(b)\n",
    "print(b1)"
   ]
  },
  {
   "cell_type": "code",
   "execution_count": 16,
   "id": "e9073113-3520-438e-9213-06d5ebd04eed",
   "metadata": {},
   "outputs": [
    {
     "name": "stdout",
     "output_type": "stream",
     "text": [
      "[1, 4, 9, 16, 25, 36, 49, 64, 81]\n",
      "[(1, 1), (2, 4), (3, 9), (4, 16), (5, 25), (6, 36), (7, 49), (8, 64), (9, 81)]\n"
     ]
    }
   ],
   "source": [
    "# list comprehension\n",
    "\n",
    "squares=[i**2 for i in range(1,10)]\n",
    "print(squares)\n",
    "num_and_squares=[(i,i**2) for i in range(1,10)]\n",
    "print(num_and_squares)"
   ]
  },
  {
   "cell_type": "markdown",
   "id": "5d2d93b4-b2cb-4609-9e04-846e08aa9797",
   "metadata": {},
   "source": [
    "# list element delete and pop"
   ]
  },
  {
   "cell_type": "code",
   "execution_count": 23,
   "id": "3cf22318-9f69-432f-9b5f-feb4dfc6847b",
   "metadata": {},
   "outputs": [
    {
     "name": "stdout",
     "output_type": "stream",
     "text": [
      "[1, 2, '3']\n"
     ]
    }
   ],
   "source": [
    "lst=[1,2,'3',4]\n",
    "del lst[3] #removes an element or delete a list completely\n",
    "print(lst)"
   ]
  },
  {
   "cell_type": "code",
   "execution_count": 22,
   "id": "e9b2ff94-9661-4b74-802c-a13528a116d2",
   "metadata": {},
   "outputs": [
    {
     "name": "stdout",
     "output_type": "stream",
     "text": [
      "4\n",
      "[1, 2, '3']\n"
     ]
    }
   ],
   "source": [
    "lst=[1,2,'3',4]\n",
    "a=lst.pop(3)#removes an element in the specific index,we can store the removed value\n",
    "print(a)\n",
    "print(lst)"
   ]
  },
  {
   "cell_type": "markdown",
   "id": "3b3f2757-370c-4407-90ea-faba89580889",
   "metadata": {},
   "source": [
    "# in and not in"
   ]
  },
  {
   "cell_type": "code",
   "execution_count": 24,
   "id": "e45e9317-5b2e-4364-af1a-352b35d67a9e",
   "metadata": {},
   "outputs": [
    {
     "name": "stdout",
     "output_type": "stream",
     "text": [
      "yes\n",
      "yes\n"
     ]
    }
   ],
   "source": [
    "lst = [1,2,\"hai\",6]\n",
    "if 2 in lst:\n",
    "    print(\"yes\")\n",
    "if \"hai\" in lst:\n",
    "    print(\"yes\")"
   ]
  },
  {
   "cell_type": "code",
   "execution_count": 25,
   "id": "ac52aa83-ef76-48e8-80fd-0f8225e59e1e",
   "metadata": {},
   "outputs": [
    {
     "name": "stdout",
     "output_type": "stream",
     "text": [
      "no\n",
      "no\n"
     ]
    }
   ],
   "source": [
    "lst = [1,2,\"hai\",6]\n",
    "if 5 not in lst:\n",
    "    print(\"no\")\n",
    "if \"hello\" not in lst:\n",
    "    print(\"no\")"
   ]
  },
  {
   "cell_type": "markdown",
   "id": "4e6c1bc6-bbc3-4319-bf4b-2d42addc0f1e",
   "metadata": {},
   "source": [
    "# Reverse"
   ]
  },
  {
   "cell_type": "code",
   "execution_count": 28,
   "id": "6340b111-43db-4351-9dfd-dd029d03ed73",
   "metadata": {},
   "outputs": [
    {
     "name": "stdout",
     "output_type": "stream",
     "text": [
      "['one', 'two', 'three', 'four']\n",
      "['four', 'three', 'two', 'one']\n"
     ]
    }
   ],
   "source": [
    "lst=[\"one\",\"two\",\"three\",\"four\"]\n",
    "print(lst)\n",
    "lst.reverse()\n",
    "print(lst)"
   ]
  },
  {
   "cell_type": "markdown",
   "id": "de6ee11d-c101-4e83-a7b6-12a1ea1014ff",
   "metadata": {},
   "source": [
    "# list overridden"
   ]
  },
  {
   "cell_type": "code",
   "execution_count": 34,
   "id": "8898fe29-ac9e-4b09-b804-2af94cc93d5f",
   "metadata": {},
   "outputs": [
    {
     "name": "stdout",
     "output_type": "stream",
     "text": [
      "[1, 2, 3, 4]\n",
      "[1, 2, 3, 4]\n",
      "2975076328192\n",
      "2975076328192\n"
     ]
    }
   ],
   "source": [
    "a=[1,2,3]\n",
    "b=[]\n",
    "b=a\n",
    "b.append(4)\n",
    "print(b)\n",
    "print(a) # also having value 4 because they share same address\n",
    "print(id(a))\n",
    "print(id(b))"
   ]
  },
  {
   "cell_type": "code",
   "execution_count": 37,
   "id": "3372e7a7-02f4-4a55-9e27-3c9ae8ab5aa7",
   "metadata": {},
   "outputs": [
    {
     "name": "stdout",
     "output_type": "stream",
     "text": [
      "['i', 'am', 'Ajay', 'Rajendran']\n",
      "<class 'str'>\n",
      "<class 'list'>\n"
     ]
    }
   ],
   "source": [
    "word=\"i,am,Ajay,Rajendran\"\n",
    "lst=word.split(\",\")\n",
    "print(lst)\n",
    "print(type(word))\n",
    "print(type(lst))"
   ]
  },
  {
   "cell_type": "code",
   "execution_count": 40,
   "id": "d00982ab-8e41-448f-82d9-a12a6cab26b0",
   "metadata": {},
   "outputs": [
    {
     "name": "stdout",
     "output_type": "stream",
     "text": [
      "2\n",
      "4\n"
     ]
    }
   ],
   "source": [
    "lst=[1,4,3,2,5]\n",
    "print(lst[3])\n",
    "print(lst[-4])"
   ]
  },
  {
   "cell_type": "code",
   "execution_count": 42,
   "id": "c2e389ad-0cb1-4804-ab81-947d7cfa0e57",
   "metadata": {},
   "outputs": [
    {
     "name": "stdout",
     "output_type": "stream",
     "text": [
      "[10, 20, 30, 40, 'Ajay', 'Navya', 'Rahul', 'Abhishek']\n"
     ]
    }
   ],
   "source": [
    "a=[10,20,30,40]\n",
    "b=[\"Ajay\",\"Navya\",\"Rahul\",\"Abhishek\"]\n",
    "c=a+b\n",
    "print(c)"
   ]
  },
  {
   "cell_type": "code",
   "execution_count": 44,
   "id": "e26ade0f-5fb9-474d-9755-6747cd110724",
   "metadata": {},
   "outputs": [
    {
     "name": "stdout",
     "output_type": "stream",
     "text": [
      "Ajay\n",
      "Navya\n",
      "Rahul\n",
      "Abhishek\n"
     ]
    }
   ],
   "source": [
    "b=[\"Ajay\",\"Navya\",\"Rahul\",\"Abhishek\"]\n",
    "for data in b:\n",
    "    print(data)"
   ]
  },
  {
   "cell_type": "code",
   "execution_count": 51,
   "id": "d90f83d0-6dca-452c-b202-f674be944ffc",
   "metadata": {},
   "outputs": [
    {
     "name": "stdin",
     "output_type": "stream",
     "text": [
      "Enter the number of rows : 3\n",
      "Enter the number of columns : 4\n",
      "Enter the value [0][0] : 1\n",
      "Enter the value [0][1] : 2\n",
      "Enter the value [0][2] : 3\n",
      "Enter the value [0][3] : 4\n",
      "Enter the value [1][0] : 5\n",
      "Enter the value [1][1] : 6\n",
      "Enter the value [1][2] : 7\n",
      "Enter the value [1][3] : 8\n",
      "Enter the value [2][0] : 5\n",
      "Enter the value [2][1] : 4\n",
      "Enter the value [2][2] : 3\n",
      "Enter the value [2][3] : 6\n"
     ]
    },
    {
     "name": "stdout",
     "output_type": "stream",
     "text": [
      "[[1, 2, 3, 4], [5, 6, 7, 8], [5, 4, 3, 6]] \n",
      "\n",
      "[1, 2, 3, 4]\n",
      "[5, 6, 7, 8]\n",
      "[5, 4, 3, 6]\n"
     ]
    }
   ],
   "source": [
    "rows=int(input(\"Enter the number of rows :\"))\n",
    "cols=int(input(\"Enter the number of columns :\"))\n",
    "# matrix=[[0 for j in range(cols)] for i in range(rows) ]\n",
    "# print(matrix)\n",
    "sample_row=[]\n",
    "matrix=[]\n",
    "for i in range(rows):\n",
    "    sample_row=[]\n",
    "    for j in range(cols):\n",
    "        value=int(input(f\"Enter the value [{i}][{j}] :\"))\n",
    "        sample_row.append(value)\n",
    "    matrix.append(sample_row)\n",
    "print(\"\\n\")\n",
    "for row in matrix:\n",
    "    print(row)"
   ]
  },
  {
   "cell_type": "code",
   "execution_count": 12,
   "id": "54980813-ea2d-4708-8560-a7bfd2d3debe",
   "metadata": {},
   "outputs": [
    {
     "name": "stdin",
     "output_type": "stream",
     "text": [
      "Enter the number of rows : 2\n",
      "Enter the number of cols : 2\n",
      "Enter the value for row 1 and column 1 : 1\n",
      "Enter the value for row 1 and column 2 : 2\n",
      "Enter the value for row 2 and column 1 : 3\n",
      "Enter the value for row 2 and column 2 : 4\n"
     ]
    },
    {
     "name": "stdout",
     "output_type": "stream",
     "text": [
      "[1, 2]\n",
      "[3, 4]\n"
     ]
    }
   ],
   "source": [
    "rows=int(input(\"Enter the number of rows :\"))\n",
    "cols=int(input(\"Enter the number of cols :\"))\n",
    "matrix=[[int(input(f\"Enter the value for row {r+1} and column {c+1} :\")) for c in range(cols)] for r in range(rows) ]\n",
    "for ls in matrix:\n",
    "    print(ls)\n"
   ]
  },
  {
   "cell_type": "code",
   "execution_count": null,
   "id": "caf1a3c9-d5a7-413f-b935-47524aa05396",
   "metadata": {},
   "outputs": [],
   "source": [
    "lst=[1,2,3,4,5]\n",
    "value=int(input(\"Enter an input value :\"))\n",
    "if value in lst:\n",
    "    ind=lst.index(value)\n",
    "    deleted_value=lst.pop(ind)\n",
    "    print(\"Delete\")"
   ]
  }
 ],
 "metadata": {
  "kernelspec": {
   "display_name": "Python 3 (ipykernel)",
   "language": "python",
   "name": "python3"
  },
  "language_info": {
   "codemirror_mode": {
    "name": "ipython",
    "version": 3
   },
   "file_extension": ".py",
   "mimetype": "text/x-python",
   "name": "python",
   "nbconvert_exporter": "python",
   "pygments_lexer": "ipython3",
   "version": "3.11.0"
  }
 },
 "nbformat": 4,
 "nbformat_minor": 5
}
