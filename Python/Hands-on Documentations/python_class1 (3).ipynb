{
 "cells": [
  {
   "cell_type": "code",
   "execution_count": 15,
   "id": "56aaf267-5d4a-4c64-9e28-eca6edaefa04",
   "metadata": {},
   "outputs": [
    {
     "name": "stdout",
     "output_type": "stream",
     "text": [
      "value of a 1 and value of b 2\n",
      "value of a 2 and value of b 1\n",
      "value of a 1 and value of b 2\n",
      "1 2\n"
     ]
    }
   ],
   "source": [
    "a=1\n",
    "b=2\n",
    "# print(\"value of a is\",a)\n",
    "# print(\"value of b is\",b)\n",
    "print(\"value of a {} and value of b {}\".format(a,b)) #pass by reference\n",
    "print(\"value of a {} and value of b {}\".format(b,a))\n",
    "print(\"value of a {1} and value of b {0}\".format(b,a))\n",
    "print(a,b)\n"
   ]
  },
  {
   "cell_type": "code",
   "execution_count": 13,
   "id": "b635a999-d601-44d4-beff-08d4f4a5c1e7",
   "metadata": {},
   "outputs": [
    {
     "name": "stdout",
     "output_type": "stream",
     "text": [
      "i love my country , name_is India\n"
     ]
    }
   ],
   "source": [
    "my=\"country\"\n",
    "name_is=\"India\"\n",
    "print(\"i love my {1} , name_is {0}\".format(name_is,my))"
   ]
  },
  {
   "cell_type": "code",
   "execution_count": 17,
   "id": "d4262e16-d33b-4094-ae5e-5939525280c2",
   "metadata": {},
   "outputs": [
    {
     "name": "stdout",
     "output_type": "stream",
     "text": [
      "my name is Ajay Rajendran from Kottayam\n"
     ]
    }
   ],
   "source": [
    "#pass by value\n",
    "print(\"my name is {} {} from {}\".format(\"Ajay\",\"Rajendran\",\"Kottayam\"))"
   ]
  },
  {
   "cell_type": "code",
   "execution_count": 19,
   "id": "de50b6b7-10ea-4b0f-9aea-70e003360ae5",
   "metadata": {},
   "outputs": [
    {
     "name": "stdin",
     "output_type": "stream",
     "text": [
      "Enter a value :  7\n"
     ]
    },
    {
     "name": "stdout",
     "output_type": "stream",
     "text": [
      "<class 'str'>\n",
      "7\n"
     ]
    }
   ],
   "source": [
    "#input by user\n",
    "\n",
    "num = input(\"Enter a value : \")\n",
    "print(type(num)) #by default input function accept string values\n",
    "print(num)"
   ]
  },
  {
   "cell_type": "code",
   "execution_count": 20,
   "id": "0152beb0-f02b-4afc-9cbf-8c83a63418e0",
   "metadata": {},
   "outputs": [
    {
     "name": "stdin",
     "output_type": "stream",
     "text": [
      "Enter a value :  9\n"
     ]
    },
    {
     "name": "stdout",
     "output_type": "stream",
     "text": [
      "<class 'int'>\n",
      "9\n"
     ]
    }
   ],
   "source": [
    "#numeric imput from user\n",
    "\n",
    "num = int (input(\"Enter a value : \"))\n",
    "print(type(num))\n",
    "print(num)"
   ]
  },
  {
   "cell_type": "code",
   "execution_count": 22,
   "id": "77187e3f-3670-46a4-958a-5d3fa9dd35c8",
   "metadata": {},
   "outputs": [
    {
     "name": "stdin",
     "output_type": "stream",
     "text": [
      "Enter the 1st digit of PIN no:  3\n",
      "Enter the 2nd digit of PIN no:  4\n",
      "Enter the 3rd digit of PIN no:  5\n",
      "Enter the 4th digit of PIN no:  6\n"
     ]
    },
    {
     "name": "stdout",
     "output_type": "stream",
     "text": [
      "('3', '4', '5', '6')\n",
      "<class 'tuple'>\n"
     ]
    }
   ],
   "source": [
    "#Enter multiple value\n",
    "x = input(\"Enter the 1st digit of PIN no: \"), input(\"Enter the 2nd digit of PIN no: \"), input(\"Enter the 3rd digit of PIN no: \"), input(\"Enter the 4th digit of PIN no: \")\n",
    "print(x)\n",
    "print(type(x))"
   ]
  },
  {
   "cell_type": "markdown",
   "id": "186af5b6-dc53-45b4-b8bb-18c5185f3bd5",
   "metadata": {},
   "source": [
    "Operators"
   ]
  },
  {
   "cell_type": "code",
   "execution_count": 27,
   "id": "eae825da-ba2b-4900-8773-621bb11c8e2a",
   "metadata": {},
   "outputs": [
    {
     "name": "stdout",
     "output_type": "stream",
     "text": [
      "True False\n",
      "True\n",
      "True\n",
      "False\n"
     ]
    }
   ],
   "source": [
    "a =True\n",
    "b=False\n",
    "\n",
    "print(a,b)\n",
    "print(not b)\n",
    "print(a or b)\n",
    "print(a and b)"
   ]
  },
  {
   "cell_type": "code",
   "execution_count": 36,
   "id": "fdce3c48-ead6-4b9d-a75c-b15e57ffe7f7",
   "metadata": {},
   "outputs": [
    {
     "name": "stdout",
     "output_type": "stream",
     "text": [
      "True\n"
     ]
    }
   ],
   "source": [
    "#identity operator\n",
    "a =5\n",
    "b=5\n",
    "print(a is b) # if it returns True both a and b conatins same value"
   ]
  },
  {
   "cell_type": "code",
   "execution_count": 35,
   "id": "7d8fa303-aed6-4c28-958f-3d0f5e3ba38a",
   "metadata": {},
   "outputs": [
    {
     "name": "stdout",
     "output_type": "stream",
     "text": [
      "1548604984192\n",
      "1548604533696\n",
      "False\n"
     ]
    }
   ],
   "source": [
    "l1 = [1,2,3]\n",
    "l2 = [1,2,3]\n",
    "print(id(l1))\n",
    "print(id(l2))\n",
    "print(l1 is l2) #the nature of list is dynamic so it will not be same.Every list have unique id"
   ]
  },
  {
   "cell_type": "code",
   "execution_count": 38,
   "id": "18be08a3-df0e-41f9-8b27-df198a15b774",
   "metadata": {},
   "outputs": [
    {
     "name": "stdout",
     "output_type": "stream",
     "text": [
      "<class 'set'>\n",
      "False\n"
     ]
    }
   ],
   "source": [
    "#membership operator\n",
    "\n",
    "l1 = {1,2,3,4}\n",
    "print(type(l1))\n",
    "print(5 in l1) #"
   ]
  },
  {
   "cell_type": "code",
   "execution_count": 39,
   "id": "e44fcc69-244a-4e53-bc1a-0ccef8148a47",
   "metadata": {},
   "outputs": [
    {
     "name": "stdout",
     "output_type": "stream",
     "text": [
      "True\n"
     ]
    }
   ],
   "source": [
    "l2={2:\"a\" , 1:\"b\"}\n",
    "print(1 in l2) #it checks the key 1 is present in the dictionary"
   ]
  },
  {
   "cell_type": "markdown",
   "id": "eb126c87-393f-41ac-8883-2bbaf6d83b4e",
   "metadata": {},
   "source": [
    "FlowChart\n"
   ]
  },
  {
   "cell_type": "code",
   "execution_count": 42,
   "id": "10205cba-c3e2-440c-a7b0-a3fd44338447",
   "metadata": {},
   "outputs": [
    {
     "name": "stdout",
     "output_type": "stream",
     "text": [
      "x is positive no.\n"
     ]
    }
   ],
   "source": [
    "x = 10\n",
    "print(\"x is positive no.\" if x>0 else \"x is negative no.\")"
   ]
  },
  {
   "cell_type": "code",
   "execution_count": 43,
   "id": "d5459d50-b73c-4a5b-b969-39e9148b7aea",
   "metadata": {},
   "outputs": [
    {
     "name": "stdout",
     "output_type": "stream",
     "text": [
      "This will print always\n"
     ]
    }
   ],
   "source": [
    "#case 1\n",
    "\n",
    "num =10\n",
    "if None: #None,0,-1) None : it will not allow to get into loop\n",
    "    print(\"num is positive\")\n",
    "print(\"This will print always\")"
   ]
  },
  {
   "cell_type": "code",
   "execution_count": null,
   "id": "a7823a86-ec16-443e-bbfa-e58b8dcafa2a",
   "metadata": {},
   "outputs": [],
   "source": []
  },
  {
   "cell_type": "code",
   "execution_count": 44,
   "id": "2b4786d0-19df-4e18-8395-d9a4562c7228",
   "metadata": {},
   "outputs": [
    {
     "name": "stdout",
     "output_type": "stream",
     "text": [
      "1st Division\n"
     ]
    }
   ],
   "source": [
    "#nested if\n",
    "\n",
    "num =19\n",
    "if (num>=10 and 20>num):\n",
    "    print(\"1st Division\")\n",
    "elif (num>10 and 20<num):\n",
    "    print(\"2nd Division\")\n",
    "elif (num>10 and 12>=num):\n",
    "    print(\"3rd Division\")\n",
    "else:\n",
    "    print(\"Fail\")"
   ]
  },
  {
   "cell_type": "code",
   "execution_count": 46,
   "id": "3253305a-63da-4d3a-aa3a-f601b2345c93",
   "metadata": {},
   "outputs": [
    {
     "name": "stdin",
     "output_type": "stream",
     "text": [
      "Enter the first number 6\n",
      "Enter the second number 6\n",
      "Enter the third number 6\n"
     ]
    },
    {
     "name": "stdout",
     "output_type": "stream",
     "text": [
      "All numbers are same\n"
     ]
    }
   ],
   "source": [
    "#largest of three numbers\n",
    "#method 1\n",
    "num1=int(input(\"Enter the first number\"))\n",
    "num2=int(input(\"Enter the second number\"))\n",
    "num3=int(input(\"Enter the third number\"))\n",
    "\n",
    "if (num1==num2==num3):\n",
    "    print(\"All numbers are same\")\n",
    "elif (num1>num2 and num1>num3):\n",
    "    print(num1,\"is large\")\n",
    "elif (num2>num1 and num2>num3):\n",
    "    print(num2,\"is large\")\n",
    "else:\n",
    "    print(num3,\"is large\")"
   ]
  },
  {
   "cell_type": "code",
   "execution_count": 47,
   "id": "5e72904d-55b1-4384-9194-4a6c25fbaf1f",
   "metadata": {},
   "outputs": [
    {
     "name": "stdin",
     "output_type": "stream",
     "text": [
      "Enter the first number 2\n",
      "Enter the second number 5\n",
      "Enter the third number 3\n"
     ]
    },
    {
     "name": "stdout",
     "output_type": "stream",
     "text": [
      "Largest number is  5\n"
     ]
    }
   ],
   "source": [
    "#largest of three numbers\n",
    "#method 1\n",
    "\n",
    "num1=int(input(\"Enter the first number\"))\n",
    "num2=int(input(\"Enter the second number\"))\n",
    "num3=int(input(\"Enter the third number\"))\n",
    "\n",
    "print(\"Largest number is \",max(num1,num2,num3))"
   ]
  },
  {
   "cell_type": "code",
   "execution_count": 48,
   "id": "d113386f-5a71-4651-8518-a91680dc9d31",
   "metadata": {},
   "outputs": [
    {
     "name": "stdout",
     "output_type": "stream",
     "text": [
      "2nd division\n"
     ]
    }
   ],
   "source": [
    "#case 3\n",
    "num =20\n",
    "if (num>10 or 10>num):\n",
    "    if (num>20):\n",
    "        print(\"num is positive\")\n",
    "    else:\n",
    "        print(\"2nd division\")\n",
    "else:\n",
    "    print(\"fail\")"
   ]
  },
  {
   "cell_type": "code",
   "execution_count": 50,
   "id": "599cd524-aacf-4682-9eb4-8c0e0e93c960",
   "metadata": {},
   "outputs": [
    {
     "name": "stdout",
     "output_type": "stream",
     "text": [
      "20\n",
      "400\n",
      "12000\n",
      "480000\n",
      "24000000\n"
     ]
    }
   ],
   "source": [
    "a = [10,20,30,40,50]\n",
    "product = 2\n",
    "\n",
    "for ele in a:\n",
    "    product*=ele\n",
    "    print(product)\n",
    "    "
   ]
  },
  {
   "cell_type": "code",
   "execution_count": 52,
   "id": "3154074a-44aa-4670-90d5-8252a2d456a5",
   "metadata": {},
   "outputs": [
    {
     "name": "stdout",
     "output_type": "stream",
     "text": [
      "20\n",
      "400\n",
      "12000\n",
      "480000\n",
      "24000000\n",
      "Loop over\n"
     ]
    }
   ],
   "source": [
    "product =2\n",
    "for i in range(10,51,10):\n",
    "    product*=i\n",
    "    print(product)\n",
    "else:\n",
    "    print(\"Loop over\")\n",
    "    "
   ]
  },
  {
   "cell_type": "code",
   "execution_count": 53,
   "id": "f92957e3-ba32-45a8-8e74-ded28f26b396",
   "metadata": {},
   "outputs": [
    {
     "name": "stdout",
     "output_type": "stream",
     "text": [
      "1\n",
      "2\n",
      "3\n",
      "4\n",
      "no data available in x\n"
     ]
    }
   ],
   "source": [
    "x = [1,2,3,4]\n",
    "for data in x:\n",
    "    print(data)\n",
    "else:\n",
    "    print(\"no data available in x\")"
   ]
  },
  {
   "cell_type": "code",
   "execution_count": 55,
   "id": "46caea19-e883-4fb1-b7e3-fa8ae28c546d",
   "metadata": {},
   "outputs": [
    {
     "name": "stdout",
     "output_type": "stream",
     "text": [
      "Odd  1\n",
      "Even  2\n",
      "Odd  3\n",
      "Even  4\n",
      "Odd  5\n",
      "Even  6\n",
      "Odd  7\n",
      "Even  8\n",
      "Odd  9\n",
      "Even  10\n"
     ]
    }
   ],
   "source": [
    "for i in range(1,11,1):\n",
    "    if (i%2==0):\n",
    "        print(\"Even \",i)\n",
    "    else:\n",
    "        print(\"Odd \",i)"
   ]
  },
  {
   "cell_type": "code",
   "execution_count": null,
   "id": "985930cd-f8e3-41bc-aa1a-cb14c3e1a32e",
   "metadata": {},
   "outputs": [],
   "source": [
    "#palindrome\n",
    "word=input(\"Enter the word :\")\n",
    "result=\"\"\n",
    "for ch in word:\n",
    "    "
   ]
  },
  {
   "cell_type": "code",
   "execution_count": 57,
   "id": "eb586085-96bf-4a94-89c6-7e4f79a5931c",
   "metadata": {},
   "outputs": [
    {
     "name": "stdin",
     "output_type": "stream",
     "text": [
      "Enter the number : 7\n"
     ]
    },
    {
     "name": "stdout",
     "output_type": "stream",
     "text": [
      "7  is prime\n"
     ]
    }
   ],
   "source": [
    "#prime number\n",
    "def check_prime(num):\n",
    "    lst=[i if num%i==0 for i in range(2,num)]\n",
    "    print(\"Prime\" if len(lst)==0 else \"Not prime\")\n",
    "\n",
    "num=int(input(\"Enter the number :\"))\n",
    "check_prime(num)\n",
    "is_prime=True\n",
    "if num==1:\n",
    "    print(\"Not prime\")\n",
    "else:\n",
    "    for i in range(2,num):\n",
    "        if (num%i==0):\n",
    "            is_prime=False\n",
    "            break\n",
    "    if is_prime:\n",
    "        print(num,\" is prime\")\n",
    "    else:\n",
    "        print(num,\" is not prime\")\n",
    "            "
   ]
  },
  {
   "cell_type": "markdown",
   "id": "526976de-b045-434b-ae73-79864b695b35",
   "metadata": {},
   "source": [
    "# PALINDROME"
   ]
  },
  {
   "cell_type": "code",
   "execution_count": 7,
   "id": "2345fd7a-e64e-48a7-bf7a-27b47b51230f",
   "metadata": {},
   "outputs": [
    {
     "name": "stdin",
     "output_type": "stream",
     "text": [
      "Enter the word : dad\n"
     ]
    },
    {
     "name": "stdout",
     "output_type": "stream",
     "text": [
      "palindrome\n"
     ]
    }
   ],
   "source": [
    "#palindrome\n",
    "def check_palindrome(word):\n",
    "    result=\"\"\n",
    "    for i in range(len(word)-1,-1,-1):\n",
    "        result+=word[i]\n",
    "    if result==word:\n",
    "        print(\"Palindrome\")\n",
    "    else:\n",
    "        print(\"Not palindrome\")\n",
    "\n",
    "def check_palindrome1(word):\n",
    "    print (\"palindrome\" if word==word[::-1] else \"Not palindrome\")\n",
    "        \n",
    "word=input(\"Enter the word :\").lower()\n",
    "check_palindrome1(word)\n",
    "\n"
   ]
  },
  {
   "cell_type": "code",
   "execution_count": null,
   "id": "6c2690ff-9abd-48f9-8c0f-7e01c84a64b4",
   "metadata": {},
   "outputs": [],
   "source": []
  },
  {
   "cell_type": "code",
   "execution_count": 59,
   "id": "7413df57-204e-4845-8c4f-a4c4859f3135",
   "metadata": {},
   "outputs": [
    {
     "name": "stdout",
     "output_type": "stream",
     "text": [
      "The name is  Ajay\n"
     ]
    }
   ],
   "source": [
    "#function\n",
    "\n",
    "def show_name(name):\n",
    "    \"\"\"\n",
    "    This function show name\n",
    "    \"\"\"\n",
    "    print(\"The name is \",str(name))\n",
    "\n",
    "show_name(\"Ajay\")"
   ]
  },
  {
   "cell_type": "code",
   "execution_count": 64,
   "id": "4c6eb6dd-185b-4f04-ac76-5706dd8e82fd",
   "metadata": {},
   "outputs": [
    {
     "name": "stdout",
     "output_type": "stream",
     "text": [
      "1\n",
      "3\n",
      "6\n",
      "10\n",
      "10\n",
      "\n",
      "    returns sum of elements of a list\n",
      "    \n"
     ]
    },
    {
     "ename": "AttributeError",
     "evalue": "'function' object has no attribute 'total'",
     "output_type": "error",
     "traceback": [
      "\u001b[31m---------------------------------------------------------------------------\u001b[39m",
      "\u001b[31mAttributeError\u001b[39m                            Traceback (most recent call last)",
      "\u001b[36mCell\u001b[39m\u001b[36m \u001b[39m\u001b[32mIn[64]\u001b[39m\u001b[32m, line 17\u001b[39m\n\u001b[32m     15\u001b[39m \u001b[38;5;66;03m#print(total) #shows an error because it is defined inside the function\u001b[39;00m\n\u001b[32m     16\u001b[39m \u001b[38;5;28mprint\u001b[39m(get_sum.\u001b[34m__doc__\u001b[39m)\n\u001b[32m---> \u001b[39m\u001b[32m17\u001b[39m \u001b[38;5;28mprint\u001b[39m(\u001b[43mget_sum\u001b[49m\u001b[43m.\u001b[49m\u001b[43mtotal\u001b[49m)\n",
      "\u001b[31mAttributeError\u001b[39m: 'function' object has no attribute 'total'"
     ]
    }
   ],
   "source": [
    "def get_sum(lst):\n",
    "    \"\"\"\n",
    "    returns sum of elements of a list\n",
    "    \"\"\"\n",
    "\n",
    "    total=0\n",
    "    for num in lst:\n",
    "        total+=num\n",
    "        print(total)\n",
    "    return total\n",
    "\n",
    "result=get_sum([1,2,3,4])\n",
    "print(result)\n",
    "\n",
    "#print(total) #shows an error because it is defined inside the function\n",
    "print(get_sum.__doc__)\n",
    "# print(get_sum.total)"
   ]
  },
  {
   "cell_type": "code",
   "execution_count": 65,
   "id": "45415702-f27d-47f7-9e8b-e885b6b3c7fa",
   "metadata": {},
   "outputs": [
    {
     "name": "stdout",
     "output_type": "stream",
     "text": [
      "global variable\n",
      "local variable\n"
     ]
    }
   ],
   "source": [
    "global_variable=\"global variable\"\n",
    "\n",
    "def sample_function():\n",
    "    local_variable=\"local variable\"\n",
    "    print(global_variable)\n",
    "    print(local_variable)\n",
    "    \n",
    "sample_function()"
   ]
  },
  {
   "cell_type": "code",
   "execution_count": 74,
   "id": "b9a51589-a163-4c55-afce-62e948c1432d",
   "metadata": {},
   "outputs": [
    {
     "name": "stdin",
     "output_type": "stream",
     "text": [
      "Enter the first number : 98\n",
      "Enter the second number : 56\n"
     ]
    },
    {
     "name": "stdout",
     "output_type": "stream",
     "text": [
      "14\n"
     ]
    }
   ],
   "source": [
    "#hcf\n",
    "def find_hcf(a,b):\n",
    "    small=a if a<b else b\n",
    "    hcf=0\n",
    "    \n",
    "    for i in range(1,small+1):\n",
    "        if(a%i==0 and b%i==0):\n",
    "            hcf=i\n",
    "    print(hcf)\n",
    "\n",
    "a=int(input(\"Enter the first number :\"))\n",
    "b=int(input(\"Enter the second number :\"))\n",
    "find_hcf(a,b)"
   ]
  },
  {
   "cell_type": "markdown",
   "id": "f6367340-69a6-4509-951d-3188d1c5a8c0",
   "metadata": {},
   "source": [
    "python builtin functions"
   ]
  },
  {
   "cell_type": "markdown",
   "id": "f735a737-3f22-494d-92ab-f410087a1d2c",
   "metadata": {},
   "source": [
    "# 1.abs()"
   ]
  },
  {
   "cell_type": "code",
   "execution_count": 75,
   "id": "2147219c-a7ec-45df-a138-f0f50d26caf1",
   "metadata": {},
   "outputs": [
    {
     "name": "stdout",
     "output_type": "stream",
     "text": [
      "50\n"
     ]
    }
   ],
   "source": [
    "a=-50\n",
    "print(abs(a))"
   ]
  },
  {
   "cell_type": "code",
   "execution_count": 79,
   "id": "f8ae14d8-908e-4c06-9a86-9ee9e8c7539d",
   "metadata": {},
   "outputs": [
    {
     "name": "stdout",
     "output_type": "stream",
     "text": [
      "True\n",
      "False\n",
      "True\n",
      "True\n"
     ]
    }
   ],
   "source": [
    "#all()\n",
    "\n",
    "lst=[1,2,3,4]\n",
    "print(all(lst))\n",
    "\n",
    "lst=[0]\n",
    "print(all(lst))\n",
    "\n",
    "lst=[1,-2]\n",
    "print(all(lst))\n",
    "\n",
    "lst=[]\n",
    "print(all(lst))"
   ]
  },
  {
   "cell_type": "code",
   "execution_count": 80,
   "id": "a41a6adc-7898-41b1-8a00-6d052fd18b6d",
   "metadata": {},
   "outputs": [
    {
     "name": "stdout",
     "output_type": "stream",
     "text": [
      "<class 'list'>\n"
     ]
    },
    {
     "data": {
      "text/plain": [
       "['__add__',\n",
       " '__class__',\n",
       " '__class_getitem__',\n",
       " '__contains__',\n",
       " '__delattr__',\n",
       " '__delitem__',\n",
       " '__dir__',\n",
       " '__doc__',\n",
       " '__eq__',\n",
       " '__format__',\n",
       " '__ge__',\n",
       " '__getattribute__',\n",
       " '__getitem__',\n",
       " '__getstate__',\n",
       " '__gt__',\n",
       " '__hash__',\n",
       " '__iadd__',\n",
       " '__imul__',\n",
       " '__init__',\n",
       " '__init_subclass__',\n",
       " '__iter__',\n",
       " '__le__',\n",
       " '__len__',\n",
       " '__lt__',\n",
       " '__mul__',\n",
       " '__ne__',\n",
       " '__new__',\n",
       " '__reduce__',\n",
       " '__reduce_ex__',\n",
       " '__repr__',\n",
       " '__reversed__',\n",
       " '__rmul__',\n",
       " '__setattr__',\n",
       " '__setitem__',\n",
       " '__sizeof__',\n",
       " '__str__',\n",
       " '__subclasshook__',\n",
       " 'append',\n",
       " 'clear',\n",
       " 'copy',\n",
       " 'count',\n",
       " 'extend',\n",
       " 'index',\n",
       " 'insert',\n",
       " 'pop',\n",
       " 'remove',\n",
       " 'reverse',\n",
       " 'sort']"
      ]
     },
     "execution_count": 80,
     "metadata": {},
     "output_type": "execute_result"
    }
   ],
   "source": [
    "#dir displays list of valid attributes\n",
    "\n",
    "lst=[]\n",
    "print(type(lst))\n",
    "dir(lst)"
   ]
  },
  {
   "cell_type": "code",
   "execution_count": 81,
   "id": "f1ffeed7-e68b-444e-86ce-0d854f5445e9",
   "metadata": {},
   "outputs": [
    {
     "data": {
      "text/plain": [
       "(2, 2)"
      ]
     },
     "execution_count": 81,
     "metadata": {},
     "output_type": "execute_result"
    }
   ],
   "source": [
    "#divmod takes two inputs and returns output quotient and reminder in the form of tuple\n",
    "\n",
    "divmod(12,5)"
   ]
  },
  {
   "cell_type": "code",
   "execution_count": 82,
   "id": "0712760b-b26d-4cda-a88a-ec87b8153f3f",
   "metadata": {},
   "outputs": [
    {
     "name": "stdout",
     "output_type": "stream",
     "text": [
      "index 0 has value 1 \n",
      "index 1 has value 2 \n",
      "index 2 has value 3 \n"
     ]
    }
   ],
   "source": [
    "#enumerate\n",
    "lst=[1,2,3]\n",
    "for index,num in enumerate(lst,start=1):\n",
    "    print(\"index {0} has value {1} \".format(index,num))"
   ]
  },
  {
   "cell_type": "code",
   "execution_count": null,
   "id": "ebfd8819-8ba5-4ebf-8aff-b95b3fa28781",
   "metadata": {},
   "outputs": [],
   "source": []
  },
  {
   "cell_type": "code",
   "execution_count": 86,
   "id": "c0a734b1-a726-4fc5-9008-d3554dbf77ac",
   "metadata": {},
   "outputs": [
    {
     "name": "stdout",
     "output_type": "stream",
     "text": [
      "[1, 2, 3, 4, 5, 6, 7, 8, 9]\n"
     ]
    }
   ],
   "source": [
    "def check_positive_no(num):\n",
    "    if num>0:\n",
    "        return num\n",
    "lst1_list=range(-10,10)\n",
    "\n",
    "lst2_positive=list(filter(check_positive_no,lst1_list))\n",
    "# lst2_positive=list(filter(lambda x:x>0,lst1_list))\n",
    "# lst2_positive=list(filter(lambda n:n%2!=0,lst1_list))\n",
    "\n",
    "print(lst2_positive)"
   ]
  },
  {
   "cell_type": "code",
   "execution_count": 87,
   "id": "39594b76-1046-4963-88cb-9ad158c3a781",
   "metadata": {},
   "outputs": [
    {
     "name": "stdout",
     "output_type": "stream",
     "text": [
      "[1, 4, 9, 16]\n",
      "[1, 8, 27, 64]\n"
     ]
    }
   ],
   "source": [
    "#map applies a function to all the items in an i/p list\n",
    "#syntax map(function to apply,list_of_input)\n",
    "\n",
    "#case1 \n",
    "lst = [1,2,3,4]\n",
    "\n",
    "square=[]\n",
    "cube=[]\n",
    "\n",
    "for num in lst:\n",
    "    square.append(num**2)\n",
    "    cube.append(num**3)\n",
    "print(square)\n",
    "print(cube)"
   ]
  },
  {
   "cell_type": "code",
   "execution_count": 92,
   "id": "639f5a88-e49b-4362-a96d-ff2376e13918",
   "metadata": {},
   "outputs": [
    {
     "name": "stdout",
     "output_type": "stream",
     "text": [
      "[1, 4, 9, 16]\n",
      "[1, 4, 9, 16]\n"
     ]
    }
   ],
   "source": [
    "# case2\n",
    "lst = [1,2,3,4]\n",
    "\n",
    "def square(num):\n",
    "    return (num**2)\n",
    "\n",
    "result=list(map(square,[1,2,3,4]))\n",
    "print(result)\n",
    "\n",
    "\n",
    "# case 3\n",
    "squared = list(map(lambda x:x**2,[1,2,3,4]))\n",
    "print(squared)"
   ]
  },
  {
   "cell_type": "code",
   "execution_count": 93,
   "id": "b9c4bc2e-2695-410d-ac4f-ea02d4ff6248",
   "metadata": {},
   "outputs": [
    {
     "name": "stdout",
     "output_type": "stream",
     "text": [
      "24\n"
     ]
    }
   ],
   "source": [
    "# reduce () for performing some computations on list and returning the result\n",
    "# case 1\n",
    "lst = [1,2,3,4]\n",
    "product = 1\n",
    "\n",
    "for num in lst:\n",
    "    product*=num\n",
    "print(product)"
   ]
  },
  {
   "cell_type": "code",
   "execution_count": 95,
   "id": "030ec463-d07b-4470-b508-ab1a89104936",
   "metadata": {},
   "outputs": [
    {
     "name": "stdout",
     "output_type": "stream",
     "text": [
      "24\n"
     ]
    }
   ],
   "source": [
    "# case 2\n",
    "from functools import reduce \n",
    "\n",
    "def multiply(x,y):\n",
    "    return x*y\n",
    "\n",
    "result = reduce(multiply,[1,2,3,4])\n",
    "print(result)"
   ]
  },
  {
   "cell_type": "code",
   "execution_count": 96,
   "id": "c089d78c-c8f4-439b-8f60-1f092edda875",
   "metadata": {},
   "outputs": [
    {
     "name": "stdout",
     "output_type": "stream",
     "text": [
      "24\n"
     ]
    }
   ],
   "source": [
    "#case 3\n",
    "result = reduce(lambda x,y:x*y,[1,2,3,4])\n",
    "print(result)"
   ]
  },
  {
   "cell_type": "markdown",
   "id": "6f831a32-8937-4044-8219-7b71b44cbc88",
   "metadata": {},
   "source": [
    "#reduce it work on diuble argument , Map work on argument,filter work on single argument"
   ]
  },
  {
   "cell_type": "code",
   "execution_count": 122,
   "id": "ace01acd-fa98-4e77-81cd-1a5625178f5d",
   "metadata": {},
   "outputs": [
    {
     "name": "stdin",
     "output_type": "stream",
     "text": [
      "Enter the first number : 6\n",
      "Enter the second number : y\n"
     ]
    }
   ],
   "source": [
    "#calculator\n",
    "from functools import reduce \n",
    "\n",
    "num1=input(\"Enter the first number :\")\n",
    "if(num1.isdigit()):\n",
    "    num2=input(\"Enter the second number :\")\n",
    "    if(num2.isdigit()):\n",
    "        operators=(\"+\",\"-\",\"*\",\"/\")\n",
    "        result=0\n",
    "        op=input(\"Enter the operator :\")\n",
    "        if op in operators:\n",
    "            if op==\"+\":\n",
    "                result=reduce(lambda x,y:int(x)+int(y),(num1,num2))\n",
    "            elif op==\"-\":\n",
    "                result=reduce(lambda x,y:int(x)-int(y),(num1,num2))\n",
    "            elif op==\"*\":\n",
    "                result=reduce(lambda x,y:int(x)*int(y),(num1,num2))\n",
    "            elif op==\"/\":\n",
    "                if num2!=0:\n",
    "                    result=reduce(lambda x,y:int(x)/int(y),(num1,num2))\n",
    "                else:\n",
    "                    result=\"undefined\"\n",
    "            print(result)\n",
    "        else:\n",
    "            print(\"Invalid operator\")\n",
    "    else:\n",
    "        print(\"Enter only digits....\")\n",
    "else:\n",
    "    print(\"Enter only digits....\")\n",
    "\n",
    "        "
   ]
  },
  {
   "cell_type": "code",
   "execution_count": null,
   "id": "637a2c4c-dd80-4c2f-82f0-e74c714b5d4e",
   "metadata": {},
   "outputs": [],
   "source": [
    "from functools import reduce \n",
    "while (1):\n",
    "    num1=input(\"Enter the first number :\")\n",
    "    if"
   ]
  }
 ],
 "metadata": {
  "kernelspec": {
   "display_name": "Python 3 (ipykernel)",
   "language": "python",
   "name": "python3"
  },
  "language_info": {
   "codemirror_mode": {
    "name": "ipython",
    "version": 3
   },
   "file_extension": ".py",
   "mimetype": "text/x-python",
   "name": "python",
   "nbconvert_exporter": "python",
   "pygments_lexer": "ipython3",
   "version": "3.11.0"
  }
 },
 "nbformat": 4,
 "nbformat_minor": 5
}
