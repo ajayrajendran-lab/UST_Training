{
 "cells": [
  {
   "cell_type": "code",
   "execution_count": 1,
   "id": "9d080a4d-7cab-4ea6-abc8-8dee7eaedb79",
   "metadata": {},
   "outputs": [
    {
     "data": {
      "text/html": [
       "\n",
       "            <div>\n",
       "                <p><b>SparkSession - in-memory</b></p>\n",
       "                \n",
       "        <div>\n",
       "            <p><b>SparkContext</b></p>\n",
       "\n",
       "            <p><a href=\"http://172.19.3.230:4040\">Spark UI</a></p>\n",
       "\n",
       "            <dl>\n",
       "              <dt>Version</dt>\n",
       "                <dd><code>v3.5.5</code></dd>\n",
       "              <dt>Master</dt>\n",
       "                <dd><code>local[*]</code></dd>\n",
       "              <dt>AppName</dt>\n",
       "                <dd><code>SparK first</code></dd>\n",
       "            </dl>\n",
       "        </div>\n",
       "        \n",
       "            </div>\n",
       "        "
      ],
      "text/plain": [
       "<pyspark.sql.session.SparkSession at 0x2379872f7d0>"
      ]
     },
     "execution_count": 1,
     "metadata": {},
     "output_type": "execute_result"
    }
   ],
   "source": [
    "from pyspark import SparkContext\n",
    "from pyspark.sql import SparkSession\n",
    "spark=(\n",
    "    SparkSession\n",
    "    .builder\n",
    "    .appName(\"SparK first\")\n",
    "    .master(\"local[*]\")\n",
    "    .getOrCreate()\n",
    ")\n",
    "spark"
   ]
  },
  {
   "cell_type": "markdown",
   "id": "97169d97-fd28-4120-871a-f2cb4256156f",
   "metadata": {},
   "source": [
    "# READING FILE "
   ]
  },
  {
   "cell_type": "code",
   "execution_count": 24,
   "id": "ce9d693b-5b05-404f-88ce-cbb60bb6bba0",
   "metadata": {},
   "outputs": [],
   "source": [
    "df=spark.read.csv(\"C:\\\\Users\\\\Administrator\\\\Downloads\\\\final_data.csv\",header=True,inferSchema=True,mode=\"permissive\")"
   ]
  },
  {
   "cell_type": "code",
   "execution_count": 2,
   "id": "dd780acf-e009-4e06-bb3f-25f8d237f7e5",
   "metadata": {},
   "outputs": [],
   "source": [
    "df=spark.read.csv(\"C:\\\\Users\\\\Administrator\\\\Downloads\\\\final_data.csv\",header=True,inferSchema=True,mode=\"dropMalformed\")"
   ]
  },
  {
   "cell_type": "code",
   "execution_count": 4,
   "id": "2176e8b3-fa86-4c7c-997e-a07ae8ac5b9d",
   "metadata": {},
   "outputs": [
    {
     "data": {
      "text/plain": [
       "19302"
      ]
     },
     "execution_count": 4,
     "metadata": {},
     "output_type": "execute_result"
    }
   ],
   "source": [
    "df.count()"
   ]
  },
  {
   "cell_type": "code",
   "execution_count": 5,
   "id": "486143c5-8165-4532-bd46-486d16cc2cd9",
   "metadata": {},
   "outputs": [
    {
     "data": {
      "text/plain": [
       "'C:\\\\Users\\\\Administrator'"
      ]
     },
     "execution_count": 5,
     "metadata": {},
     "output_type": "execute_result"
    }
   ],
   "source": [
    "import os\n",
    "os.getcwd()"
   ]
  },
  {
   "cell_type": "markdown",
   "id": "5882b662-1659-42c7-b134-6a227ccbeffd",
   "metadata": {},
   "source": [
    "# REPRESENTING SAMPLE ROWS"
   ]
  },
  {
   "cell_type": "code",
   "execution_count": 18,
   "id": "681048a0-2c72-4761-b9dc-84aaa89c6e3b",
   "metadata": {},
   "outputs": [
    {
     "name": "stdout",
     "output_type": "stream",
     "text": [
      "+---------------------+----------------+--------------------+--------------+------+-----------+------+------+--------------------+------------+-----+-----+-------+------------------+--------+--------------------+----------+--------------------+----------+------------------+-----------+--------+\n",
      "|trans_date_trans_time|          cc_num|            merchant|      category|   amt|      first|  last|gender|              street|        city|state|  zip|    lat|              long|city_pop|                 job|       dob|           trans_num| unix_time|         merch_lat| merch_long|is_fraud|\n",
      "+---------------------+----------------+--------------------+--------------+------+-----------+------+------+--------------------+------------+-----+-----+-------+------------------+--------+--------------------+----------+--------------------+----------+------------------+-----------+--------+\n",
      "|  2019-08-11 19:38:33|4681601008538160|fraud_Hermann and...|  shopping_pos| 50.81|      Tammy| Davis|     F|77663 Colleen Fre...| Moundsville|   WV|26041|39.9148|-80.73100000000001|   16183|     Physiotherapist|1977-08-12|f64003a5726ca9951...|1344713913|         39.238053| -81.728984|       0|\n",
      "|  2020-02-21 13:31:42|4653879239169997|fraud_Cronin, Ksh...|health_fitness|  1.97|     Monica|Tucker|     F|302 Christina Isl...|Smiths Grove|   KY|42171|37.0581|          -86.1938|    6841|   Therapist, sports|1999-06-06|f8e25094098b22a8e...|1361453502|         36.665575| -85.608885|       0|\n",
      "|  2019-09-03 02:39:49|4334230547694630|fraud_Rutherford-...|   grocery_pos|100.18|      Scott|Martin|     M|  7483 Navarro Flats|     Freedom|   WY|83120|43.0172|         -111.0292|     471|Education officer...|1967-08-02|291160a410748e5be...|1346639989|43.362578000000006|-110.580382|       0|\n",
      "|  2020-03-31 02:39:04|2256234701263057|  fraud_Kris-Padberg|  shopping_pos|  7.67|Christopher|Grimes|     M|   39631 Dunn Radial|    Grantham|   NH| 3753|43.5103|          -72.1334|    2971|  Charity fundraiser|1948-04-11|df716fe9ce97522bc...|1364697544|         44.312773| -71.555079|       0|\n",
      "|  2020-12-05 07:58:57|6011948324228984|fraud_Towne, Gree...|  shopping_net| 478.1|   Mckenzie|Brooks|     F| 3872 Matthew Skyway|       Paris|   MS|38949|34.1992|           -89.382|     297|Administrator, lo...|1961-12-14|c33bcd8c63d50b4fe...|1386230337|34.362314000000005| -89.623306|       0|\n",
      "+---------------------+----------------+--------------------+--------------+------+-----------+------+------+--------------------+------------+-----+-----+-------+------------------+--------+--------------------+----------+--------------------+----------+------------------+-----------+--------+\n",
      "only showing top 5 rows\n",
      "\n"
     ]
    }
   ],
   "source": [
    "df.show(5)"
   ]
  },
  {
   "cell_type": "markdown",
   "id": "601dbbb2-c560-431e-bfb9-f7a8eb768ce6",
   "metadata": {},
   "source": [
    "# PRINTING SCHEMA"
   ]
  },
  {
   "cell_type": "code",
   "execution_count": 5,
   "id": "5445c7d8-1d25-4831-87b5-12e62cb7872c",
   "metadata": {},
   "outputs": [
    {
     "name": "stdout",
     "output_type": "stream",
     "text": [
      "root\n",
      " |-- trans_date_trans_time: timestamp (nullable = true)\n",
      " |-- cc_num: long (nullable = true)\n",
      " |-- merchant: string (nullable = true)\n",
      " |-- category: string (nullable = true)\n",
      " |-- amt: double (nullable = true)\n",
      " |-- first: string (nullable = true)\n",
      " |-- last: string (nullable = true)\n",
      " |-- gender: string (nullable = true)\n",
      " |-- street: string (nullable = true)\n",
      " |-- city: string (nullable = true)\n",
      " |-- state: string (nullable = true)\n",
      " |-- zip: integer (nullable = true)\n",
      " |-- lat: double (nullable = true)\n",
      " |-- long: double (nullable = true)\n",
      " |-- city_pop: integer (nullable = true)\n",
      " |-- job: string (nullable = true)\n",
      " |-- dob: date (nullable = true)\n",
      " |-- trans_num: string (nullable = true)\n",
      " |-- unix_time: integer (nullable = true)\n",
      " |-- merch_lat: double (nullable = true)\n",
      " |-- merch_long: double (nullable = true)\n",
      " |-- is_fraud: integer (nullable = true)\n",
      "\n"
     ]
    }
   ],
   "source": [
    "df.printSchema()"
   ]
  },
  {
   "cell_type": "markdown",
   "id": "5e519942-0c31-43e2-9358-c4fd1e5c4609",
   "metadata": {},
   "source": [
    "# SELECTING REQUIRED COLUMNS FOR FURTHER CALCULATIONS"
   ]
  },
  {
   "cell_type": "code",
   "execution_count": 10,
   "id": "14887022-f57e-4daf-a1a2-72f656b27d06",
   "metadata": {},
   "outputs": [],
   "source": [
    "is_fraud_df=df.select(\"first\",\"last\",\"merchant\",\"city\",\"category\",\"amt\",\"gender\",\"dob\",\"state\",\"trans_date_trans_time\",\"is_fraud\").where(df.is_fraud==1)\n",
    "is_fraud_df=is_fraud_df.distinct()"
   ]
  },
  {
   "cell_type": "code",
   "execution_count": 11,
   "id": "2c3b0011-7ba6-4517-b48c-ee6fd06d7b28",
   "metadata": {},
   "outputs": [
    {
     "name": "stdout",
     "output_type": "stream",
     "text": [
      "+-----------+---------+--------------------+-------------+-------------+-------+------+----------+-----+---------------------+--------+\n",
      "|      first|     last|            merchant|         city|     category|    amt|gender|       dob|state|trans_date_trans_time|is_fraud|\n",
      "+-----------+---------+--------------------+-------------+-------------+-------+------+----------+-----+---------------------+--------+\n",
      "|     Briana|   Santos|fraud_Towne, Gree...|   New Goshen| shopping_net| 905.28|     F|1960-01-06|   IN|  2019-01-15 15:15:18|       1|\n",
      "|    Dorothy|   Thomas|fraud_Heidenreich...|      Milford|  grocery_pos|  301.8|     F|1996-11-12|   OH|  2019-01-22 00:04:52|       1|\n",
      "|     Joseph|    Davis|fraud_Mosciski, Z...|     Nazareth| shopping_net|1146.99|     M|1980-07-30|   TX|  2019-02-03 23:19:40|       1|\n",
      "|      Aaron|   Murray|fraud_Zieme, Bode...|    Meadville|gas_transport|   6.79|     M|1974-12-23|   MO|  2019-02-08 00:26:01|       1|\n",
      "|       Lisa|Carpenter|fraud_Conroy-Crui...|    La Grande|gas_transport|   9.91|     F|1961-06-16|   OR|  2019-02-08 01:52:20|       1|\n",
      "|   Michelle| Anderson|fraud_Strosin-Cru...|       Albany|  grocery_pos| 271.04|     F|1939-06-01|   NY|  2019-02-08 03:02:34|       1|\n",
      "|    Micheal|  Walters|fraud_Huel, Hamme...|      Hovland|  grocery_pos| 306.23|     M|2001-07-05|   MN|  2019-02-12 05:32:25|       1|\n",
      "|      Bryan|     Gill|   fraud_Mante Group|       Gaines|     misc_net| 828.62|     M|1966-08-03|   MI|  2019-02-23 22:06:43|       1|\n",
      "|     Sydney|  Morales|   fraud_Lockman Ltd|   Coulee Dam|  grocery_pos| 295.16|     F|1999-09-29|   WA|  2019-03-24 01:50:55|       1|\n",
      "|      Karen|   Warren|fraud_Stanton, Ja...|       Hahira| shopping_net|  934.9|     F|1997-12-26|   GA|  2019-03-30 23:52:19|       1|\n",
      "|       Adam|   Keller|fraud_Reilly, Hea...|       Sardis|gas_transport|  19.94|     M|1932-09-17|   AL|  2019-04-12 00:14:08|       1|\n",
      "|    Heather|  Stanton|      fraud_Mohr Inc|     Republic| shopping_pos|  830.2|     F|1964-04-22|   MI|  2019-05-04 22:36:28|       1|\n",
      "|    Jasmine|   Foster| fraud_Ankunding LLC|Phil Campbell| shopping_net|1131.15|     F|1952-12-05|   AL|  2019-05-15 23:59:58|       1|\n",
      "|   Kimberly|     Rice|   fraud_Streich Ltd|        Tyler|         home| 247.47|     F|1984-05-04|   TX|  2019-06-19 22:18:46|       1|\n",
      "|      Tracy|   Conway|fraud_McGlynn-Hea...|     Bonfield|     misc_net| 752.39|     F|1990-04-25|   IL|  2019-06-23 02:58:24|       1|\n",
      "|      Jason|   Farmer|    fraud_Terry-Huel|      Ragland| shopping_net|1073.88|     M|1998-02-03|   AL|  2019-08-11 19:05:00|       1|\n",
      "|     Shelby| Mitchell|fraud_Goodwin-Nit...|      Brandon|  grocery_pos| 325.11|     F|1975-07-13|   VT|  2019-08-27 05:39:21|       1|\n",
      "|  Christine|    Davis|fraud_Christianse...|     Humboldt|gas_transport|  16.33|     F|1955-01-20|   AZ|  2019-09-14 02:47:53|       1|\n",
      "|Christopher|Contreras| fraud_Stamm-Witting| Beaver Falls| shopping_net|1106.38|     M|1970-03-16|   PA|  2019-11-03 23:29:32|       1|\n",
      "|     Angela|     West|     fraud_Kuhic LLC|    Mansfield| shopping_net| 956.44|     F|1968-05-29|   OH|  2019-11-15 23:58:30|       1|\n",
      "+-----------+---------+--------------------+-------------+-------------+-------+------+----------+-----+---------------------+--------+\n",
      "only showing top 20 rows\n",
      "\n"
     ]
    }
   ],
   "source": [
    "is_fraud_df.show()"
   ]
  },
  {
   "cell_type": "code",
   "execution_count": 6,
   "id": "a3846328-ea69-43bc-b40f-b0f8d6751348",
   "metadata": {},
   "outputs": [
    {
     "data": {
      "text/plain": [
       "9651"
      ]
     },
     "execution_count": 6,
     "metadata": {},
     "output_type": "execute_result"
    }
   ],
   "source": [
    "is_fraud_df.count()"
   ]
  },
  {
   "cell_type": "markdown",
   "id": "b594074d-756e-4095-8d4a-40d06110a2cf",
   "metadata": {},
   "source": [
    "# TOP FIVE CITIES WHERE MOST FRAUDULENET TRANSACTION OCCURES"
   ]
  },
  {
   "cell_type": "code",
   "execution_count": 12,
   "id": "c87c08f1-b680-43a7-aaac-8a5bc83588b6",
   "metadata": {},
   "outputs": [
    {
     "name": "stdout",
     "output_type": "stream",
     "text": [
      "+-------------+-----+\n",
      "|         city|count|\n",
      "+-------------+-----+\n",
      "|       Dallas|   39|\n",
      "|      Houston|   39|\n",
      "|   Birmingham|   36|\n",
      "|New York City|   35|\n",
      "|       Camden|   34|\n",
      "+-------------+-----+\n",
      "only showing top 5 rows\n",
      "\n"
     ]
    }
   ],
   "source": [
    "top_five_cities=is_fraud_df.groupBy(\"city\").count().orderBy(\"count\",ascending=False).show(5)"
   ]
  },
  {
   "cell_type": "markdown",
   "id": "765f9227-2004-4a05-8d87-327d6d6b01aa",
   "metadata": {},
   "source": [
    "# MOST fREQUENT CATEGORIES ASSOCIATED WITH FRAUDULENET TRANSACTIONS"
   ]
  },
  {
   "cell_type": "code",
   "execution_count": 13,
   "id": "eccf89b6-766c-4b02-ae86-e7e166dd95b8",
   "metadata": {},
   "outputs": [
    {
     "name": "stdout",
     "output_type": "stream",
     "text": [
      "+-------------+-----+\n",
      "|     category|count|\n",
      "+-------------+-----+\n",
      "|  grocery_pos| 2228|\n",
      "| shopping_net| 2219|\n",
      "|     misc_net| 1182|\n",
      "| shopping_pos| 1056|\n",
      "|gas_transport|  772|\n",
      "+-------------+-----+\n",
      "only showing top 5 rows\n",
      "\n"
     ]
    }
   ],
   "source": [
    "top_categories=is_fraud_df.groupBy(\"category\").count().orderBy(\"count\",ascending=False).show(5)"
   ]
  },
  {
   "cell_type": "markdown",
   "id": "323eb218-d018-436c-89fb-71c2c1e3e801",
   "metadata": {},
   "source": [
    "# TOP TEN MOST FREQUENT MERCHANTS FOR FRAUDULANT TRANSACTIONS"
   ]
  },
  {
   "cell_type": "code",
   "execution_count": 14,
   "id": "cd99ac41-4360-454a-bbdd-9261d13d1816",
   "metadata": {},
   "outputs": [
    {
     "name": "stdout",
     "output_type": "stream",
     "text": [
      "+--------------------+-----+\n",
      "|            merchant|count|\n",
      "+--------------------+-----+\n",
      "|   fraud_Kilback LLC|   62|\n",
      "|  fraud_Rau and Sons|   60|\n",
      "|   fraud_Kozey-Boehm|   60|\n",
      "|     fraud_Doyle Ltd|   57|\n",
      "|    fraud_Terry-Huel|   56|\n",
      "|      fraud_Kuhn LLC|   55|\n",
      "|     fraud_Boyer PLC|   55|\n",
      "|     fraud_Kuhic LLC|   53|\n",
      "|fraud_Moen, Reing...|   53|\n",
      "|fraud_Kiehn-Emmerich|   53|\n",
      "+--------------------+-----+\n",
      "only showing top 10 rows\n",
      "\n"
     ]
    }
   ],
   "source": [
    "top_ten_merchants=is_fraud_df.groupBy(\"merchant\").count().orderBy(\"count\",ascending=False).show(10)"
   ]
  },
  {
   "cell_type": "markdown",
   "id": "66a53b02-52dc-4950-9788-084993fbfb6e",
   "metadata": {},
   "source": [
    "# AVERAGE AMOUNT SPEND BY EACH GENDER"
   ]
  },
  {
   "cell_type": "code",
   "execution_count": 14,
   "id": "c0253fb6-a977-44b3-9bc2-05fa9aca9651",
   "metadata": {},
   "outputs": [
    {
     "name": "stdout",
     "output_type": "stream",
     "text": [
      "+------+------------------+\n",
      "|gender|          avg(amt)|\n",
      "+------+------------------+\n",
      "|     M|330.50721562156156|\n",
      "|     F|271.71298766157497|\n",
      "+------+------------------+\n",
      "\n"
     ]
    }
   ],
   "source": [
    "average_expense=df.groupBy(\"gender\").agg({\"amt\": \"avg\"}).orderBy(\"gender\",ascending=False).show()"
   ]
  },
  {
   "cell_type": "markdown",
   "id": "cc44eace-2477-4b61-8f6d-b92cd3c19dee",
   "metadata": {},
   "source": [
    "# AVERAGE MERCHANT EXPENSE"
   ]
  },
  {
   "cell_type": "code",
   "execution_count": 126,
   "id": "f1c717a3-0e7b-4c85-ade8-5ab889d786ea",
   "metadata": {},
   "outputs": [
    {
     "name": "stdout",
     "output_type": "stream",
     "text": [
      "+--------------------+------------------+\n",
      "|            merchant|          avg(amt)|\n",
      "+--------------------+------------------+\n",
      "|    fraud_Zulauf LLC|            18.785|\n",
      "|fraud_Zieme, Bode...|11.623000000000001|\n",
      "|fraud_Ziemann-Waters|            18.936|\n",
      "|fraud_Zemlak, Til...|             18.91|\n",
      "|  fraud_Zemlak Group| 790.3808333333335|\n",
      "|fraud_Zboncak, Ro...| 993.9307894736845|\n",
      "|   fraud_Zboncak Ltd|           113.332|\n",
      "|   fraud_Zboncak LLC|          121.3175|\n",
      "|   fraud_Yost-Rogahn|34.214285714285715|\n",
      "|fraud_Yost, Scham...|             17.44|\n",
      "|fraud_Yost, Block...|116.91428571428573|\n",
      "|fraud_Wuckert-Walter|11.682500000000001|\n",
      "|fraud_Wuckert-Gol...|246.58499999999998|\n",
      "|fraud_Wuckert, Wi...|            264.89|\n",
      "|      fraud_Wolf Inc| 312.7386666666667|\n",
      "|fraud_Wiza, Schad...|29.354999999999997|\n",
      "|      fraud_Wiza LLC|155.18714285714285|\n",
      "|fraud_Witting, Be...|240.59333333333333|\n",
      "|fraud_Wisozk and ...|200.31888888888892|\n",
      "|fraud_Wintheiser,...|247.72142857142856|\n",
      "+--------------------+------------------+\n",
      "only showing top 20 rows\n",
      "\n"
     ]
    }
   ],
   "source": [
    "average_merchant_expense=df.groupBy(\"merchant\").agg({\"amt\": \"avg\"}).orderBy(\"merchant\",ascending=False).show()"
   ]
  },
  {
   "cell_type": "markdown",
   "id": "ab6ca280-759c-41a6-8b5c-53792f9f56e5",
   "metadata": {},
   "source": [
    "# TOP 5 STATES WITH HIGHEST NUMBER OF TRANSACTIONS"
   ]
  },
  {
   "cell_type": "code",
   "execution_count": 15,
   "id": "c0511443-863a-48c5-b17a-908fcee7c19b",
   "metadata": {},
   "outputs": [
    {
     "name": "stdout",
     "output_type": "stream",
     "text": [
      "+-----+-----+\n",
      "|state|count|\n",
      "+-----+-----+\n",
      "|   NY| 1290|\n",
      "|   TX| 1287|\n",
      "|   PA| 1153|\n",
      "|   CA|  857|\n",
      "|   OH|  687|\n",
      "+-----+-----+\n",
      "only showing top 5 rows\n",
      "\n"
     ]
    }
   ],
   "source": [
    "top_five_states=df.groupBy(\"state\").count().orderBy(\"count\",ascending=False).show(5)"
   ]
  },
  {
   "cell_type": "code",
   "execution_count": 17,
   "id": "bd0db86b-e7cb-4629-8ed8-d2ecf71e472a",
   "metadata": {},
   "outputs": [],
   "source": [
    "from pyspark.sql.functions import year,month,current_date,to_date"
   ]
  },
  {
   "cell_type": "markdown",
   "id": "008cf190-b079-40bd-b250-9058d5ebb6d1",
   "metadata": {},
   "source": [
    "# FINDING THE AGE OF ALL CUSTOMERS"
   ]
  },
  {
   "cell_type": "code",
   "execution_count": 63,
   "id": "25d58c0b-a908-4b5f-b237-1c9930ff0663",
   "metadata": {},
   "outputs": [
    {
     "name": "stdout",
     "output_type": "stream",
     "text": [
      "+-------+--------+----------+---+\n",
      "|  first|    last|       dob|age|\n",
      "+-------+--------+----------+---+\n",
      "|  Aaron|  Murray|1974-12-23| 51|\n",
      "|  Aaron|    Pena|1950-11-27| 75|\n",
      "|  Aaron|  Rogers|1945-03-15| 80|\n",
      "|  Aaron| Stewart|1995-04-22| 30|\n",
      "|   Adam|  Keller|1932-09-17| 93|\n",
      "|   Adam|    Kirk|1931-09-12| 94|\n",
      "|   Adam|Mcdonald|1991-01-31| 34|\n",
      "|   Adam|  Riddle|1974-05-30| 51|\n",
      "|   Adam|  Santos|1982-07-30| 43|\n",
      "|   Adam|   Stark|1997-07-01| 28|\n",
      "|Adriana|  Harvey|1950-09-15| 75|\n",
      "|   Alan|   Colon|1993-09-11| 32|\n",
      "|   Alan|  Howard|1946-11-01| 79|\n",
      "|   Alan| Parsons|1955-12-04| 70|\n",
      "|   Alan|  Taylor|1953-04-13| 72|\n",
      "|   Alex|   Singh|1970-01-09| 55|\n",
      "|   Alex|   White|1968-09-19| 57|\n",
      "|  Alice|    Kemp|1985-04-15| 40|\n",
      "| Alicia|  Bishop|1950-03-25| 75|\n",
      "| Alicia| Hawkins|1933-03-15| 92|\n",
      "+-------+--------+----------+---+\n",
      "only showing top 20 rows\n",
      "\n"
     ]
    }
   ],
   "source": [
    "all_users = is_fraud_df.select(\n",
    "    \"first\", \"last\", \"dob\", \"amt\",\n",
    "    (year(current_date()) - year(col(\"dob\"))).alias(\"age\")\n",
    ")\n",
    "\n",
    "distinct_users=all_users.select(\"first\", \"last\",\"dob\", \"age\").distinct().orderBy(\"first\", \"last\")\n",
    "distinct_users.count()\n",
    "distinct_users.show()"
   ]
  },
  {
   "cell_type": "code",
   "execution_count": 57,
   "id": "4e34a5c5-f188-48f0-9134-beb60cf25a1d",
   "metadata": {},
   "outputs": [
    {
     "data": {
      "text/plain": [
       "9651"
      ]
     },
     "execution_count": 57,
     "metadata": {},
     "output_type": "execute_result"
    }
   ],
   "source": [
    "all_users.count()"
   ]
  },
  {
   "cell_type": "code",
   "execution_count": 64,
   "id": "3bb9dce2-3f62-4cd1-b0c2-f3be455c771f",
   "metadata": {},
   "outputs": [
    {
     "data": {
      "text/plain": [
       "976"
      ]
     },
     "execution_count": 64,
     "metadata": {},
     "output_type": "execute_result"
    }
   ],
   "source": [
    "distinct_users.count()"
   ]
  },
  {
   "cell_type": "markdown",
   "id": "85a92e2d-2cea-484b-b520-9f014ec76376",
   "metadata": {},
   "source": [
    "# DISTRIBUTION OF TRANSACTION OVER THE COURSE OF THE MONTH"
   ]
  },
  {
   "cell_type": "code",
   "execution_count": 22,
   "id": "f2f989d4-5310-419b-9927-de7396b7007c",
   "metadata": {},
   "outputs": [
    {
     "name": "stdout",
     "output_type": "stream",
     "text": [
      "+----------------+----------------+-----+\n",
      "|transaction_year|transaction_date|count|\n",
      "+----------------+----------------+-----+\n",
      "|            2019|              12| 1293|\n",
      "|            2020|              12| 1020|\n",
      "|            2020|               6|  925|\n",
      "|            2020|               5|  910|\n",
      "|            2020|               8|  872|\n",
      "|            2019|               3|  847|\n",
      "|            2019|               8|  822|\n",
      "|            2020|               3|  817|\n",
      "|            2019|               6|  816|\n",
      "|            2019|               9|  812|\n",
      "|            2019|               1|  809|\n",
      "|            2019|              10|  806|\n",
      "|            2020|               7|  788|\n",
      "|            2019|               7|  775|\n",
      "|            2019|               5|  764|\n",
      "|            2019|               2|  755|\n",
      "|            2019|               4|  755|\n",
      "|            2020|              10|  741|\n",
      "|            2019|              11|  741|\n",
      "|            2020|               9|  701|\n",
      "+----------------+----------------+-----+\n",
      "only showing top 20 rows\n",
      "\n"
     ]
    }
   ],
   "source": [
    "all_months=df.select((year(\"trans_date_trans_time\").alias(\"transaction_year\")),(month(\"trans_date_trans_time\").alias(\"transaction_date\"))).groupBy(\"transaction_year\",\"transaction_date\").count().orderBy(\"count\",ascending=False).show()"
   ]
  },
  {
   "cell_type": "markdown",
   "id": "d9bb79b7-ddb3-4d5f-a0ee-7b99d981db3c",
   "metadata": {},
   "source": [
    "# RELATIONSHIP BETWEEN TRANSACTION DATE FRAUD OCCURANCE"
   ]
  },
  {
   "cell_type": "code",
   "execution_count": 29,
   "id": "5cf5831a-4d12-489c-84a5-a1d451ec147e",
   "metadata": {},
   "outputs": [
    {
     "name": "stdout",
     "output_type": "stream",
     "text": [
      "+----------+-----+\n",
      "|      date|count|\n",
      "+----------+-----+\n",
      "|2019-01-02|    7|\n",
      "|2019-01-03|   12|\n",
      "|2019-01-04|   13|\n",
      "|2019-01-05|   13|\n",
      "|2019-01-06|    2|\n",
      "|2019-01-07|    4|\n",
      "|2019-01-08|   26|\n",
      "|2019-01-09|   23|\n",
      "|2019-01-10|    6|\n",
      "|2019-01-11|   16|\n",
      "|2019-01-12|   21|\n",
      "|2019-01-13|   29|\n",
      "|2019-01-14|   37|\n",
      "|2019-01-15|   36|\n",
      "|2019-01-16|   20|\n",
      "|2019-01-17|   16|\n",
      "|2019-01-18|   20|\n",
      "|2019-01-19|   21|\n",
      "|2019-01-20|   25|\n",
      "|2019-01-21|   17|\n",
      "+----------+-----+\n",
      "only showing top 20 rows\n",
      "\n"
     ]
    }
   ],
   "source": [
    "all_dates=is_fraud_df.select((to_date(\"trans_date_trans_time\")).alias(\"date\")).groupBy(\"date\").count().orderBy(\"date\").show()"
   ]
  },
  {
   "cell_type": "code",
   "execution_count": null,
   "id": "2010cd8a-f792-4c2f-9b23-33295b8ac83e",
   "metadata": {},
   "outputs": [],
   "source": []
  },
  {
   "cell_type": "code",
   "execution_count": 67,
   "id": "f52dc401-f3e9-4dc2-bf06-169135af8551",
   "metadata": {},
   "outputs": [],
   "source": [
    "from pyspark.sql.functions import when,col"
   ]
  },
  {
   "cell_type": "code",
   "execution_count": 69,
   "id": "a9bdc078-45f8-4d14-a306-7fec627fd82f",
   "metadata": {},
   "outputs": [],
   "source": [
    "all_users = all_users.withColumn(\n",
    "    \"age_group\",\n",
    "    when((all_users[\"age\"] >= 18) & (all_users[\"age\"] <= 25), \"18-25\")\n",
    "    .when((all_users[\"age\"] >= 26) & (all_users[\"age\"] <= 35), \"26-35\")\n",
    "    .when((all_users[\"age\"] >= 36) & (all_users[\"age\"] <= 45), \"36-45\")\n",
    "    .when((all_users[\"age\"] >= 46) & (all_users[\"age\"] <= 55), \"46-55\")\n",
    "    .when((all_users[\"age\"] >= 56) & (all_users[\"age\"] <= 65), \"56-65\")\n",
    "    .when((all_users[\"age\"] >= 66) & (all_users[\"age\"] <= 75), \"66-75\")\n",
    "    .when((all_users[\"age\"] >= 76) & (all_users[\"age\"] <= 85), \"76-85\")\n",
    "    .when((all_users[\"age\"] >= 86) & (all_users[\"age\"] <= 95), \"86-95\")\n",
    "    .otherwise(\"95+\")\n",
    ")"
   ]
  },
  {
   "cell_type": "code",
   "execution_count": 78,
   "id": "a5a1cc43-de0c-4ab5-bd1e-49ef294804a1",
   "metadata": {},
   "outputs": [
    {
     "name": "stdout",
     "output_type": "stream",
     "text": [
      "+---------+-----------------+\n",
      "|age_group|         avg(amt)|\n",
      "+---------+-----------------+\n",
      "|    18-25| 606.911682692308|\n",
      "|    26-35|530.0065985960447|\n",
      "|    36-45|497.6876395348848|\n",
      "|    46-55|461.6840605368364|\n",
      "|    56-65|566.7271636953004|\n",
      "|    66-75|576.2418645558481|\n",
      "|    76-85| 576.577811671087|\n",
      "|    86-95|537.2805781584578|\n",
      "|      95+|563.1383163265306|\n",
      "+---------+-----------------+\n",
      "\n"
     ]
    }
   ],
   "source": [
    "age_pattern=all_users.groupBy(\"age_group\").agg({\"amt\": \"avg\"}).orderBy(\"age_group\").show()"
   ]
  },
  {
   "cell_type": "code",
   "execution_count": null,
   "id": "40ce1d51-a3c1-4572-90a7-a5f68267c10c",
   "metadata": {},
   "outputs": [],
   "source": []
  }
 ],
 "metadata": {
  "kernelspec": {
   "display_name": "PySpark",
   "language": "python",
   "name": "pyspark"
  },
  "language_info": {
   "codemirror_mode": {
    "name": "ipython",
    "version": 3
   },
   "file_extension": ".py",
   "mimetype": "text/x-python",
   "name": "python",
   "nbconvert_exporter": "python",
   "pygments_lexer": "ipython3",
   "version": "3.11.0"
  }
 },
 "nbformat": 4,
 "nbformat_minor": 5
}
